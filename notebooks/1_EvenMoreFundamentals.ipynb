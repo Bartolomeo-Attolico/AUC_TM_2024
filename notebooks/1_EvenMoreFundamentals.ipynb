{
  "cells": [
    {
      "cell_type": "markdown",
      "metadata": {
        "id": "93tPGJ3DVNly"
      },
      "source": [
        "# Even More Python Fundamentals"
      ]
    },
    {
      "cell_type": "code",
      "execution_count": 47,
      "metadata": {
        "id": "iAYnBKBVVNl4"
      },
      "outputs": [],
      "source": [
        "## Notebook settings \n",
        "\n",
        "# multiple lines of output per cell\n",
        "from IPython.core.interactiveshell import InteractiveShell\n",
        "InteractiveShell.ast_node_interactivity = \"all\""
      ]
    },
    {
      "cell_type": "markdown",
      "metadata": {
        "id": "VnnuGgDWVNl6"
      },
      "source": [
        ">### Today\n",
        ">\n",
        "> - Modules and Packages\n",
        ">\n",
        ">\n",
        "> - The Python Standard Library"
      ]
    },
    {
      "cell_type": "markdown",
      "metadata": {
        "id": "HbjQFiuUVNl6"
      },
      "source": [
        "## Modules and Packages\n",
        "\n",
        "Logically, Python modules are groupings of related code that are structures as to facilitate its re-use. \n",
        "\n",
        "Physically, modules are `.py` files implementing a set of **functions, classes or variables**, as well as **executable statements**, that can be accessed from other modules by using the `import` command."
      ]
    },
    {
      "cell_type": "markdown",
      "metadata": {
        "id": "ql_pCzRTVNl8"
      },
      "source": [
        "The `import` command can be used both to import **the whole code** of a module, using the following syntax:\n",
        "\n",
        "```python\n",
        "import module\n",
        "```\n",
        "\n",
        "or just **specific attributes** (one or more functions, variables, classes or a combination of these) with the following syntax:\n",
        "\n",
        "```python\n",
        "from module import name1, name2, name3\n",
        "```"
      ]
    },
    {
      "cell_type": "markdown",
      "metadata": {
        "id": "vBD7MZ33VNl_"
      },
      "source": [
        "For example, if order to know what is our current working directory, we can use the function `getcwd()` available `os` module (see below) in two different ways:"
      ]
    },
    {
      "cell_type": "code",
      "execution_count": 48,
      "metadata": {
        "id": "AMj-XQnSVNmB",
        "outputId": "fe98e03f-024c-4aad-9e19-a670f257c2cc"
      },
      "outputs": [
        {
          "data": {
            "text/plain": [
              "'/Users/bartolomeoattolico/Desktop/AUC/AUC-Y-3/Text_Mining/AUC_TM_2024/notebooks'"
            ]
          },
          "execution_count": 48,
          "metadata": {},
          "output_type": "execute_result"
        }
      ],
      "source": [
        "import os\n",
        "os.getcwd()"
      ]
    },
    {
      "cell_type": "markdown",
      "metadata": {
        "id": "PtnzrPuuVNmC"
      },
      "source": [
        "Note that all the other functions of the module are available as well"
      ]
    },
    {
      "cell_type": "code",
      "execution_count": 49,
      "metadata": {
        "id": "WdROySvdVNmD",
        "outputId": "b94f86dd-8078-4737-cec8-4cff52ed46b9"
      },
      "outputs": [
        {
          "name": "stdout",
          "output_type": "stream",
          "text": [
            "['tmp_folder', '9_Recommender_Systems.ipynb', '4_Vector_Semantics.ipynb', '5_WordEmbeddings.ipynb', '11_Sentiment_Analysis.ipynb', '3_WordNet.ipynb', '6_ML.ipynb', '7_2_PyTorch.ipynb', 'images', '12_Clustering_TopicModelling.ipynb', '7_1_Classification.ipynb', '0_HelloWorld.ipynb', '5_WordEmbeddings_gensim4.ipynb', 'stuff', '1_RegularExpressions.ipynb', '1_ScientificProgramming.ipynb', 'Data_files_in_Colab.ipynb', '3_Distributions_in_text.ipynb', '1_Fundamentals.ipynb', '1_EvenMoreFundamentals.ipynb', '1_MoreFundamentals.ipynb', '8_1_NER.ipynb', '2_NLP_pipelines.ipynb', '10_WebScraping_APIs.ipynb', 'data']\n"
          ]
        }
      ],
      "source": [
        "# os.list(path) returns the names of the entries in the folder \"path\"\n",
        "print(os.listdir(os.getcwd()))"
      ]
    },
    {
      "cell_type": "markdown",
      "metadata": {
        "id": "w4coZkTgVNmE"
      },
      "source": [
        "**Important**: use the `dir(module_name)` function to list all the attributes available in a (loaded) module"
      ]
    },
    {
      "cell_type": "code",
      "execution_count": 50,
      "metadata": {
        "id": "BSKR2-1xVNmE",
        "outputId": "5b2968d6-a458-4474-c34b-5d3ee21e7995"
      },
      "outputs": [
        {
          "name": "stdout",
          "output_type": "stream",
          "text": [
            "True\n"
          ]
        }
      ],
      "source": [
        "import numpy\n",
        "print(\"arccos\" in dir(numpy))"
      ]
    },
    {
      "cell_type": "code",
      "execution_count": 51,
      "metadata": {
        "id": "gUYHhOZaVNmF",
        "outputId": "45f5de17-e656-427f-bd01-5f1f6f542c7f"
      },
      "outputs": [
        {
          "name": "stdout",
          "output_type": "stream",
          "text": [
            "['In', 'InteractiveShell', 'Out', '_', '_10', '_11', '_17', '_2', '_21', '_22', '_28', '_30', '_31', '_32', '_34', '_35', '_36', '_37', '_48', '_6', '_7', '__', '___', '__builtin__', '__builtins__', '__doc__', '__loader__', '__name__', '__package__', '__spec__', '__vsc_ipynb_file__', '_dh', '_i', '_i1', '_i10', '_i11', '_i12', '_i13', '_i14', '_i15', '_i16', '_i17', '_i18', '_i19', '_i2', '_i20', '_i21', '_i22', '_i23', '_i24', '_i25', '_i26', '_i27', '_i28', '_i29', '_i3', '_i30', '_i31', '_i32', '_i33', '_i34', '_i35', '_i36', '_i37', '_i38', '_i39', '_i4', '_i40', '_i41', '_i42', '_i43', '_i44', '_i45', '_i46', '_i47', '_i48', '_i49', '_i5', '_i50', '_i51', '_i6', '_i7', '_i8', '_i9', '_ih', '_ii', '_iii', '_oh', 'collections', 'csv', 'dirpath_infos', 'entry', 'exit', 'folder_name', 'foo', 'get_ipython', 'getcwd', 'glob', 'header', 'infile', 'line', 'list2write', 'np', 'numpy', 'open', 'os', 'outfile', 'quit', 'reload', 'row', 'scrubs_reader', 'scrubs_writer', 'shutil', 'students', 'this', 'tm_counter', 'z']\n"
          ]
        }
      ],
      "source": [
        "# NOTE that Without arguments, `dir()` lists all names (variables, modules, functions etc.) defined currently\n",
        "foo = 10\n",
        "print(dir())"
      ]
    },
    {
      "cell_type": "markdown",
      "metadata": {
        "id": "ynJPR2OfVNmG"
      },
      "source": [
        "#### [Method 2]: importing only the needed attributes"
      ]
    },
    {
      "cell_type": "code",
      "execution_count": 52,
      "metadata": {
        "id": "qKTDxrgNVNmG",
        "outputId": "714b9375-59f2-43b1-d570-558a3e4f8db4"
      },
      "outputs": [
        {
          "data": {
            "text/plain": [
              "'/Users/bartolomeoattolico/Desktop/AUC/AUC-Y-3/Text_Mining/AUC_TM_2024/notebooks'"
            ]
          },
          "execution_count": 52,
          "metadata": {},
          "output_type": "execute_result"
        }
      ],
      "source": [
        "from os import getcwd\n",
        "getcwd()"
      ]
    },
    {
      "cell_type": "markdown",
      "metadata": {
        "id": "DueYqHJwVNmH"
      },
      "source": [
        "**Important**: Note that the syntax adopted in the import statement influence the way attributes are called:\n",
        "\n",
        "- if the whole module is imported, then the attribute is called as **`module.attribute`** (e.g. `os.getcwd()`)\n",
        "\n",
        "\n",
        "- if only the attribute is imported, than it can be accessed simply as **`attribute`** (e.g. `getcwd()`)"
      ]
    },
    {
      "cell_type": "markdown",
      "metadata": {
        "id": "5FlgtxqVVNmH"
      },
      "source": [
        "**Import as [local name]**"
      ]
    },
    {
      "cell_type": "code",
      "execution_count": 53,
      "metadata": {
        "id": "3mZKyhcZVNmI",
        "outputId": "42c50f6b-b661-4f22-bb33-3f31c73ec482"
      },
      "outputs": [
        {
          "name": "stdout",
          "output_type": "stream",
          "text": [
            "[1 2 3]\n"
          ]
        }
      ],
      "source": [
        "import numpy as np\n",
        "z = np.array([1, 2, 3])\n",
        "print(z)"
      ]
    },
    {
      "cell_type": "markdown",
      "metadata": {
        "id": "vq3er6IbVNmI"
      },
      "source": [
        "#### Re-loading a module\n",
        "\n",
        "The first time you import a module or a function in a module (i.e. no matter the `import` syntax you adopt), all the code in the module source file is run at once. If another module, or the user in the interactive shell, import the module a second time, **nothing happens**. The Python interpreter won't load that code twice.\n",
        "\n",
        "This can be seen clearly by importing the \"Zen of Python\" twice:"
      ]
    },
    {
      "cell_type": "code",
      "execution_count": 1,
      "metadata": {
        "id": "qaivteziVNmI",
        "outputId": "9d7d51ec-6d4d-4eb5-a53f-9260beeb0887"
      },
      "outputs": [
        {
          "name": "stdout",
          "output_type": "stream",
          "text": [
            "The Zen of Python, by Tim Peters\n",
            "\n",
            "Beautiful is better than ugly.\n",
            "Explicit is better than implicit.\n",
            "Simple is better than complex.\n",
            "Complex is better than complicated.\n",
            "Flat is better than nested.\n",
            "Sparse is better than dense.\n",
            "Readability counts.\n",
            "Special cases aren't special enough to break the rules.\n",
            "Although practicality beats purity.\n",
            "Errors should never pass silently.\n",
            "Unless explicitly silenced.\n",
            "In the face of ambiguity, refuse the temptation to guess.\n",
            "There should be one-- and preferably only one --obvious way to do it.\n",
            "Although that way may not be obvious at first unless you're Dutch.\n",
            "Now is better than never.\n",
            "Although never is often better than *right* now.\n",
            "If the implementation is hard to explain, it's a bad idea.\n",
            "If the implementation is easy to explain, it may be a good idea.\n",
            "Namespaces are one honking great idea -- let's do more of those!\n"
          ]
        }
      ],
      "source": [
        "import this"
      ]
    },
    {
      "cell_type": "code",
      "execution_count": 55,
      "metadata": {
        "id": "9AM83Op_VNmJ"
      },
      "outputs": [],
      "source": [
        "# the second time nothing happens\n",
        "import this"
      ]
    },
    {
      "cell_type": "markdown",
      "metadata": {
        "id": "X7qSF061VNmK"
      },
      "source": [
        "This behavior can be bypassed by importing a previously imported module with the `reload()` function:"
      ]
    },
    {
      "cell_type": "code",
      "execution_count": 56,
      "metadata": {
        "id": "r1EyerKTVNmK",
        "outputId": "28c8c337-c212-49e4-90e8-be961e1dedbd"
      },
      "outputs": [
        {
          "name": "stdout",
          "output_type": "stream",
          "text": [
            "The Zen of Python, by Tim Peters\n",
            "\n",
            "Beautiful is better than ugly.\n",
            "Explicit is better than implicit.\n",
            "Simple is better than complex.\n",
            "Complex is better than complicated.\n",
            "Flat is better than nested.\n",
            "Sparse is better than dense.\n",
            "Readability counts.\n",
            "Special cases aren't special enough to break the rules.\n",
            "Although practicality beats purity.\n",
            "Errors should never pass silently.\n",
            "Unless explicitly silenced.\n",
            "In the face of ambiguity, refuse the temptation to guess.\n",
            "There should be one-- and preferably only one --obvious way to do it.\n",
            "Although that way may not be obvious at first unless you're Dutch.\n",
            "Now is better than never.\n",
            "Although never is often better than *right* now.\n",
            "If the implementation is hard to explain, it's a bad idea.\n",
            "If the implementation is easy to explain, it may be a good idea.\n",
            "Namespaces are one honking great idea -- let's do more of those!\n"
          ]
        },
        {
          "data": {
            "text/plain": [
              "<module 'this' from '/Users/bartolomeoattolico/miniconda3/envs/TM/lib/python3.8/this.py'>"
            ]
          },
          "execution_count": 56,
          "metadata": {},
          "output_type": "execute_result"
        }
      ],
      "source": [
        "from importlib import reload\n",
        "reload(this)"
      ]
    },
    {
      "cell_type": "markdown",
      "metadata": {
        "id": "X6__1N2gVNmL"
      },
      "source": [
        "### (Extra) Style Guide for Python Imports\n",
        "\n",
        "> extracted from: [PEP 8 -- Style Guide for Python Code](https://www.python.org/dev/peps/pep-0008/#imports)\n",
        "\n",
        "#### Imports should usually be on separate lines\n",
        "\n",
        "```python\n",
        "import os\n",
        "import sys\n",
        "```\n",
        "\n",
        "- **don't** do this:\n",
        "\n",
        "```python\n",
        "import os, sys\n",
        "```\n",
        "\n",
        "- while this is ok:\n",
        "\n",
        "```python\n",
        "from subprocess import Popen, PIPE\n",
        "```\n",
        "\n",
        "#### Placement\n",
        "\n",
        "Imports are always put **at the top of the file**, just after any module comments and docstrings, and before module globals and constants. They should be grouped in the following **order** (groups should be separated by blank lines):\n",
        "\n",
        "1. future-imports\n",
        "2. standard library imports\n",
        "3. related third party imports\n",
        "4. local application/library specific imports\n",
        "\n",
        "For instance:\n",
        "\n",
        "```python\n",
        "from __future__ import division\n",
        "\n",
        "import os\n",
        "import sys\n",
        "\n",
        "import numpy\n",
        "import matplotlib\n",
        "\n",
        "import my_measures\n",
        "```\n",
        "\n",
        "- Module level \"dunders\" (i.e. names with two leading and two trailing underscores) such as `__author__` and `__version__`, should be placed after the module docstring but before any import statements (except from `__future__` imports). For instance:\n",
        "\n",
        "```python\n",
        "\"\"\" This is a sample docstring\n",
        "\n",
        "It doesn't do anything, really\n",
        "\"\"\"\n",
        "\n",
        "from __future__ import division\n",
        "\n",
        "__version__ = '0.0'\n",
        "\n",
        "__author__ = \"Tom Marvolo Riddle\"\n",
        "\n",
        "import os\n",
        "import sys\n",
        "```\n",
        "\n",
        "#### Absolute imports\n",
        "\n",
        "The use of relative imports (quite common in the past) turned out to be a bad idea. As a general rules, use absolute imports whenever possible. Simply put, they are more readable and behave better:\n",
        "\n",
        "```python\n",
        "import mypkg.sibling\n",
        "from mypkg import sibling\n",
        "from mypkg.sibling import example\n",
        "```\n",
        "\n",
        "Relative imports looks like (but **don't** do it): \n",
        "\n",
        "```python\n",
        "from . import sibling\n",
        "```\n",
        "\n",
        "#### AVOID wildcard imports\n",
        "\n",
        "It is not uncommon to bump into code where modules are imported by using wildcards, such as in:\n",
        "\n",
        "```python\n",
        "from module import *\n",
        "```\n",
        "\n",
        "This practice can be harmful, in that it messes up the namespace (both for the human and the computer). \n",
        "\n",
        "While there can be a situation in which this practice can be defended (i.e. to republish an internal interface as part of a public API), in general it should be avoided."
      ]
    },
    {
      "cell_type": "markdown",
      "metadata": {
        "id": "RZ_OuXpiVNmO"
      },
      "source": [
        "### Modules Location\n",
        "\n",
        "After receiving an `import` instruction, the Python interpreter searches for the requested module in the following locations:\n",
        "\n",
        "- the current working directory\n",
        "\n",
        "\n",
        "- (if not found) each directory in the environmental variable PYTHONPATH\n",
        "\n",
        "\n",
        "- (if nothing else works) the installation-dependent default path"
      ]
    },
    {
      "cell_type": "markdown",
      "metadata": {
        "collapsed": true,
        "id": "CzRTwevFVNmQ"
      },
      "source": [
        "Want to know where the (compiled) source code of a module you've imported is located in your HD? Use the `__file__` method"
      ]
    },
    {
      "cell_type": "code",
      "execution_count": 57,
      "metadata": {
        "id": "rFq7hs4dVNmR",
        "outputId": "aa9f3eb5-a4f0-40d6-c6d8-0281273585ec"
      },
      "outputs": [
        {
          "data": {
            "text/plain": [
              "'/Users/bartolomeoattolico/miniconda3/envs/TM/lib/python3.8/os.py'"
            ]
          },
          "execution_count": 57,
          "metadata": {},
          "output_type": "execute_result"
        }
      ],
      "source": [
        "import os\n",
        "os.__file__"
      ]
    },
    {
      "cell_type": "markdown",
      "metadata": {
        "id": "c1hu3MdCVNmR"
      },
      "source": [
        "### Writing Modules\n",
        "\n",
        "In itself, writing a Python module is a trivial process: simply create a `[module_name].py` and import it in another file (or in the shell) by executing an `import [module_name]` statement. Try the following exercise:\n",
        "\n",
        "- In you current working directory (`%pwd`), create a text file called `exemplar_module.py`\n",
        "\n",
        "\n",
        "- Open this file and copy the following source code:"
      ]
    },
    {
      "cell_type": "markdown",
      "metadata": {
        "id": "4MfLrmF8VNmR"
      },
      "source": [
        "```python \n",
        "def schedule_meeting(week_day_numer):\n",
        "    weekdays = [\"zondag\", \"maandag\", \"dinsdag\", \"woensdag\", \"donderdag\", \"vrijdag\", \"zaterdag\"]\n",
        "    print(\"the meeting is scheduled for \" + weekdays[week_day_numer])\n",
        "```"
      ]
    },
    {
      "cell_type": "markdown",
      "metadata": {
        "id": "2KqhnonpVNmS"
      },
      "source": [
        "- import the function `schedule_meeting()` from this module and call it."
      ]
    },
    {
      "cell_type": "markdown",
      "metadata": {
        "id": "OnAfCQ2lVNmS"
      },
      "source": [
        "As we've said before, modules can contain **executable statements**. These statements are executed **only the first time** the module is imported, and are executed **also when the module is run as a script** (i.e. from the shell)."
      ]
    },
    {
      "cell_type": "markdown",
      "metadata": {
        "id": "7yzJa2grVNmS"
      },
      "source": [
        "When these statements are used to **initialize the module**, this behavior is not problematic (actually, that's why the interpreter works in this way)."
      ]
    },
    {
      "cell_type": "markdown",
      "metadata": {
        "id": "qqM3trAQVNmS"
      },
      "source": [
        "This behavior is unwanted when we have portion of the code that are intended to be run **solely when the module is run as a script**. The solution is to have this portion of code inside an `if __name__ == \"__main__\":` statement **at the bottom** of the script.\n",
        "\n",
        "Try the following exercise:\n",
        "\n",
        "- In you current working directory (`%pwd`), create a text file called `exemplar_module_main.py`\n",
        "\n",
        "\n",
        "- Open this file and copy the following source code:"
      ]
    },
    {
      "cell_type": "markdown",
      "metadata": {
        "id": "DfNcI6kiVNmT"
      },
      "source": [
        "```python \n",
        "def schedule_meeting(week_day_numer):\n",
        "    weekdays = [\"zondag\", \"maandag\", \"dinsdag\", \"woensdag\", \"donderdag\", \"vrijdag\", \"zaterdag\"]\n",
        "    print(\"the meeting is scheduled for \" + weekdays[week_day_numer])\n",
        "\n",
        "if __name__ == \"__main__\":\n",
        "    print(\"I won't show up when imported!\")\n",
        "```"
      ]
    },
    {
      "cell_type": "markdown",
      "metadata": {
        "id": "ursisqyKVNmT"
      },
      "source": [
        "- if you import the module, no message is printed..."
      ]
    },
    {
      "cell_type": "markdown",
      "metadata": {
        "id": "GY8jeVmrVNmT"
      },
      "source": [
        "- Contrary to what happens if you execute the script from the command line: `!python exemplar_module_main.py`"
      ]
    },
    {
      "cell_type": "markdown",
      "metadata": {
        "collapsed": true,
        "id": "obTAMXV0VNmT"
      },
      "source": [
        "**Explanation**: when the Python interpreter reads a source file, it automatically sets the variable `__name__` to:\n",
        "\n",
        "- the module name if it is imported\n",
        "\n",
        "- `\"__main__\"` if the module is run as the main program file"
      ]
    },
    {
      "cell_type": "markdown",
      "metadata": {
        "id": "mLSas6gmVNmU"
      },
      "source": [
        "### Writing Packages\n",
        "\n",
        "*\"Packages are a way of structuring Python’s module namespace by using “dotted module names”. For example, the module name `A.B` designates a submodule named `B` in a package named `A`\"* (source: [documentation](https://docs.python.org/2/tutorial/modules.html#packages)).\n",
        "\n",
        "Simply put, packages are hierarchical directory structures organizing an environment composed by modules and subpackages. Directories of this sort are recognized by the Python interpreter because they **have to contain** a file called `__init__.py`. The content of this file (e.g. initialization code, declaration of some sort, it may even be empty) is roughly irrelevant."
      ]
    },
    {
      "cell_type": "markdown",
      "metadata": {
        "id": "F4lEB_6TVNmU"
      },
      "source": [
        "Try the following exercise:\n",
        "\n",
        "- In your current working directory (%pwd), create a folder called `exemplar_package`\n",
        "\n",
        "\n",
        "- In this subfolder, create an empty text file called `__init__.py`\n",
        "\n",
        "\n",
        "- In this folder, create another text file called `exemplar_module_main.py`, in which you have to copy the following source code:"
      ]
    },
    {
      "cell_type": "markdown",
      "metadata": {
        "id": "zX7J5EVzVNmU"
      },
      "source": [
        "```python \n",
        "def schedule_meeting(week_day_numer):\n",
        "    weekdays = [\"sunday\", \"monday\", \"tuesday\", \"wednesday\", \"thursday\", \"friday\", \"saturday\"]\n",
        "    print(\"the meeting is scheduled for \" + weekdays[week_day_numer])\n",
        "\n",
        "if __name__ == \"__main__\":\n",
        "    print(\"I won't show up when imported!\")\n",
        "```"
      ]
    },
    {
      "cell_type": "markdown",
      "metadata": {
        "collapsed": true,
        "id": "9pP1aOU0VNmV"
      },
      "source": [
        "We can import this module and execute its only function in the following way:"
      ]
    },
    {
      "cell_type": "markdown",
      "metadata": {
        "id": "l8bDblYQVNmV"
      },
      "source": [
        "```python\n",
        "import exemplar_package.exemplar_module_main\n",
        "exemplar_package.exemplar_module_main.schedule_meeting(4)\n",
        "```"
      ]
    },
    {
      "cell_type": "markdown",
      "metadata": {
        "id": "HiCXF2afVNmV"
      },
      "source": [
        "Note that we didn't override the dutch-y version of `schedule_meeting` import from the module in our working directory."
      ]
    },
    {
      "cell_type": "markdown",
      "metadata": {
        "id": "h2gwuVpTVNmV"
      },
      "source": [
        "Functions can be imported directly as well (note that in this way we override the `schedule_meeting` function from the older module)"
      ]
    },
    {
      "cell_type": "markdown",
      "metadata": {
        "id": "msnTWHsMVNmV"
      },
      "source": [
        "```python\n",
        "from exemplar_package.exemplar_module_main import schedule_meeting\n",
        "schedule_meeting(4)\n",
        "```"
      ]
    },
    {
      "cell_type": "markdown",
      "metadata": {
        "id": "FDdtzzwcVNmV"
      },
      "source": [
        "---"
      ]
    },
    {
      "cell_type": "markdown",
      "metadata": {
        "id": "4khRE_nhVNmW"
      },
      "source": [
        "## Batteries Included: the Python Standard Library \n",
        "\n",
        "One of the Python's mostly cited strengths is the so-called \"batteries included\" philosophy, that translates into real life as the fact that the Python source distribution comes with a rich library of tools. "
      ]
    },
    {
      "cell_type": "markdown",
      "metadata": {
        "collapsed": true,
        "id": "ZqfnRnPpVNmW"
      },
      "source": [
        "### A Quick Tour of (some of) the \"batteries\" we will depend on"
      ]
    },
    {
      "cell_type": "markdown",
      "metadata": {
        "id": "4tM5qGqdVNmW"
      },
      "source": [
        "##### OS Interface\n",
        "\n",
        "The `os` module provides 500+ **platform-independent** functions that allows us to interact with the OS.\n",
        "\n",
        "Exemplar functions of this module include:\n",
        "\n",
        "- `os.getcwd()`: Return the current working directory\n",
        "- `os.chdir(path/to/directory)`: Change the current working directory to `path/to/directory`\n",
        "- `os.rename(source/path, target/path)`: Rename a file or directory `source/path` as `target/path`\n",
        "- `os.remove(path/to/file)`: Remove the `path/to/file` file\n",
        "- `os.makedirs(path/to/folder)`: Create the `path/to/folder` folder\n",
        "- `os.path.exists(path/to/file)`: Check if the `path/to/file` file exists\n",
        "- `os.path.isdir(path/to/folder)`: Check if the `path/to/folder` folder exists\n",
        "- `os.path.split(a/path)`: Split `a/path` into a pair \"(head, tail)\", where \"tail\" is the last component (e.g. a filename) and \"head\" is the rest of the path\n",
        "- `os.path.join(head/path, tail/path)`: Appends the `tail/path` to the `head/path`\n",
        "\n",
        "But the `os` module can be used also to retrieve system information, to manage processes, to create files and so forth."
      ]
    },
    {
      "cell_type": "markdown",
      "metadata": {
        "collapsed": true,
        "id": "5bT1KTeiVNmW"
      },
      "source": [
        "The Python Standard Library includes higher level alternatives to this module, among which the `tempfile` module to create temporary files, the `shutil` module for high-level file and directory handling (e.g. to copy or move a file) and `glob` to perform directory wildcard searches.\n"
      ]
    },
    {
      "cell_type": "markdown",
      "metadata": {
        "id": "0Ntp4XwbVNmW"
      },
      "source": [
        "##### [Case 1]: Create a new folder (by overwriting existing folder)\n",
        "\n",
        "The function `os.makedirs(folder/path)` creates a new directory, but raises an error exception if the directory already exists:"
      ]
    },
    {
      "cell_type": "code",
      "execution_count": 58,
      "metadata": {
        "id": "JDjaagR4VNmW"
      },
      "outputs": [],
      "source": [
        "folder_name = \"tmp_folder\""
      ]
    },
    {
      "cell_type": "code",
      "execution_count": 59,
      "metadata": {
        "id": "ic0AvH0YVNmX",
        "outputId": "1b118354-0d09-43a4-e00e-fbc930b12566"
      },
      "outputs": [
        {
          "name": "stdout",
          "output_type": "stream",
          "text": [
            "[Errno 17] File exists: 'tmp_folder'\n"
          ]
        }
      ],
      "source": [
        "try:\n",
        "    os.makedirs(folder_name)\n",
        "    print(\"created!\")\n",
        "except OSError as e:\n",
        "    print (e)"
      ]
    },
    {
      "cell_type": "code",
      "execution_count": 60,
      "metadata": {
        "id": "dRZ2ojkmVNmY",
        "outputId": "6f7e9c90-2786-41a7-fd0b-322f04407faa"
      },
      "outputs": [
        {
          "name": "stdout",
          "output_type": "stream",
          "text": [
            "[Errno 17] File exists: 'tmp_folder'\n"
          ]
        }
      ],
      "source": [
        "try:\n",
        "    os.makedirs(folder_name)\n",
        "    print(\"created!\")\n",
        "except OSError as e:\n",
        "    print (e)"
      ]
    },
    {
      "cell_type": "markdown",
      "metadata": {
        "id": "COk8AnihVNmY"
      },
      "source": [
        "The `shutil` module offers the function `rmtree(path/to/folder)` to delete an entire directory, together with its files and subdirectories\n",
        "\n",
        "**Always double check!**"
      ]
    },
    {
      "cell_type": "code",
      "execution_count": 61,
      "metadata": {
        "id": "A0n1Us20VNmZ"
      },
      "outputs": [],
      "source": [
        "import shutil"
      ]
    },
    {
      "cell_type": "code",
      "execution_count": 62,
      "metadata": {
        "id": "6teiXbP4VNmZ",
        "outputId": "6c28bef9-a432-4315-e49f-dfd3fc144200"
      },
      "outputs": [
        {
          "name": "stdout",
          "output_type": "stream",
          "text": [
            "deleted and created!\n"
          ]
        }
      ],
      "source": [
        "try:\n",
        "    os.makedirs(folder_name)\n",
        "    print(\"created!\")\n",
        "except OSError:\n",
        "    shutil.rmtree(folder_name)\n",
        "    os.makedirs(folder_name)\n",
        "    print(\"deleted and created!\")"
      ]
    },
    {
      "cell_type": "markdown",
      "metadata": {
        "id": "HYgrTxvVVNmZ"
      },
      "source": [
        "**NOTES:**\n",
        "\n",
        "- the module `os` offers the function `rmdir()` to delete a directory. Why didn't we use this? Because it only works **when the directory is empty**.\n",
        "\n",
        "\n",
        "- we could have used the `os.path.exists()` function to check if a directory exists. However, there's a chance the directory can be created between the `os.path.exists()` and the `os.makedirs()` calls, resulting in an OSError."
      ]
    },
    {
      "cell_type": "markdown",
      "metadata": {
        "id": "j5tqs_B1VNma"
      },
      "source": [
        "##### [Case 2]: List files and/or subfolders in a folder\n",
        "\n",
        "There are at least three functions in the python standard library that allows you to navigate a folder:"
      ]
    },
    {
      "cell_type": "markdown",
      "metadata": {
        "id": "dKrEj_8GVNma"
      },
      "source": [
        "**[`os.listdir()`]** returns a list of all the entries (i.e. files, links, subfolders...) in a directory:"
      ]
    },
    {
      "cell_type": "code",
      "execution_count": 63,
      "metadata": {
        "id": "EcXmviJXVNma",
        "outputId": "8083293f-274b-4471-a646-c2fef149f6cf"
      },
      "outputs": [
        {
          "data": {
            "text/plain": [
              "['tmp_folder',\n",
              " '9_Recommender_Systems.ipynb',\n",
              " '4_Vector_Semantics.ipynb',\n",
              " '5_WordEmbeddings.ipynb',\n",
              " '11_Sentiment_Analysis.ipynb',\n",
              " '3_WordNet.ipynb',\n",
              " '6_ML.ipynb',\n",
              " '7_2_PyTorch.ipynb',\n",
              " 'images',\n",
              " '12_Clustering_TopicModelling.ipynb',\n",
              " '7_1_Classification.ipynb',\n",
              " '0_HelloWorld.ipynb',\n",
              " '5_WordEmbeddings_gensim4.ipynb',\n",
              " 'stuff',\n",
              " '1_RegularExpressions.ipynb',\n",
              " '1_ScientificProgramming.ipynb',\n",
              " 'Data_files_in_Colab.ipynb',\n",
              " '3_Distributions_in_text.ipynb',\n",
              " '1_Fundamentals.ipynb',\n",
              " '1_EvenMoreFundamentals.ipynb',\n",
              " '1_MoreFundamentals.ipynb',\n",
              " '8_1_NER.ipynb',\n",
              " '2_NLP_pipelines.ipynb',\n",
              " '10_WebScraping_APIs.ipynb',\n",
              " 'data']"
            ]
          },
          "execution_count": 63,
          "metadata": {},
          "output_type": "execute_result"
        }
      ],
      "source": [
        "# let's see what's in our working directory\n",
        "os.listdir(os.getcwd())"
      ]
    },
    {
      "cell_type": "code",
      "execution_count": 90,
      "metadata": {
        "id": "kObfnlfnVNma",
        "outputId": "abc5306c-d370-48b7-cf53-e0e5ff31b0da"
      },
      "outputs": [
        {
          "name": "stdout",
          "output_type": "stream",
          "text": [
            "9_Recommender_Systems.ipynb\n",
            "4_Vector_Semantics.ipynb\n",
            "5_WordEmbeddings.ipynb\n",
            "11_Sentiment_Analysis.ipynb\n",
            "3_WordNet.ipynb\n",
            "6_ML.ipynb\n",
            "7_2_PyTorch.ipynb\n",
            "12_Clustering_TopicModelling.ipynb\n",
            "7_1_Classification.ipynb\n",
            "0_HelloWorld.ipynb\n",
            "5_WordEmbeddings_gensim4.ipynb\n",
            "1_RegularExpressions.ipynb\n",
            "1_ScientificProgramming.ipynb\n",
            "Data_files_in_Colab.ipynb\n",
            "3_Distributions_in_text.ipynb\n",
            "1_Fundamentals.ipynb\n",
            "1_EvenMoreFundamentals.ipynb\n",
            "1_MoreFundamentals.ipynb\n",
            "8_1_NER.ipynb\n",
            "2_NLP_pipelines.ipynb\n",
            "10_WebScraping_APIs.ipynb\n"
          ]
        }
      ],
      "source": [
        "# it may have sense to select only the file entries:\n",
        "for entry in os.listdir(os.getcwd()):\n",
        "    if os.path.isfile(entry):\n",
        "        print(entry)"
      ]
    },
    {
      "cell_type": "markdown",
      "metadata": {
        "id": "cUaLXP5iVNmb"
      },
      "source": [
        "**[`os.walk()`]** navigates the directory top-down (or bottom-up, if specified) and returns, for each directory, a 3-tuple `(dirpath, dirnames, filenames)`: `dirpath` is the path to the directory, `dirnames` is a list of the names of the subdirectories, `filenames` is a list of the names of the non-directory files."
      ]
    },
    {
      "cell_type": "code",
      "execution_count": 65,
      "metadata": {
        "id": "aFtBxTtIVNmb",
        "outputId": "db39b7f7-5f4b-480a-d230-b2628d837713"
      },
      "outputs": [
        {
          "name": "stdout",
          "output_type": "stream",
          "text": [
            "('/Users/bartolomeoattolico/Desktop/AUC/AUC-Y-3/Text_Mining/AUC_TM_2024/notebooks', ['tmp_folder', 'images', 'stuff', 'data'], ['9_Recommender_Systems.ipynb', '4_Vector_Semantics.ipynb', '5_WordEmbeddings.ipynb', '11_Sentiment_Analysis.ipynb', '3_WordNet.ipynb', '6_ML.ipynb', '7_2_PyTorch.ipynb', '12_Clustering_TopicModelling.ipynb', '7_1_Classification.ipynb', '0_HelloWorld.ipynb', '5_WordEmbeddings_gensim4.ipynb', '1_RegularExpressions.ipynb', '1_ScientificProgramming.ipynb', 'Data_files_in_Colab.ipynb', '3_Distributions_in_text.ipynb', '1_Fundamentals.ipynb', '1_EvenMoreFundamentals.ipynb', '1_MoreFundamentals.ipynb', '8_1_NER.ipynb', '2_NLP_pipelines.ipynb', '10_WebScraping_APIs.ipynb'])\n",
            "('/Users/bartolomeoattolico/Desktop/AUC/AUC-Y-3/Text_Mining/AUC_TM_2024/notebooks/tmp_folder', [], [])\n",
            "('/Users/bartolomeoattolico/Desktop/AUC/AUC-Y-3/Text_Mining/AUC_TM_2024/notebooks/images', [], ['supervised-classification.png', 'Indent.png', 'weighting-users.png', 'ipython.png', 'unicode.png', 'string-slicing.png', 'multilayerperceptron_network.png', 'pathlen.png', 'notebook-ui.png', 'SA-techniques.png', 'tokens-types.png', 'array-memory.png', 'treeStructure.png', 'jupyter.png', 'batteries_included.png', 'list-slicing.png', 'sentiwordnet.png', 'nltk-downloader.png', 'vectors-similarity.png', 'weighting-item.png', '3dvectors.png', 'hr.png', 'pipeline.png', 'k-means.png', 'ic.png', 'auc.png', 'lcs.png', 'corpus-org.png', 'fibonacci_tree.png', 'DOM-table.gif', 'spyder-nice-docstring-rendering.png', 'precision-recall.png'])\n",
            "('/Users/bartolomeoattolico/Desktop/AUC/AUC-Y-3/Text_Mining/AUC_TM_2024/notebooks/stuff', [], ['tweets_on_boris.csv', 'fun.py', 'output-test-1.txt', 'conf_public.conf', 'output-test-2.txt', 'tweets_from_boris.csv'])\n",
            "('/Users/bartolomeoattolico/Desktop/AUC/AUC-Y-3/Text_Mining/AUC_TM_2024/notebooks/data', ['gutenberg-extension'], ['exemplar-lineplot.png', 'exemplar-lineplot.pdf', 'example_default_setting.csv', 'wordSim353.csv', 'ml-1m.zip', 'blogdata.txt', 'elonmusk_tweets.csv', 'example_alternative_settings.csv', 'zebo.txt', 'example_output.csv', 'output-test.txt', 'hr.png', 'k-means.png', 'tongue-twisters.txt', 'lexicon.txt', 'adams-hhgttg.txt'])\n",
            "('/Users/bartolomeoattolico/Desktop/AUC/AUC-Y-3/Text_Mining/AUC_TM_2024/notebooks/data/gutenberg-extension', [], ['doyle-sherlock.txt', 'stoker-dracula.txt', 'README', 'shelley-frankestein.txt', 'austen-pride.txt', 'joyce-dubliners.txt'])\n"
          ]
        }
      ],
      "source": [
        "for dirpath_infos in os.walk(os.getcwd()):\n",
        "    print (dirpath_infos)"
      ]
    },
    {
      "cell_type": "markdown",
      "metadata": {
        "id": "kF7qWBh5VNmb"
      },
      "source": [
        "The `glob` module provides a function, **[`glob.glob()`]**, that returns all the directory entries that match a given pattern (without recursing into subdirectories). \n",
        "\n",
        "It can be used to find entries that have a given prefix, a given suffix or some key character sequences. "
      ]
    },
    {
      "cell_type": "code",
      "execution_count": 66,
      "metadata": {
        "id": "ErP742jTVNmb"
      },
      "outputs": [],
      "source": [
        "import glob"
      ]
    },
    {
      "cell_type": "markdown",
      "metadata": {
        "id": "ZveI5u8jVNmb"
      },
      "source": [
        "The `glob()` function supports two wildcards and character ranges:"
      ]
    },
    {
      "cell_type": "markdown",
      "metadata": {
        "id": "-uHI_1PIVNmc"
      },
      "source": [
        "- `*`: **zero or more characters** in a segment of a name"
      ]
    },
    {
      "cell_type": "code",
      "execution_count": 67,
      "metadata": {
        "id": "JkTWI3-xVNmd",
        "outputId": "75530f4e-925d-4e0e-d4f9-117f1d98495a"
      },
      "outputs": [
        {
          "data": {
            "text/plain": [
              "['/Users/bartolomeoattolico/Desktop/AUC/AUC-Y-3/Text_Mining/AUC_TM_2024/notebooks/9_Recommender_Systems.ipynb',\n",
              " '/Users/bartolomeoattolico/Desktop/AUC/AUC-Y-3/Text_Mining/AUC_TM_2024/notebooks/4_Vector_Semantics.ipynb',\n",
              " '/Users/bartolomeoattolico/Desktop/AUC/AUC-Y-3/Text_Mining/AUC_TM_2024/notebooks/5_WordEmbeddings.ipynb',\n",
              " '/Users/bartolomeoattolico/Desktop/AUC/AUC-Y-3/Text_Mining/AUC_TM_2024/notebooks/11_Sentiment_Analysis.ipynb',\n",
              " '/Users/bartolomeoattolico/Desktop/AUC/AUC-Y-3/Text_Mining/AUC_TM_2024/notebooks/3_WordNet.ipynb',\n",
              " '/Users/bartolomeoattolico/Desktop/AUC/AUC-Y-3/Text_Mining/AUC_TM_2024/notebooks/6_ML.ipynb',\n",
              " '/Users/bartolomeoattolico/Desktop/AUC/AUC-Y-3/Text_Mining/AUC_TM_2024/notebooks/7_2_PyTorch.ipynb',\n",
              " '/Users/bartolomeoattolico/Desktop/AUC/AUC-Y-3/Text_Mining/AUC_TM_2024/notebooks/12_Clustering_TopicModelling.ipynb',\n",
              " '/Users/bartolomeoattolico/Desktop/AUC/AUC-Y-3/Text_Mining/AUC_TM_2024/notebooks/7_1_Classification.ipynb',\n",
              " '/Users/bartolomeoattolico/Desktop/AUC/AUC-Y-3/Text_Mining/AUC_TM_2024/notebooks/0_HelloWorld.ipynb',\n",
              " '/Users/bartolomeoattolico/Desktop/AUC/AUC-Y-3/Text_Mining/AUC_TM_2024/notebooks/5_WordEmbeddings_gensim4.ipynb',\n",
              " '/Users/bartolomeoattolico/Desktop/AUC/AUC-Y-3/Text_Mining/AUC_TM_2024/notebooks/1_RegularExpressions.ipynb',\n",
              " '/Users/bartolomeoattolico/Desktop/AUC/AUC-Y-3/Text_Mining/AUC_TM_2024/notebooks/1_ScientificProgramming.ipynb',\n",
              " '/Users/bartolomeoattolico/Desktop/AUC/AUC-Y-3/Text_Mining/AUC_TM_2024/notebooks/Data_files_in_Colab.ipynb',\n",
              " '/Users/bartolomeoattolico/Desktop/AUC/AUC-Y-3/Text_Mining/AUC_TM_2024/notebooks/3_Distributions_in_text.ipynb',\n",
              " '/Users/bartolomeoattolico/Desktop/AUC/AUC-Y-3/Text_Mining/AUC_TM_2024/notebooks/1_Fundamentals.ipynb',\n",
              " '/Users/bartolomeoattolico/Desktop/AUC/AUC-Y-3/Text_Mining/AUC_TM_2024/notebooks/1_EvenMoreFundamentals.ipynb',\n",
              " '/Users/bartolomeoattolico/Desktop/AUC/AUC-Y-3/Text_Mining/AUC_TM_2024/notebooks/1_MoreFundamentals.ipynb',\n",
              " '/Users/bartolomeoattolico/Desktop/AUC/AUC-Y-3/Text_Mining/AUC_TM_2024/notebooks/8_1_NER.ipynb',\n",
              " '/Users/bartolomeoattolico/Desktop/AUC/AUC-Y-3/Text_Mining/AUC_TM_2024/notebooks/2_NLP_pipelines.ipynb',\n",
              " '/Users/bartolomeoattolico/Desktop/AUC/AUC-Y-3/Text_Mining/AUC_TM_2024/notebooks/10_WebScraping_APIs.ipynb']"
            ]
          },
          "execution_count": 67,
          "metadata": {},
          "output_type": "execute_result"
        }
      ],
      "source": [
        "# list all the .py files in the current working directory\n",
        "glob.glob(os.path.join(os.getcwd(), \"*.ipynb\"))"
      ]
    },
    {
      "cell_type": "markdown",
      "metadata": {
        "id": "OHQm1beaVNmf"
      },
      "source": [
        "- `?`: any **single character** in a segment of a name"
      ]
    },
    {
      "cell_type": "code",
      "execution_count": 68,
      "metadata": {
        "id": "j4GEiTUrVNmi",
        "outputId": "5faa708c-2117-459e-ddc2-53bdfb467e78"
      },
      "outputs": [
        {
          "data": {
            "text/plain": [
              "['/Users/bartolomeoattolico/Desktop/AUC/AUC-Y-3/Text_Mining/AUC_TM_2024/notebooks/9_Recommender_Systems.ipynb',\n",
              " '/Users/bartolomeoattolico/Desktop/AUC/AUC-Y-3/Text_Mining/AUC_TM_2024/notebooks/4_Vector_Semantics.ipynb',\n",
              " '/Users/bartolomeoattolico/Desktop/AUC/AUC-Y-3/Text_Mining/AUC_TM_2024/notebooks/5_WordEmbeddings.ipynb',\n",
              " '/Users/bartolomeoattolico/Desktop/AUC/AUC-Y-3/Text_Mining/AUC_TM_2024/notebooks/3_WordNet.ipynb',\n",
              " '/Users/bartolomeoattolico/Desktop/AUC/AUC-Y-3/Text_Mining/AUC_TM_2024/notebooks/6_ML.ipynb',\n",
              " '/Users/bartolomeoattolico/Desktop/AUC/AUC-Y-3/Text_Mining/AUC_TM_2024/notebooks/7_2_PyTorch.ipynb',\n",
              " '/Users/bartolomeoattolico/Desktop/AUC/AUC-Y-3/Text_Mining/AUC_TM_2024/notebooks/7_1_Classification.ipynb',\n",
              " '/Users/bartolomeoattolico/Desktop/AUC/AUC-Y-3/Text_Mining/AUC_TM_2024/notebooks/0_HelloWorld.ipynb',\n",
              " '/Users/bartolomeoattolico/Desktop/AUC/AUC-Y-3/Text_Mining/AUC_TM_2024/notebooks/5_WordEmbeddings_gensim4.ipynb',\n",
              " '/Users/bartolomeoattolico/Desktop/AUC/AUC-Y-3/Text_Mining/AUC_TM_2024/notebooks/1_RegularExpressions.ipynb',\n",
              " '/Users/bartolomeoattolico/Desktop/AUC/AUC-Y-3/Text_Mining/AUC_TM_2024/notebooks/1_ScientificProgramming.ipynb',\n",
              " '/Users/bartolomeoattolico/Desktop/AUC/AUC-Y-3/Text_Mining/AUC_TM_2024/notebooks/3_Distributions_in_text.ipynb',\n",
              " '/Users/bartolomeoattolico/Desktop/AUC/AUC-Y-3/Text_Mining/AUC_TM_2024/notebooks/1_Fundamentals.ipynb',\n",
              " '/Users/bartolomeoattolico/Desktop/AUC/AUC-Y-3/Text_Mining/AUC_TM_2024/notebooks/1_EvenMoreFundamentals.ipynb',\n",
              " '/Users/bartolomeoattolico/Desktop/AUC/AUC-Y-3/Text_Mining/AUC_TM_2024/notebooks/1_MoreFundamentals.ipynb',\n",
              " '/Users/bartolomeoattolico/Desktop/AUC/AUC-Y-3/Text_Mining/AUC_TM_2024/notebooks/8_1_NER.ipynb',\n",
              " '/Users/bartolomeoattolico/Desktop/AUC/AUC-Y-3/Text_Mining/AUC_TM_2024/notebooks/2_NLP_pipelines.ipynb']"
            ]
          },
          "execution_count": 68,
          "metadata": {},
          "output_type": "execute_result"
        }
      ],
      "source": [
        "# list all the tuesday notebook files\n",
        "glob.glob(os.path.join(os.getcwd(), \"?_*.ipynb\"))"
      ]
    },
    {
      "cell_type": "markdown",
      "metadata": {
        "id": "W8FezHIGVNmk"
      },
      "source": [
        "- selected characters can be specified by means of **character sets**, i.e. by placing the characters of choice between square braces"
      ]
    },
    {
      "cell_type": "markdown",
      "metadata": {
        "id": "TirBM-XMVNmk"
      },
      "source": [
        "##### Command Line Arguments\n",
        "\n",
        "When scripts are launched from the shell, command line arguments are stored in the `argv` attribute of the [`sys`](https://docs.python.org/2.7/library/sys.html) module. \n",
        "\n",
        "`sys.argv` is a list composed by the script name followed by the ordered sequence of command line arguments."
      ]
    },
    {
      "cell_type": "markdown",
      "metadata": {
        "id": "dUB3VvG_VNmk"
      },
      "source": [
        "Try the following exercise:\n",
        "\n",
        "- In your current working directory (`%pwd`), create a text file called `exemplar_module_args.py`.\n",
        "\n",
        "\n",
        "- Open this file and copy the following source code:"
      ]
    },
    {
      "cell_type": "markdown",
      "metadata": {
        "id": "seOEMbTSVNmk"
      },
      "source": [
        "```python \n",
        "import sys\n",
        "\n",
        "print(sys.argv)\n",
        "    \n",
        "```"
      ]
    },
    {
      "cell_type": "markdown",
      "metadata": {
        "id": "SeEmZHmqVNmk"
      },
      "source": [
        "- launch the following script from the command line: `!python exemplar_module_args.py arg_1 arg_2 arg_3`."
      ]
    },
    {
      "cell_type": "markdown",
      "metadata": {
        "id": "35eIgLz1VNml"
      },
      "source": [
        "> See the **[getopt](https://docs.python.org/2.7/library/getopt.html)** and the **[argparse](https://docs.python.org/2.7/library/argparse.html)** modules to build more powerful and flexible command line processing tools\n",
        ">"
      ]
    },
    {
      "cell_type": "markdown",
      "metadata": {
        "id": "oZWnpa4PVNml"
      },
      "source": [
        "---"
      ]
    },
    {
      "cell_type": "markdown",
      "metadata": {
        "id": "TcGa0OKsVNml"
      },
      "source": [
        "##### Reading and Writing CSV files\n",
        "\n",
        "The **CSV** (Comma Separated Values) is a **text file** format often used to import and export spreadsheet and databases. \n",
        "\n",
        "Notwithstanding its widespread use, the CSV is not a fully standardized file format, but it follows some conventions:\n",
        "\n",
        "- each spreadsheet row is a record. Most of the times a row correspond to an input file line, but sometimes it can span multiple lines;\n",
        "\n",
        "\n",
        "- each record consists of fields (you can think of them as column cells), separated by a **delimiter**. This is often a comma “`,`”, but tabs “`\\t`”, white spaces “` `” and semicolons “`;`” are widely used;\n",
        "\n",
        "\n",
        "- sometimes the first line of the text file reports the column **headers**, but this is optional;\n",
        "\n",
        "\n",
        "- **quote characters** (usually double quotes “`\"`”) are used **at least** to handle ambiguous cases (e.g. strings containing the separator character), but many options are available."
      ]
    },
    {
      "cell_type": "markdown",
      "metadata": {
        "id": "x5ebgLaKVNmm"
      },
      "source": [
        "CSV files are usually parsed by looping through the input file and splitting each row, while writing to csv requires to loop through an iterator and join all the fields. The Python `csv` module takes over the handling of these tasks, by supplying specific objects that can be parameterized at will, and even some common settings called *dialects*."
      ]
    },
    {
      "cell_type": "code",
      "execution_count": 69,
      "metadata": {
        "id": "dYGZ7o1QVNmm"
      },
      "outputs": [],
      "source": [
        "import csv"
      ]
    },
    {
      "cell_type": "markdown",
      "metadata": {
        "id": "ChDL3DieVNmn"
      },
      "source": [
        "To **read** a csv file, use the function `reader()` to generate an object that can be used to process the rowd of the input file:   "
      ]
    },
    {
      "cell_type": "code",
      "execution_count": 159,
      "metadata": {
        "id": "_d_YH19iVNmn",
        "outputId": "58ea2236-290c-4780-b808-4426011bef7d"
      },
      "outputs": [
        {
          "name": "stdout",
          "output_type": "stream",
          "text": [
            "['Perry Cox', 'M.D.', 'John C. McGinley', '45']\n",
            "['Carla Espinosa-Turk', 'RN', 'Judy Reyes', '36']\n",
            "['Christopher Turk', 'M.D.', 'Donald Faison', '31']\n",
            "['Bob Kelso', 'M.D.', 'Ken Jenkins', '70']\n",
            "['Elliot Reid', 'M.D.', 'Sarah Chalke', '29']\n",
            "['J.D.', 'M.D.', 'Zach Braff', '31']\n",
            "['Janitor', 'unknown', 'Neil Flynn', '40']\n"
          ]
        }
      ],
      "source": [
        "# read & text mode\n",
        "with open(\"data/example_default_setting.csv\", \"r\") as infile:\n",
        "    scrubs_reader = csv.reader(infile)\n",
        "    for line in scrubs_reader:\n",
        "        print(line)"
      ]
    },
    {
      "cell_type": "markdown",
      "metadata": {
        "id": "AOaxtKZSVNmo"
      },
      "source": [
        "To ensure flexibility, the `reader()` functions accepts a wide range of parameters, among which the **delimiter** character,  the character used for **quoting** and the quoting behavior (see the [documentation](https://docs.python.org/3/library/csv.html) for the full list)."
      ]
    },
    {
      "cell_type": "code",
      "execution_count": 71,
      "metadata": {
        "id": "_CnVikRJVNmp",
        "outputId": "03cf284b-2e56-49ef-93a5-64cc15e6205d"
      },
      "outputs": [
        {
          "name": "stdout",
          "output_type": "stream",
          "text": [
            "['Perry Cox', 'M.D.', 'John C. McGinley', 45.0]\n",
            "['Carla Espinosa-Turk', 'RN', 'Judy Reyes', 36.0]\n",
            "['Christopher Turk', 'M.D.', 'Donald Faison', 31.0]\n",
            "['Bob Kelso', 'M.D.', 'Ken Jenkins', 70.0]\n",
            "['Elliot Reid', 'M.D.', 'Sarah Chalke', 29.0]\n",
            "['J.D.', 'M.D.', 'Zach Braff', 31.0]\n",
            "['Janitor', 'unknown', 'Neil Flynn', 40.0]\n"
          ]
        }
      ],
      "source": [
        "with open(\"data/example_alternative_settings.csv\", \"r\") as infile:\n",
        "    scrubs_reader = csv.reader(infile, delimiter = '\\t', quotechar = \"'\", quoting = csv.QUOTE_NONNUMERIC)\n",
        "    header = next(scrubs_reader)  # let's extract the header\n",
        "    for line in scrubs_reader:\n",
        "        print(line)"
      ]
    },
    {
      "cell_type": "code",
      "execution_count": 72,
      "metadata": {
        "id": "AjEYtvumVNmp",
        "outputId": "81b647b8-d4f4-4eee-dc96-c43800a1d379"
      },
      "outputs": [
        {
          "name": "stdout",
          "output_type": "stream",
          "text": [
            "['character', 'credentials', 'actor', 'age']\n"
          ]
        }
      ],
      "source": [
        "# to extract the header we used the .next() method to perform the first step of the iteration\n",
        "print (header)"
      ]
    },
    {
      "cell_type": "markdown",
      "metadata": {
        "id": "6bVguPC1VNmq"
      },
      "source": [
        "CSV files can be written by using the `writer()` function to create an object for writing, and using `writerow()` to print each single row. For instance, to write the following list of lists:"
      ]
    },
    {
      "cell_type": "code",
      "execution_count": 73,
      "metadata": {
        "id": "ByZpqhWZVNmq"
      },
      "outputs": [],
      "source": [
        "list2write = [['Perry Cox', 'M.D.', 'John C. McGinley', 45.0],\n",
        "              ['Carla Espinosa-Turk', 'RN', 'Judy Reyes', 36.0],\n",
        "              ['Christopher Turk', 'M.D.', 'Donald Faison', 31.0],\n",
        "              ['Bob Kelso', 'M.D.', 'Ken Jenkins', 70.0],\n",
        "              ['Elliot Reid', 'M.D.', 'Sarah Chalke', 29.0],\n",
        "              ['J.D.', 'M.D.', 'Zach Braff', 31.0],\n",
        "              ['Janitor', 'unknown', 'Neil Flynn', 40.0]]"
      ]
    },
    {
      "cell_type": "code",
      "execution_count": 74,
      "metadata": {
        "id": "ELpxC1KaVNmr",
        "outputId": "f5276239-8886-440d-874d-31937fd1337b"
      },
      "outputs": [
        {
          "data": {
            "text/plain": [
              "46"
            ]
          },
          "execution_count": 74,
          "metadata": {},
          "output_type": "execute_result"
        },
        {
          "data": {
            "text/plain": [
              "48"
            ]
          },
          "execution_count": 74,
          "metadata": {},
          "output_type": "execute_result"
        },
        {
          "data": {
            "text/plain": [
              "50"
            ]
          },
          "execution_count": 74,
          "metadata": {},
          "output_type": "execute_result"
        },
        {
          "data": {
            "text/plain": [
              "41"
            ]
          },
          "execution_count": 74,
          "metadata": {},
          "output_type": "execute_result"
        },
        {
          "data": {
            "text/plain": [
              "44"
            ]
          },
          "execution_count": 74,
          "metadata": {},
          "output_type": "execute_result"
        },
        {
          "data": {
            "text/plain": [
              "35"
            ]
          },
          "execution_count": 74,
          "metadata": {},
          "output_type": "execute_result"
        },
        {
          "data": {
            "text/plain": [
              "41"
            ]
          },
          "execution_count": 74,
          "metadata": {},
          "output_type": "execute_result"
        }
      ],
      "source": [
        "with open(\"data/example_output.csv\", \"w\") as outfile:\n",
        "    scrubs_writer = csv.writer(outfile, quoting = csv.QUOTE_ALL)\n",
        "    for row in list2write:\n",
        "        scrubs_writer.writerow(row)    "
      ]
    },
    {
      "cell_type": "markdown",
      "metadata": {
        "id": "K0kuK8vPVNmr"
      },
      "source": [
        "##### Counting\n",
        "\n",
        "A `Counter` is a container that records how many times a given object is added. As implemented in the `collections` module, this data type is as a subclass of `dict` where objects are dictionary keys and counts are values. "
      ]
    },
    {
      "cell_type": "code",
      "execution_count": 75,
      "metadata": {
        "id": "2Uh8neccVNms"
      },
      "outputs": [],
      "source": [
        "import collections"
      ]
    },
    {
      "cell_type": "markdown",
      "metadata": {
        "id": "8KqHBxdIVNms"
      },
      "source": [
        "Counters can be initialized in four different ways (note that the result is identical):\n",
        "\n",
        "- from a sequence: "
      ]
    },
    {
      "cell_type": "code",
      "execution_count": 76,
      "metadata": {
        "id": "Fv_FxNdVVNmt",
        "outputId": "113bf771-0aae-4d49-8ec7-d332adc11d04"
      },
      "outputs": [
        {
          "data": {
            "text/plain": [
              "Counter({'t': 2, 'e': 1, 'x': 1, 'm': 1, 'i': 2, 'n': 2, 'g': 1})"
            ]
          },
          "execution_count": 76,
          "metadata": {},
          "output_type": "execute_result"
        }
      ],
      "source": [
        "collections.Counter(['t', 'e', 'x', 't', 'm', 'i', 'n', 'i', 'n', 'g'])"
      ]
    },
    {
      "cell_type": "markdown",
      "metadata": {
        "id": "hYLU8GVyVNmt"
      },
      "source": [
        "- from a dictionary containing values and counts: "
      ]
    },
    {
      "cell_type": "code",
      "execution_count": 94,
      "metadata": {
        "id": "yap5rv5YVNmt",
        "outputId": "77c9b257-947d-48ac-b76e-0871a48b6653"
      },
      "outputs": [
        {
          "data": {
            "text/plain": [
              "Counter({'e': 1, 'g': 1, 'i': 2, 'm': 1, 'n': 2, 't': 2, 'x': 1})"
            ]
          },
          "execution_count": 94,
          "metadata": {},
          "output_type": "execute_result"
        }
      ],
      "source": [
        "collections.Counter({'e': 1, 'g': 1, 'i': 2, 'm': 1, 'n': 2, 't': 2, 'x': 1})"
      ]
    },
    {
      "cell_type": "markdown",
      "metadata": {
        "id": "r-ma7D_7VNmu"
      },
      "source": [
        "- using keyword arguments mapping string names to counts: "
      ]
    },
    {
      "cell_type": "code",
      "execution_count": 99,
      "metadata": {
        "id": "vVnAzRmPVNm2",
        "outputId": "f52a093e-a301-4cb5-90c1-c08e1f1e64d6"
      },
      "outputs": [
        {
          "data": {
            "text/plain": [
              "Counter({'e': 1, 'g': 1, 'i': 2, 'm': 1, 'n': 2, 't': 2, 'x': 1})"
            ]
          },
          "execution_count": 99,
          "metadata": {},
          "output_type": "execute_result"
        }
      ],
      "source": [
        "collections.Counter(e = 1, g = 1, i = 2, m = 1, n = 2, t = 2, x = 1)"
      ]
    },
    {
      "cell_type": "markdown",
      "metadata": {
        "id": "YkFqjCwLVNm2"
      },
      "source": [
        "- by creating and empty counter and populating it via the `update()` method:"
      ]
    },
    {
      "cell_type": "code",
      "execution_count": 79,
      "metadata": {
        "id": "ZV6YHYUhVNm2",
        "outputId": "2d1e7be3-4acb-43f6-e323-88f96e0f6f00"
      },
      "outputs": [
        {
          "name": "stdout",
          "output_type": "stream",
          "text": [
            "Counter({'t': 2, 'i': 2, 'n': 2, 'e': 1, 'x': 1, 'm': 1, 'g': 1})\n"
          ]
        }
      ],
      "source": [
        "tm_counter = collections.Counter()\n",
        "tm_counter.update(\"textmining\")\n",
        "print(tm_counter)"
      ]
    },
    {
      "cell_type": "markdown",
      "metadata": {
        "id": "hlS_MrEdVNm2"
      },
      "source": [
        "Counters works as dictionaries, except that they return a **zero count for missing items** (rather than an error):"
      ]
    },
    {
      "cell_type": "code",
      "execution_count": 80,
      "metadata": {
        "id": "QMCKgBdEVNm2",
        "outputId": "cb6e15f0-e699-4c99-9dcb-139bbb275c9d"
      },
      "outputs": [
        {
          "data": {
            "text/plain": [
              "0"
            ]
          },
          "execution_count": 80,
          "metadata": {},
          "output_type": "execute_result"
        }
      ],
      "source": [
        "tm_counter[\"y\"]"
      ]
    },
    {
      "cell_type": "markdown",
      "metadata": {
        "id": "1iomlLsNVNm3"
      },
      "source": [
        "Counters support the following three methods:\n",
        "\n",
        "- The `elements()` method returns an iterator over keys repeating each keys as many times as its count:"
      ]
    },
    {
      "cell_type": "code",
      "execution_count": 81,
      "metadata": {
        "id": "AmHM2GaqVNm3",
        "outputId": "d245d1b7-dc23-4779-8e26-7c1aecaf5ca7"
      },
      "outputs": [
        {
          "data": {
            "text/plain": [
              "['t', 't', 'e', 'x', 'm', 'i', 'i', 'n', 'n', 'g']"
            ]
          },
          "execution_count": 81,
          "metadata": {},
          "output_type": "execute_result"
        }
      ],
      "source": [
        "list(tm_counter.elements())"
      ]
    },
    {
      "cell_type": "markdown",
      "metadata": {
        "id": "zQU6GNOqVNm3"
      },
      "source": [
        "- The `most_common(n)` method returns a sorted list of the most common *n* (key, count) pairs (when *n* is omitted, all the keys are returned)"
      ]
    },
    {
      "cell_type": "code",
      "execution_count": 82,
      "metadata": {
        "id": "xeNr0YrBVNm3",
        "outputId": "69553830-ed01-46de-e06d-19ac7bbdf445"
      },
      "outputs": [
        {
          "data": {
            "text/plain": [
              "[('t', 2), ('i', 2), ('n', 2)]"
            ]
          },
          "execution_count": 82,
          "metadata": {},
          "output_type": "execute_result"
        }
      ],
      "source": [
        "tm_counter.most_common(3)"
      ]
    },
    {
      "cell_type": "code",
      "execution_count": 83,
      "metadata": {
        "id": "_JmpbR77VNm4",
        "outputId": "bfdda7df-a536-4490-880c-93dc558dabf2"
      },
      "outputs": [
        {
          "data": {
            "text/plain": [
              "[('t', 2), ('i', 2), ('n', 2), ('e', 1), ('x', 1), ('m', 1), ('g', 1)]"
            ]
          },
          "execution_count": 83,
          "metadata": {},
          "output_type": "execute_result"
        }
      ],
      "source": [
        "tm_counter.most_common()"
      ]
    },
    {
      "cell_type": "markdown",
      "metadata": {
        "id": "jD-X9cjJVNm4"
      },
      "source": [
        "- The `subtract()` method subtract elements from an iterable or from another mapping:"
      ]
    },
    {
      "cell_type": "code",
      "execution_count": 84,
      "metadata": {
        "id": "mm84IookVNm4",
        "outputId": "6c035e7d-e2cd-445a-9fbe-825cf026ed06"
      },
      "outputs": [
        {
          "name": "stdout",
          "output_type": "stream",
          "text": [
            "Counter({'i': 2, 'n': 2, 'm': 1, 'g': 1, 't': 0, 'e': 0, 'x': 0})\n"
          ]
        }
      ],
      "source": [
        "# from an iterable\n",
        "tm_counter.subtract(\"text\")\n",
        "print (tm_counter)"
      ]
    },
    {
      "cell_type": "code",
      "execution_count": 85,
      "metadata": {
        "id": "GQGQOGgDVNm4",
        "outputId": "f2820625-eb44-4809-d39a-2c94fd3a4156"
      },
      "outputs": [
        {
          "name": "stdout",
          "output_type": "stream",
          "text": [
            "Counter({'i': 2, 'n': 2, 'm': 1, 'g': 1, 'e': -1, 'x': -1, 't': -2})\n"
          ]
        }
      ],
      "source": [
        "# from another mapping\n",
        "tm_counter.subtract(collections.Counter(e = 1, t = 2, x = 1))\n",
        "print (tm_counter)"
      ]
    },
    {
      "cell_type": "markdown",
      "metadata": {
        "id": "395bnLbhVNm4"
      },
      "source": [
        "> #### Further Reading:\n",
        ">\n",
        "> Other relevant data structures in the `collections` module include `defaultdict` and `OrderedDict`.\n",
        ">\n",
        "> The best way to become familiar with the Python Standard Library is to read Doug Hellmann's [Python Module of the Week](https://pymotw.com/3/) series."
      ]
    },
    {
      "cell_type": "markdown",
      "metadata": {
        "id": "W9VhpEUdVNm5"
      },
      "source": [
        "---"
      ]
    },
    {
      "cell_type": "markdown",
      "metadata": {
        "id": "JhlFxUHyVNm5"
      },
      "source": [
        "### Exercise 1.\n",
        "\n",
        "Browse functions offered by the  the `random` module as described in the [official documentation](https://docs.python.org/3/library/random.html) to look for a way to organize the following students in 2 mutually exclusive groups of size $2 \\leq s  \\leq3$."
      ]
    },
    {
      "cell_type": "code",
      "execution_count": 113,
      "metadata": {
        "id": "XuYkM2JGVNm5"
      },
      "outputs": [],
      "source": [
        "import random"
      ]
    },
    {
      "cell_type": "code",
      "execution_count": 148,
      "metadata": {
        "id": "H5M2GQOOVNm5"
      },
      "outputs": [
        {
          "name": "stdout",
          "output_type": "stream",
          "text": [
            "['Bob', 'Katrien'] ['Daniel', 'York', 'James']\n"
          ]
        }
      ],
      "source": [
        "students = [\"Katrien\", \"Daniel\", \"Bob\", \"York\", \"James\"]\n",
        "group_size = random.randint(2, 3)\n",
        "group1 = random.sample(students, group_size)\n",
        "group2 = [student for student in students if student not in group1]\n",
        "print(group1, group2)"
      ]
    },
    {
      "cell_type": "markdown",
      "metadata": {
        "id": "JJJO0MTzVNm5"
      },
      "source": [
        "### Exercise 2.\n",
        "\n",
        "The following code doesn't work. Find the bug and fix it:\n",
        "\n",
        "```python\n",
        "from random import choice\n",
        "\n",
        "outcomes = {'heads':0, 'tails':0}\n",
        "outcomes_keys = list(outcomes.keys())\n",
        "\n",
        "\n",
        "for i in range(10000):\n",
        "    outcomes[random.choices(outcomes_keys)] += 1\n",
        "\n",
        "print('Heads:', outcomes['heads'])\n",
        "print('Tails:', outcomes['tails'])\n",
        "```"
      ]
    },
    {
      "cell_type": "code",
      "execution_count": 158,
      "metadata": {
        "id": "GpA9gLVVVNm5"
      },
      "outputs": [
        {
          "name": "stdout",
          "output_type": "stream",
          "text": [
            "Heads: 4958\n",
            "Tails: 5042\n"
          ]
        }
      ],
      "source": [
        "# your code here\n",
        "from random import choices\n",
        "\n",
        "outcomes = {'heads':0, 'tails':0}\n",
        "outcomes_keys = list(outcomes.keys())\n",
        "\n",
        "\n",
        "for i in range(10000):\n",
        "    outcomes[random.choices(outcomes_keys, weights=[1, 1])[0]] += 1\n",
        "\n",
        "print('Heads:', outcomes['heads'])\n",
        "print('Tails:', outcomes['tails'])"
      ]
    },
    {
      "cell_type": "markdown",
      "metadata": {
        "id": "uSw7PfAeVNm5"
      },
      "source": [
        "### Exercise 3.\n",
        "\n",
        "Read the file data/adams-hhgttg.txt and:\n",
        "\n",
        "\n",
        "- in a separate module, write a function that counts how many times a given word -- independently of its case -- occurs in a text\n",
        "\n",
        "\n",
        "- import this function and count the number of words in `adams-hhgttg.txt` (hint: use the set operation to get the words you want to apply the function on. You may filter this list somewhat to expedite calculations).\n",
        "\n",
        "\n",
        "- save these frequencies in a csv file called `data/hhgttg-frqs.csv`"
      ]
    },
    {
      "cell_type": "code",
      "execution_count": 168,
      "metadata": {
        "id": "BoU9PwkzVNm6"
      },
      "outputs": [
        {
          "name": "stdout",
          "output_type": "stream",
          "text": [
            "Counter({'the': 2480, 'of': 1247, 'a': 1171, 'to': 1161, 'and': 1130, 'he': 776, 'in': 599, 'was': 592, 'it': 588, 'said': 505, 'that': 461, 'you': 429, 'his': 346, 'on': 322, 'at': 312, 'i': 298, 'for': 297, 'with': 270, 'is': 261, 'had': 250, 'they': 226, 'as': 222, 'this': 214, 'arthur': 181, 'be': 179, 'but': 178, 'ford': 168, 'into': 167, 'all': 162, 'about': 160, 'have': 157, 'what': 155, 'one': 149, 'an': 145, 'out': 144, 'up': 138, 'were': 136, '...\"': 133, 'not': 131, 'from': 130, 'we': 130, 'just': 126, 'are': 123, '-': 118, '\"i': 116, 'which': 115, 'very': 115, 'so': 114, '...': 114, 'by': 113, 'zaphod': 111, 'him': 108, 'would': 102, 'them': 100, 'do': 97, 'no': 95, 'through': 94, 'their': 93, 'down': 91, 'been': 91, 'said,': 89, 'if': 88, 'then': 85, 'like': 84, 'there': 82, 'your': 81, 'looked': 79, 'planet': 77, 'think': 76, 'or': 76, 'said.': 76, 'can': 75, 'could': 74, 'got': 72, 'ford.': 72, 'two': 71, 'arthur,': 71, 'now': 71, 'thought': 70, 'arthur.': 70, \"don't\": 69, 'who': 68, 'going': 67, 'my': 66, 'only': 65, '\"you': 65, 'me': 63, 'some': 62, 'get': 62, 'because': 61, 'any': 60, 'over': 60, 'know': 60, 'more': 59, \"didn't\": 59, 'back': 59, 'see': 59, 'small': 57, 'she': 57, \"it's\": 57, 'will': 57, 'deep': 57, 'man': 56, 'its': 56, 'ford,': 55, 'other': 54, 'it.': 54, 'when': 54, '\"but': 54, 'time': 53, 'round': 53, 'computer': 53, 'way': 52, 'off': 52, 'suddenly': 50, 'again.': 50, '\"what': 50, 'want': 50, 'old': 50, '\"and': 49, 'how': 47, 'most': 46, 'quite': 46, 'something': 46, 'around': 46, 'trillian': 46, 'after': 45, 'voice': 45, 'zaphod.': 45, 'great': 43, 'than': 43, 'where': 43, 'vogon': 43, 'galaxy': 42, 'people': 42, '\"the': 42, 'has': 41, 'him.': 40, 'really': 40, 'moment': 39, 'being': 39, 'away': 39, '\"oh': 39, \"i'm\": 39, 'few': 39, 'did': 39, 'little': 38, 'still': 38, 'even': 38, 'good': 38, 'shouted': 38, 'much': 37, 'years': 37, 'before': 37, 'seemed': 37, 'our': 37, 'zaphod,': 37, 'made': 36, 'fact': 36, 'come': 36, 'take': 36, 'across': 36, 'light': 36, 'thing': 35, 'rather': 34, 'knew': 34, 'why': 34, 'mr': 34, '\"it\\'s': 34, '\"we': 34, 'them.': 33, 'turned': 33, 'every': 33, 'her': 32, 'himself': 32, 'look': 32, 'us': 32, 'first': 31, 'ever': 31, 'went': 31, \"that's\": 31, 'anything': 31, 'another': 31, 'came': 31, 'it?\"': 31, 'hitch': 30, 'life': 30, 'tell': 30, 'it,': 30, 'earth': 30, 'point': 30, 'trying': 30, 'own': 29, 'never': 29, 'sort': 29, 'five': 29, 'ship': 29, 'things': 28, 'always': 28, 'looking': 28, 'found': 28, 'stared': 28, 'itself': 28, 'it.\"': 28, 'him,': 28, 'say': 28, 'head': 28, 'galactic': 28, 'heart': 28, 'again': 28, 'new': 27, 'make': 27, 'eyes': 27, 'well': 27, 'go': 27, 'nothing': 27, 'many': 26, 'left': 26, 'thousand': 26, 'thought.': 26, 'you?\"': 26, '\"it': 26, 'these': 25, 'three': 25, 'second': 25, 'began': 25, 'long': 25, 'those': 25, 'universe': 25, '\"no,': 25, 'air': 25, 'guide': 24, 'whole': 24, 'too': 24, \"can't\": 24, \"i've\": 24, 'asked': 24, 'mean': 24, 'hundred': 24, 'far': 23, 'large': 23, 'stood': 23, 'lot': 23, 'must': 23, 'day': 23, \"you're\": 23, 'here': 23, 'doing': 23, 'improbability': 23, 'called': 22, 'find': 22, 'put': 22, 'mind': 22, 'it,\"': 22, '\"yes,\"': 22, 'let': 22, 'gave': 22, 'space': 22, '\"well,': 22, 'between': 22, 'keep': 22, 'perfectly': 22, 'against': 22, 'towards': 22, '\"is': 22, 'million': 21, \"wasn't\": 21, 'work': 21, 'front': 21, 'tried': 21, 'door': 21, '\"that': 21, 'sat': 21, 'gold': 21, 'president': 21, '\"a': 21, 'marvin': 21, 'also': 20, 'prosser': 20, \"wouldn't\": 20, \"what's\": 20, 'last': 20, 'prefect': 20, '\"well': 20, 'huge': 20, 'beneath': 20, 'am': 20, 'green': 19, 'should': 19, 'better': 19, 'slight': 19, 'felt': 19, 'behind': 19, \"couldn't\": 19, 'vogons': 19, \"hiker's\": 18, 'big': 18, 'heard': 18, 'probably': 18, 'house': 18, 'four': 18, 'happened': 18, 'seconds': 18, '\"i\\'m': 18, '\"that\\'s': 18, 'sky': 18, 'each': 18, 'started': 18, 'continued': 18, 'stop': 18, 'tiny': 18, 'part': 18, 'question': 18, 'end': 17, 'finally': 17, 'dark': 17, 'night': 17, 'course': 17, 'under': 17, 'couple': 17, 'actually': 17, 'brain': 17, 'such': 17, 'again,': 17, 'need': 17, 'half': 17, 'gargle': 17, 'sense': 17, 'man,': 17, 'thought,': 17, 'power': 17, \"we're\": 17, 'yellow': 16, 'pretty': 16, 'book': 16, 'though': 16, 'on.': 16, 'out.': 16, 'lay': 16, 'once': 16, '\"so': 16, 'running': 16, 'bit': 16, '\"don\\'t': 16, 'talk': 16, 'give': 16, 'may': 16, 'men': 16, \"i'd\": 16, 'that?\"': 16, 'without': 16, 'next': 16, 'several': 16, \"isn't\": 16, 'robot': 16, 'trillian.': 16, 'mice': 16, 'miles': 15, 'less': 15, 'himself.': 15, 'used': 15, 'later': 15, 'form': 15, '\"how': 15, 'enough': 15, 'making': 15, \"arthur's\": 15, 'standing': 15, 'glanced': 15, 'star': 15, 'both': 15, '\"if': 15, 'able': 15, 'six': 15, 'simply': 15, 'almost': 15, 'sound': 15, 'same': 15, 'sudden': 15, 'picked': 15, 'magrathea': 15, 'terrible': 14, 'exactly': 14, \"hadn't\": 14, \"he'd\": 14, 'known': 14, 'stuck': 14, '\"this': 14, \"you've\": 14, 'straight': 14, 'passed': 14, 'cold': 14, 'closed': 14, 'while': 14, 'slowly': 14, 'me,\"': 14, 'full': 14, 'sea': 14, 'up.': 14, 'might': 14, 'clearly': 14, 'further': 14, 'dead': 14, 'silence': 14, 'wall': 14, 'right': 14, 'white': 14, 'else': 14, 'themselves': 14, '\"no': 14, 'guard': 14, 'cried': 14, 'appeared': 14, 'world': 13, 'idea': 13, 'wanted': 13, 'feel': 13, 'opened': 13, 'lying': 13, 'top': 13, 'told': 13, 'soon': 13, 'eventually': 13, 'name': 13, 'start': 13, 'matter': 13, 'somewhere': 13, '\"what?\"': 13, 'forward': 13, 'yes,\"': 13, 'having': 13, '\"what\\'s': 13, '\"there': 13, 'answer': 13, 'decided': 13, 'quietly': 13, 'surface': 13, 'moment.': 13, 'black': 13, 'inside': 13, 'open': 13, 'damogran': 13, 'beeblebrox': 13, 'control': 13, 'strange': 13, 'computer,': 13, 'time.': 12, 'saying': 12, 'well,': 12, 'ask': 12, 'man.': 12, 'gone': 12, '\"come': 12, 'often': 12, 'call': 12, '\"yes': 12, 'none': 12, '\"oh,': 12, 'corner': 12, 'kind': 12, 'all.': 12, 'settled': 12, 'know,': 12, 'run': 12, 'says': 12, 'best': 12, 'barman': 12, 'understand': 12, 'ten': 12, 'that,\"': 12, 'along': 12, \"i'll\": 12, 'everything': 12, 'simple': 12, 'away.': 12, 'wild': 12, 'real': 12, 'thin': 12, '\"...': 12, 'muttered': 12, 'nearly': 11, 'nice': 11, 'sitting': 11, 'slightly': 11, 'words': 11, 'in.': 11, 'lie': 11, 'notice': 11, 'you.': 11, \"haven't\": 11, 'betelgeuse': 11, 'perhaps': 11, 'moment,': 11, 'turn': 11, 'side': 11, 'no,': 11, '\"yes,': 11, 'fell': 11, 'thank': 11, 'know,\"': 11, 'low': 11, 'face': 11, \"ford's\": 11, '\"i\\'ve': 11, 'feet': 11, 'room': 11, 'became': 11, 'ultimate': 11, 'hatchway': 11, 'entirely': 11, 'anyone': 11, 'carried': 11, 'number': 11, 'er': 11, '\"who': 11, 'you,\"': 11, '\"yeah,': 11, 'trillian,': 11, 'aircar': 11, 'slartibartfast': 11, 'earth,': 10, 'home': 10, 'greatest': 10, 'galaxy,': 10, 'already': 10, 'important': 10, 'moved': 10, 'nervous': 10, 'worried': 10, 'bulldozer': 10, 'word': 10, 'one.': 10, 'took': 10, 'know.': 10, 'whilst': 10, 'pub': 10, 'them,': 10, 'shut': 10, 'this.': 10, 'water': 10, 'someone': 10, 'everyone': 10, 'read': 10, 'does': 10, 'yourself': 10, 'rolled': 10, 'himself,': 10, 'minutes': 10, 'effect': 10, 'planets': 10, 'walk': 10, '\"i\\'ll': 10, '\"er,': 10, 'place': 10, 'electronic': 10, '\"hey,': 10, \"there's\": 10, 'third': 10, 'seem': 10, '\"they': 10, '\"are': 10, 'believe': 10, '\"no,\"': 10, 'followed': 10, 'watched': 10, 'government': 10, 'flashed': 10, 'become': 10, 'major': 10, '\"we\\'re': 10, 'bridge.': 10, 'show': 10, 'insisted': 10, 'fish': 10, 'howl': 10, \"doesn't\": 10, 'steel': 10, \"ship's\": 10, \"we've\": 10, 'infinite': 10, 'marvin.': 10, 'demand': 10, 'shall': 10, 'solid': 10, 'distance': 9, 'then,': 9, 'realized': 9, 'stupid': 9, 'story': 9, 'until': 9, 'god': 9, 'means': 9, 'thirty': 9, 'set': 9, 'size': 9, 'since': 9, 'worked': 9, 'interesting': 9, 'saw': 9, 'glass': 9, 'oh': 9, 'fifteen': 9, 'today': 9, 'built': 9, 'drive': 9, 'there.': 9, 'hell': 9, 'said:': 9, 'know.\"': 9, 'me.\"': 9, 'dent': 9, 'usually': 9, 'till': 9, 'reason': 9, 'sit': 9, 'above': 9, '\"look,': 9, 'now.': 9, 'system': 9, '\"he': 9, 'sounds': 9, 'quick': 9, 'all,': 9, 'hold': 9, 'myself': 9, '\"my': 9, 'talking': 9, '\"in': 9, 'on,': 9, 'help': 9, 'died': 9, 'you.\"': 9, 'flat': 9, 'towel': 9, 'together': 9, 'waving': 9, 'yelled': 9, 'this,': 9, 'planet.': 9, 'cut': 9, 'totally': 9, 'completely': 9, '\"you\\'re': 9, 'red': 9, 'seven': 9, 'discovered': 9, 'cabin': 9, '\"good': 9, 'voice.': 9, 'clear': 9, 'ship.': 9, 'hear': 9, 'designed': 9, '\"just': 9, 'getting': 9, 'see,': 9, 'marvin,': 9, 'amazingly': 8, 'odd': 8, 'time,': 8, 'seen': 8, 'remarkable': 8, 'extraordinary': 8, 'years,': 8, 'about.': 8, 'outside': 8, 'stopped': 8, 'shook': 8, 'finger': 8, 'yes,': 8, 'frowned': 8, 'back.': 8, 'struck': 8, 'flying': 8, 'beings': 8, 'sun': 8, 'exclaimed': 8, 'either': 8, \"won't\": 8, 'surprised': 8, 'on,\"': 8, '\"thank': 8, 'longer': 8, '\"to': 8, '\"yes.\"': 8, 'feeling': 8, 'formed': 8, 'silver': 8, 'quickly': 8, 'that,': 8, '\"alright,\"': 8, 'device': 8, 'sub-etha': 8, 'use': 8, \"they're\": 8, \"you'd\": 8, 'whatever': 8, 'noise': 8, 'copy': 8, '\"there\\'s': 8, 'off.': 8, 'wide': 8, 'sent': 8, 'entire': 8, 'mostly': 8, 'heads': 8, 'stepped': 8, 'hands': 8, 'ground': 8, 'bits': 8, '\"well,\"': 8, 'body': 8, 'captain': 8, 'screen.': 8, 'soft': 8, 'poetry': 8, 'that.\"': 8, 'lucky': 8, 'it?': 8, 'paused': 8, '\"which': 8, '\"do': 8, '\"er': 8, 'chamber': 8, 'er,': 8, 'vast': 8, 'machine': 8, \"zaphod's\": 8, 'sirius': 8, 'walked': 8, 'intelligent': 8, 'crew': 8, 'computer.': 8, 'life,': 8, 'fook': 8, 'benji': 8, 'arm': 7, 'whose': 7, \"they'd\": 7, 'coming': 7, 'wrong': 7, 'lost': 7, 'popular': 7, 'care': 7, 'with.': 7, 'drink': 7, 'stand': 7, 'particularly': 7, 'job': 7, 'rolling': 7, 'given': 7, 'liked': 7, 'lights': 7, 'bottom': 7, 'away,': 7, 'times': 7, 'hard': 7, 'smiled': 7, 'for.': 7, 'earth.': 7, 'galaxy.': 7, 'human': 7, 'realize': 7, 'ancient': 7, 'mental': 7, '\"not': 7, 'voice,': 7, 'there?\"': 7, 'arms': 7, 'eyes.': 7, 'pan': 7, 'rest': 7, 'burst': 7, 'grinned': 7, '\"did': 7, 'waved': 7, 'bank': 7, 'interstellar': 7, 'partly': 7, 'heavy': 7, 'wave': 7, 'aware': 7, 'throat.': 7, 'reached': 7, 'threw': 7, 'prostetnic': 7, 'continued.': 7, 'boat': 7, 'coincidence': 7, 'within': 7, 'thoroughly': 7, 'die': 7, 'original': 7, '\"hi': 7, 'ground.': 7, 'young': 7, 'aside': 7, 'brought': 7, 'taken': 7, 'agreed': 7, 'bridge': 7, 'spaceship': 7, 'ship,': 7, 'button': 7, 'speak': 7, 'rich': 7, 'yet': 7, 'mind.': 7, 'figure': 7, 'added': 7, '\"now': 7, 'improbable': 7, 'single': 7, 'snapped': 7, 'reach': 7, 'much.': 7, \"aren't\": 7, 'wall.': 7, 'we?\"': 7, 'circuits': 7, 'cybernetics': 7, 'you,': 7, '\"ok,': 7, '\"no.\"': 7, 'problems': 7, 'missiles': 7, 'crater.': 7, 'speed': 7, 'infinity': 7, 'slartibartfast,': 7, 'lunkwill': 7, '...!\"': 7, 'waiting': 7, 'frankie': 7, 'paper': 6, 'problem': 6, 'happy': 6, 'terribly': 6, 'highly': 6, 'fifty': 6, 'relaxed': 6, 'least': 6, 'please': 6, 'lived': 6, 'friends': 6, 'properly': 6, 'build': 6, 'up,': 6, \"dent's\": 6, 'pleasant': 6, 'passing': 6, 'hung': 6, 'caught': 6, 'angry': 6, 'telling': 6, 'enough,': 6, 'mud': 6, 'allow': 6, 'somebody': 6, 'arrived': 6, 'attention': 6, '\"ah,': 6, 'locked': 6, 'up,\"': 6, 'bloody': 6, 'pulled': 6, 'nervously': 6, 'shouting': 6, 'curious': 6, 'backwards': 6, 'bar': 6, 'colour': 6, 'wished': 6, 'public': 6, 'beginning': 6, 'beside': 6, 'game': 6, 'janx': 6, 'attempt': 6, 'sure': 6, '\"can': 6, '\"well?\"': 6, 'head.': 6, 'high': 6, 'suns': 6, 'blinked': 6, 'yes': 6, 'match': 6, 'then?\"': 6, '\"at': 6, 'up.\"': 6, '\"why': 6, 'try': 6, 'taking': 6, 'short': 6, 'screen': 6, 'hiker': 6, 'leapt': 6, 'hit': 6, 'them,\"': 6, 'unpleasant': 6, 'shot': 6, 'bang': 6, 'craft': 6, 'screamed': 6, 'dust': 6, 'wonderful': 6, 'jeltz': 6, 'to.': 6, 'now.\"': 6, 'message': 6, 'silence.': 6, 'beeblebrox,': 6, 'gold.': 6, 'except': 6, 'twisted': 6, 'wake': 6, 'billion': 6, 'about,': 6, 'light.': 6, 'raised': 6, 'speech': 6, 'impossible': 6, 'party': 6, 'bright': 6, 'ugly': 6, 'desperately': 6, 'shapes': 6, 'hum': 6, 'research': 6, 'entry': 6, 'hand': 6, 'babel': 6, 'universe.': 6, 'thinking': 6, 'managed': 6, 'door.': 6, '\"then': 6, 'throw': 6, 'therefore': 6, 'airlock': 6, '\"resistance': 6, 'enjoy': 6, 'wait': 6, '\"yeah,\"': 6, 'guard,': 6, 'met': 6, 'surprise.': 6, 'span': 6, 'walls': 6, 'one,': 6, 'screens': 6, 'parts': 6, 'guys': 6, 'z': 6, 'minus': 6, 'corporation': 6, 'showed': 6, '\"all': 6, 'others': 6, 'me.': 6, 'news': 6, 'course,': 6, '\"hey': 6, 'explained': 6, 'figures': 6, 'planet,\"': 6, 'section': 6, 'eddie': 6, 'atmosphere': 6, 'data': 6, 'whale': 6, 'yards': 6, '\"an': 6, 'apparently': 6, 'design': 6, 'frankie,': 6, 'benji.': 6, 'sun.': 5, 'forms': 5, 'this:': 5, 'lots': 5, 'mean,': 5, 'bad': 5, 'girl': 5, 'anything.': 5, 'however,': 5, 'successful': 5, 'windows': 5, 'failed': 5, 'worry': 5, 'local': 5, 'council': 5, 'knock': 5, 'wandered': 5, 'room,': 5, 'stomped': 5, 'mighty': 5, 'seriously': 5, 'cleared': 5, 'afraid': 5, 'bit,': 5, 'b': 5, 'fast.': 5, 'there,': 5, 'wish': 5, 'amount': 5, 'course.': 5, 'planning': 5, 'you?': 5, 'anybody': 5, 'display': 5, 'sorry,': 5, 'happen': 5, 'dent.': 5, 'filled': 5, 'screaming': 5, 'brushed': 5, 'difficult': 5, 'was.': 5, 'talked': 5, 'length': 5, 'impression': 5, 'neck.': 5, 'fun': 5, 'thrown': 5, 'explain': 5, 'dull': 5, 'day.': 5, 'knocked': 5, 'startled': 5, 'why?\"': 5, 'asked.': 5, 'ford?\"': 5, 'listen': 5, 'now,': 5, '\"because': 5, 'played': 5, 'paid': 5, \"he's\": 5, 'sounded': 5, 'mere': 5, 'thought,\"': 5, 'continued,': 5, 'certain': 5, 'wrapped': 5, 'seas': 5, 'arcturan': 5, 'subtle': 5, 'watch': 5, 'pushed': 5, 'ignored': 5, 'shrugged': 5, 'reckon': 5, 'no,\"': 5, 'breathed': 5, 'note': 5, '\"what,': 5, '\"ford,\"': 5, '\"very': 5, \"you'll\": 5, 'maybe': 5, 'way.': 5, 'worth': 5, 'moving': 5, 'silent': 5, \"prefect's\": 5, 'press': 5, 'buttons': 5, 'square': 5, 'plastic': 5, 'fitted': 5, 'is.\"': 5, 'ran': 5, 'hardly': 5, 'empty': 5, 'turning': 5, 'sensation': 5, 'moments': 5, 'gives': 5, 'busy': 5, 'noticed': 5, 'waited': 5, 'happened.': 5, 'at.': 5, 'doubt': 5, 'alpha': 5, 'drifted': 5, 'ghastly': 5, 'constructor': 5, 'imperial': 5, 'main': 5, 'extra': 5, 'kick': 5, 'shooting': 5, 'recently': 5, 'twenty': 5, 'bay.': 5, 'land': 5, 'crowd': 5, 'atoms': 5, 'dropped': 5, 'close': 5, 'done': 5, 'falling': 5, 'beautiful': 5, 'down,': 5, 'prepared': 5, 'existed': 5, 'creatures': 5, 'cracked': 5, 'history': 5, 'faces': 5, 'absolutely': 5, 'thick': 5, 'ill': 5, 'anyway.': 5, 'fairly': 5, 'leaped': 5, 'space,': 5, 'dentrassi': 5, 'floor.': 5, 'urged': 5, 'day,': 5, 'theory': 5, 'alien': 5, 'heavily': 5, 'vanished': 5, 'slid': 5, 'furry': 5, 'see,\"': 5, 'tapped': 5, 'pressed': 5, 'forget': 5, 'save': 5, 'stick': 5, 'now,\"': 5, 'face.': 5, 'guys,\"': 5, 'around,': 5, 'poor': 5, '\"yes.': 5, '\"look,\"': 5, 'beg': 5, 'pardon?\"': 5, 'source': 5, 'picture': 5, 'money': 5, 'floor': 5, 'road': 5, '\"yeah?\"': 5, 'quietly,': 5, 'patterns': 5, 'goes': 5, 'humming': 5, 'whispered': 5, 'remember': 5, 'ready': 5, 'generally': 5, 'seat.': 5, 'present': 5, '\"tell': 5, 'considerable': 5, 'astonishment.': 5, 'structure': 5, 'paused.': 5, 'cross': 5, 'it!\"': 5, 'god,\"': 5, 'interrupted': 5, 'mean?\"': 5, 'other.': 5, 'business': 5, 'suppose': 5, 'brightly': 5, 'slowly,': 5, '\"i\\'d': 5, 'open.': 5, 'distant': 5, 'distances': 5, 'fit': 5, 'total': 5, 'silently': 5, '\"two': 5, 'order': 5, 'guidance': 5, 'computers': 5, 'excitement.': 5, 'panel.': 5, 'hey': 5, 'unable': 5, 'finding': 5, 'bother': 5, 'merely': 5, 'dressed': 5, 'presumably': 5, 'what?\"': 5, 'pass': 5, 'sharply.': 5, 'demanded': 5, 'sleep.': 5, 'crept': 5, 'currently': 5, 'quietly.': 5, 'magrathea.': 5, 'bowl': 5, 'waited.': 5, \"we'd\": 5, 'headed': 5, 'i?': 5, 'answer.': 5, 'begin': 5, 'race': 5, 'lunkwill.': 5, 'vroomfondel': 5, 'majikthise,': 5, 'phouchg': 5, 'loonquawl.': 5, 'yooden': 5, 'kill-o-zap': 5, 'spiral': 4, 'digital': 4, 'problem,': 4, 'largely': 4, 'pieces': 4, 'place.': 4, 'book,': 4, 'wholly': 4, 'book.': 4, 'galactica': 4, 'wildly': 4, 'panic': 4, 'friendly': 4, 'begins': 4, 'house.': 4, 'edge': 4, 'spread': 4, 'whom': 4, 'special': 4, 'bypass': 4, 'morning': 4, 'window,': 4, 'pointing': 4, 'reflected': 4, 'search': 4, 'drinking': 4, 'supposed': 4, 'looks': 4, 'out,': 4, 'curiously': 4, '\"we\\'ll': 4, 'anywhere': 4, 'door,': 4, 'weight': 4, 'equally': 4, 'obviously': 4, 'shadow': 4, 'mouth': 4, 'inexplicable': 4, 'bothered': 4, 'prosser,': 4, 'vicinity': 4, 'with,': 4, 'pretending': 4, 'gathered': 4, 'choose': 4, 'skin': 4, 'streets': 4, 'mindboggingly': 4, 'steady': 4, 'accepted': 4, 'situation': 4, '\"fine,\"': 4, '\"we\\'ve': 4, \"we'll\": 4, 'horse': 4, 'play': 4, 'hyperspace': 4, 'bottle': 4, 'spirit': 4, 'tongue': 4, 'pour': 4, '...?\"': 4, '\"excuse': 4, 'whether': 4, 'be,': 4, 'here,': 4, 'prefect,': 4, '\"perhaps': 4, 'lifted': 4, 'back,': 4, 'merest': 4, 'bellowed': 4, 'trust': 4, 'liquid': 4, 'existence': 4, 'brains': 4, 'expect': 4, 'memory': 4, \"world's\": 4, 'glasses': 4, 'nose': 4, 'nothing.': 4, 'genuinely': 4, '\"they\\'re': 4, 'giving': 4, '\"would': 4, '\"drink': 4, \"they've\": 4, 'added,': 4, 'smile.': 4, 'hang': 4, 'particular': 4, 'somethings': 4, 'years.': 4, \"moment's\": 4, 'buildings': 4, 'useful': 4, 'stars': 4, 'wet': 4, 'seems': 4, 'immense': 4, 'cup': 4, 'bought': 4, 'feet.': 4, '\"let': 4, 'bawled': 4, 'experienced': 4, 'possible': 4, 'near': 4, 'incomprehensible': 4, 'something.\"': 4, 'staring': 4, 'apart': 4, 'sky,': 4, 'races': 4, 'hello': 4, 'amazing': 4, 'worse': 4, 'ships': 4, 'hi': 4, 'building': 4, 'process': 4, 'pa': 4, 'watching': 4, 'land.': 4, 'space.': 4, 'sake': 4, 'interest': 4, 'planet,': 4, 'opposite': 4, 'sped': 4, 'of.': 4, 'meaningless': 4, 'throughout': 4, 'president?': 4, 'understood': 4, 'announced': 4, 'sharply,': 4, 'seat': 4, 'long,': 4, 'crescent': 4, 'hooloovoo': 4, 'excitement': 4, 'meet': 4, 'lightly': 4, 'globe': 4, 'tremendous': 4, '\"hi,\"': 4, 'eagle': 4, 'virtually': 4, 'crowd.': 4, 'smile': 4, 'nearby': 4, 'remote': 4, 'gasped': 4, 'steal': 4, 'crawled': 4, \"planet's\": 4, 'evolved': 4, 'themselves,': 4, 'working': 4, 'thus': 4, 'political': 4, 'different': 4, 'dentrassis': 4, 'bunch': 4, 'piece': 4, 'shape': 4, 'out.\"': 4, 'kept': 4, 'here?\"': 4, 'hope': 4, 'open,': 4, 'creature': 4, 'pleased': 4, 'cabin.': 4, 'holding': 4, 'fingers': 4, 'lift': 4, '\"great': 4, 'kids': 4, 'hissed': 4, 'do?\"': 4, 'horror': 4, 'seeing': 4, 'instruments': 4, 'during': 4, '\"you\\'d': 4, 'hyperspace.': 4, 'fish.': 4, 'energy': 4, 'chance': 4, 'argument': 4, 'leading': 4, 'impact': 4, 'gone,': 4, 'gone.': 4, 'reaction.': 4, 'column': 4, 'england': 4, 'somehow': 4, '\"yeah': 4, 'grabbed': 4, 'swirled': 4, '\"what?': 4, 'shrugged.': 4, 'now?\"': 4, 'up!\"': 4, 'poem': 4, 'legs': 4, 'prisoners': 4, 'held': 4, 'early': 4, 'attempts': 4, 'sheer': 4, 'equipment': 4, 'experience': 4, 'dusty': 4, 'thoughts': 4, 'too,': 4, 'terms': 4, 'good.\"': 4, 'write': 4, 'useless!\"': 4, 'firmly': 4, 'guard.': 4, 'ceiling': 4, 'me,': 4, 'mindless': 4, 'sure,\"': 4, 'purpose': 4, 'music': 4, 'massive': 4, 'swung': 4, 'flung': 4, 'scrambled': 4, 'this?\"': 4, 'slumped': 4, 'something,\"': 4, 'shoot': 4, 'battle': 4, 'blackness': 4, 'truth': 4, 'takes': 4, 'instance,': 4, 'seconds.': 4, 'telephone': 4, 'apparent': 4, 'hole': 4, 'nothingth': 4, 'system.': 4, 'past': 4, 'nor': 4, '\"why?\"': 4, 'sand': 4, 'fresh': 4, 'hot': 4, 'plunged': 4, 'level': 4, 'pink': 4, 'chattered': 4, 'air.': 4, 'panels': 4, 'banks': 4, 'gleaming': 4, 'hunched': 4, 'probability': 4, 'plural': 4, 'pick': 4, 'yeah?\"': 4, 'room.': 4, 'things.\"': 4, 'asking': 4, 'i?\"': 4, 'comes': 4, 'naturally': 4, 'marketing': 4, 'division': 4, 'future': 4, 'exotic': 4, '\"oh,\"': 4, 'hated': 4, 'hate': 4, '\"zaphod': 4, 'difficulty': 4, 'loud': 4, 'controls': 4, 'direction': 4, \"everyone's\": 4, 'flew': 4, 'glared': 4, '\"does': 4, 'in.\"': 4, 'universe,': 4, 'there!\"': 4, 'console.': 4, 'view': 4, 'meaning': 4, '\"computer!\"': 4, 'lives': 4, 'console': 4, 'awkward': 4, 'cage': 4, 'excited': 4, 'degrees': 4, 'disappeared': 4, 'orbit': 4, 'programme': 4, 'gazed': 4, 'movement': 4, 'upon': 4, 'supposing': 4, 'attack': 4, 'defence': 4, 'result': 4, 'petunias': 4, '\"of': 4, 'us,\"': 4, 'us!\"': 4, 'simultaneously.': 4, 'sharply': 4, 'eddie.': 4, '\"though': 4, 'tables': 4, 'depressed': 4, 'blood': 4, 'see.\"': 4, 'biro': 4, 'life.': 4, \"man's\": 4, 'fjords': 4, 'mildly.': 4, 'glow': 4, 'dolphins': 4, 'that.': 4, 'breath': 4, 'organic': 4, 'fook.': 4, 'question?\"': 4, 'vroomfondel,': 4, 'lifestyle': 4, 'catalogue': 4, 'table': 4, 'hrung': 4, 'sofa': 3, 'utterly': 3, 'blue': 3, 'descended': 3, 'primitive': 3, 'unhappy': 3, 'ones': 3, 'trees': 3, 'thursday,': 3, 'right,': 3, 'catastrophe': 3, 'published': 3, 'earthman': 3, 'selling': 3, \"god's\": 3, 'outer': 3, 'encyclopedia': 3, 'contains': 3, 'letters': 3, 'cover.': 3, 'dent,': 3, 'radio': 3, 'was,': 3, 'registered': 3, 'eight': 3, 'woke': 3, 'bathroom': 3, 'brush': 3, 'so.': 3, 'window.': 3, '\"yellow,\"': 3, 'suspect': 3, 'over.': 3, 'pub,': 3, 'vaguely': 3, 'important.': 3, 'faces.': 3, 'water.': 3, 'fur': 3, 'hat': 3, 'fast': 3, 'be.': 3, 'particular,': 3, 'points': 3, 'spend': 3, 'nearest': 3, 'foot': 3, 'clean': 3, 'no.': 3, 'wiped': 3, 'plans': 3, 'nine': 3, '\"on': 3, 'them.\"': 3, 'did.': 3, 'sign': 3, '\"you\\'ll': 3, '\"shut': 3, 'visions': 3, 'fire': 3, 'dent,\"': 3, 'information': 3, 'roll': 3, 'all,\"': 3, 'wondering': 3, 'friend': 3, 'spent': 3, 'enough.': 3, 'temples.': 3, 'university': 3, 'sometimes': 3, 'oddly': 3, 'stare': 3, 'laugh': 3, 'saucers': 3, 'enormous': 3, 'really.': 3, 'staggering': 3, 'policemen': 3, 'betelgeuse.': 3, 'sir?\"': 3, 'baby,': 3, 'saucer': 3, 'trading': 3, 'desperate': 3, 'arrive': 3, 'marvels': 3, 'altairan': 3, 'dollars': 3, 'role': 3, 'occasional': 3, 'various': 3, 'union': 3, 'dry': 3, 'arthur,\"': 3, 'bulldozers': 3, 'betelgeuse,': 3, 'unless': 3, 'ignore': 3, 'pointed': 3, 'prosser.': 3, 'wants': 3, 'astonished': 3, 'learned': 3, 'unlike': 3, 'effects': 3, 'power.': 3, 'final': 3, 'perform': 3, 'down?\"': 3, 'arguing': 3, 'sighed': 3, '\"could': 3, 'worried.': 3, 'assume': 3, 'sorry,\"': 3, 'fully': 3, 'driving': 3, 'about?\"': 3, 'quiet.': 3, 'dream': 3, 'folded': 3, 'knocking': 3, '\"about': 3, 'possibility': 3, 'crossing': 3, 'sink': 3, 'miserable': 3, 'remained': 3, 'tells': 3, 'exist': 3, 'pleasure': 3, 'sweet': 3, 'drop': 3, 'algolian': 3, 'add': 3, 'pints': 3, 'end.\"': 3, 'instead': 3, 'weather': 3, 'afternoon': 3, 'frowned.': 3, 'so.\"': 3, 'send': 3, 'page': 3, '\"muscle': 3, '\"or': 3, 'explain.': 3, 'time.\"': 3, 'likely': 3, 'end.': 3, 'business.': 3, 'chunky': 3, 'rays': 3, 'sens-o-matic': 3, 'winked': 3, 'itself.': 3, 'satchel': 3, 'inches': 3, 'reasons': 3, 'normal': 3, 'carry': 3, 'subject': 3, 'massively': 3, 'practical': 3, 'bound': 3, 'brilliant': 3, 'slow': 3, 'ravenous': 3, 'bugblatter': 3, 'beast': 3, '(a': 3, 'strag': 3, 'ball': 3, 'suit': 3, 'accidentally': 3, 'knows': 3, 'phrase': 3, 'tea.': 3, 'irritation.': 3, 'worry,\"': 3, 'stress,': 3, 'signal': 3, 'signals': 3, 'minute': 3, 'conversation': 3, 'nothing,\"': 3, 'laughed': 3, 'meant': 3, '\"will': 3, 'go.\"': 3, 'dragged': 3, 'grown': 3, 'hour': 3, 'so,': 3, 'move': 3, 'yelled.': 3, 'boiled': 3, 'finished': 3, 'jump': 3, 'monstrous': 3, 'leaving': 3, 'themselves.': 3, 'noise.': 3, 'exploded': 3, 'sadness': 3, 'alone': 3, 'vogons.': 3, 'air,': 3, 'shock': 3, 'minds': 3, 'sound.': 3, 'world,': 3, 'sheet': 3, 'metal': 3, 'address': 3, 'music,': 3, 'please,\"': 3, '\"as': 3, 'hyperspatial': 3, 'terror': 3, 'iron': 3, 'easy': 3, 'all.\"': 3, 'government,': 3, 'flashing': 3, 'secret': 3, 'island': 3, 'astonishment': 3, 'proof': 3, 'principle': 3, 'presidency': 3, 'lazily': 3, '\"hey,\"': 3, 'dog': 3, 'curve': 3, 'cliff': 3, 'mood': 3, 'beyond': 3, 'furthest': 3, 'physical': 3, 'fabric': 3, 'orange': 3, 'sash': 3, '(an': 3, 'job.': 3, 'presidential': 3, 'shone': 3, \"weren't\": 3, 'fair': 3, 'floated': 3, 'attempted': 3, 'hands.': 3, 'pages': 3, 'floating': 3, 'constructed': 3, 'break': 3, 'fun,': 3, 'tight': 3, 'else.': 3, 'irritably': 3, 'say.': 3, 'eyebrows': 3, 'punched': 3, 'bear': 3, 'more.': 3, 'service': 3, 'survive': 3, 'ago': 3, 'forces': 3, 'disgust': 3, 'nature': 3, 'jewelled': 3, 'style': 3, 'loomed': 3, 'fine,': 3, 'beam': 3, 'account': 3, 'good,\"': 3, 'spaceships': 3, '\"ah,\"': 3, 'safe': 3, 'struggled': 3, 'hugged': 3, 'irritating': 3, 'slightly.': 3, 'bug-eyed': 3, 'yes.\"': 3, '\"when': 3, 'glad': 3, 'indeed': 3, 'mattresses': 3, 'prodded': 3, 'killed': 3, 'quiet': 3, 'in,': 3, 'sliding': 3, 'field': 3, 'crossed': 3, 'lost.': 3, '\"yeah.\"': 3, 'buzz': 3, \"one's\": 3, 'wearing': 3, 'rescued': 3, 'earth.\"': 3, 'space.\"': 3, 'upset': 3, 'that!\"': 3, 'sprang': 3, 'ear': 3, 'important.\"': 3, 'gasping': 3, 'equivalent': 3, 'attention.': 3, 'arrival': 3, 'leave': 3, 'affair,': 3, 'curled': 3, 'weakly.': 3, 'tossed': 3, 'brainwave': 3, 'matrix': 3, 'centres': 3, 'fed': 3, 'chosen': 3, 'effectively': 3, 'communication': 3, 'caused': 3, 'discover': 3, 'imagination': 3, 'big.': 3, \"nelson's\": 3, 'mind,': 3, 'sunk': 3, 'violently': 3, '\"ford!\"': 3, 'finger,': 3, 'blew': 3, 'worst': 3, 'lump': 3, 'reading': 3, 'neck': 3, 'works': 3, 'pain': 3, 'dimly': 3, 'pitch': 3, 'cared': 3, 'gaped.': 3, 'occurred': 3, '\"ah': 3, 'right?\"': 3, 'out!\"': 3, 'wildly.': 3, 'now!\"': 3, 'notebook': 3, 'considered': 3, 'corridor': 3, 'feeble': 3, 'complained': 3, 'life?': 3, 'hours': 3, 'be,\"': 3, '\"ford,': 3, 'doing?\"': 3, 'ok?\"': 3, 'mention': 3, 'required': 3, 'alright,\"': 3, 'occupied': 3, 'grip': 3, 'pursued': 3, 'circular': 3, 'thanks': 3, 'polished': 3, 'curved': 3, 'involved': 3, 'hatch': 3, 'yet.': 3, 'round.': 3, 'popped': 3, 'stars,': 3, 'light,': 3, 'thousands': 3, 'however': 3, 'chances': 3, 'against.': 3, 'reflect': 3, 'alarm': 3, 'market': 3, 'extraordinarily': 3, 'trouble': 3, 'pavement': 3, 'unexpected': 3, 'mad.\"': 3, 'split': 3, 'on.\"': 3, 'mountains': 3, 'falling,\"': 3, 'direction.': 3, 'engines': 3, 'alright,': 3, 'us?\"': 3, '\"welcome,\"': 3, 'death': 3, 'possibly': 3, 'it!': 3, 'finite': 3, 'strong': 3, 'is,': 3, 'conventional': 3, 'excitingly': 3, 'deal': 3, 'ranged': 3, 'figures.': 3, 'ok,': 3, '\"zaphod,\"': 3, 'away.\"': 3, '\"huh?\"': 3, '\"look': 3, 'zaphod,\"': 3, '\"here\\'s': 3, 'aliens': 3, 'finely': 3, 'firmly.': 3, 'act': 3, 'life.\"': 3, 'look.': 3, 'satisfied': 3, 'defines': 3, 'defined': 3, 'area': 3, '\"have': 3, 'sales': 3, 'reaches': 3, 'robots': 3, 'door,\"': 3, 'mimicked': 3, 'saying,': 3, 'point?': 3, 'excuse': 3, 'owns': 3, 'ship?\"': 3, 'trudged': 3, '\"let\\'s': 3, 'personality': 3, 'saved': 3, 'described': 3, 'dived': 3, 'broke': 3, 'guy': 3, 'know?\"': 3, 'electric': 3, 'pencil': 3, 'for?\"': 3, 'yeah,\"': 3, '9': 3, 'relationship': 3, 'learning': 3, 'there.\"': 3, 'horsehead': 3, '\"improbability': 3, 'computer!\"': 3, 'ticker': 3, 'tape': 3, 'there!': 3, 'flight': 3, 'relative': 3, 'nicer': 3, 'vague': 3, 'whistling': 3, 'well,\"': 3, 'stopped,': 3, 'hand.': 3, '\"for': 3, 'intoned': 3, 'chair': 3, 'teeth': 3, 'right-hand': 3, 'peculiar': 3, 'appalling': 3, 'paused,': 3, 'flash': 3, 'party,\"': 3, 'not,\"': 3, 'smoke': 3, 'sight': 3, 'seconds,': 3, 'one,\"': 3, 'knowing': 3, 'disturbed': 3, 'series': 3, 'days': 3, 'tax': 3, 'women': 3, 'empire': 3, 'extremely': 3, 'richest': 3, 'ok,\"': 3, 'burnt': 3, 'scene': 3, 'approached': 3, 'blur': 3, 'grey': 3, 'landscape': 3, 'at,': 3, 'civilization': 3, 'revealed': 3, 'shortly': 3, 'upper': 3, 'sperm': 3, 'sustained': 3, 'instant': 3, \"subject's\": 3, 'barren': 3, 'what?': 3, 'recorded': 3, 'clients': 3, 'armed': 3, 'millions': 3, 'us,': 3, 'image': 3, '\"impact': 3, '\"ok': 3, 'desk': 3, 'flattened': 3, 'hurled': 3, 'wind': 3, 'definitely': 3, 'centre': 3, 'mirrors': 3, 'touched': 3, 'happened?\"': 3, 'blighted': 3, \"let's\": 3, 'hey,': 3, 'hey!': 3, 'wow!': 3, 'to,': 3, 'manically': 3, 'addressing': 3, 'impatiently': 3, 'shivered': 3, 'crater': 3, '\"come,\"': 3, 'horror.': 3, 'live': 3, 'time,\"': 3, 'inhabited': 3, 'hurried': 3, 'and,': 3, 'decide': 3, 'medical': 3, 'screening': 3, 'results': 3, 'claimed': 3, 'inquired': 3, 'yet,': 3, 'name,': 3, 'sailed': 3, 'misinterpreted': 3, 'magrathean': 3, 'travelling': 3, 'gateway': 3, 'mice.': 3, 'destroyed': 3, 'hyperintelligent': 3, 'dimensional': 3, 'beings.': 3, 'programmers': 3, 'brief': 3, 'leaned': 3, 'calculate': 3, 'operational': 3, 'composed': 3, 'answer?\"': 3, 'younger': 3, '\"seven': 3, 'gaped': 3, '\"dunno,\"': 3, 'earthman,\"': 3, 'answer,': 3, 'study': 3, 'eye': 3, 'everything!\"': 3, 'terminal': 3, 'program': 3, 'loonquawl': 3, 'awards.': 3, 'poised': 3, 'mouse,': 3, 'frankie.': 3, 'bolt': 3, 'cops': 3, 'afterwards': 3, 'cop': 3, 'dead.': 3, 'blagulon': 3, 'r17': 3, 'roughly': 2, 'suggested': 2, 'increasingly': 2, 'nailed': 2, 'tree': 2, 'work,': 2, 'sadly,': 2, 'phone': 2, 'occurred,': 2, 'story.': 2, 'publishing': 2, 'ursa': 2, 'minor': 2, 'either.': 2, 'controversial': 2, 'oolon': 2, 'person': 2, 'anyway?': 2, 'knowledge': 2, 'rise': 2, 'old,': 2, 'london': 2, 'ease': 2, 'thursday': 2, 'good.': 2, 'shaving': 2, 'mirror': 2, 'ceiling.': 2, 'off,': 2, 'kitchen': 2, 'connect': 2, 'window': 2, 'water,': 2, 'been.': 2, 'mirror.': 2, 'pub.': 2, \"people's\": 2, 'months': 2, 'leg': 2, 'though.': 2, 'tongue.': 2, 'garden': 2, 'path.': 2, 'l': 2, 'say,': 2, 'human.': 2, 'carbon-based': 2, 'fat': 2, 'direct': 2, 'intervening': 2, 'generations': 2, 'racial': 2, 'pronounced': 2, 'win': 2, 'blaze': 2, 'head,': 2, '\"why\\'s': 2, 'built?\"': 2, \"why's\": 2, 'devices': 2, 'directly': 2, 'wonder': 2, 'keen': 2, 'd.': 2, 'climbing': 2, 'axes.': 2, 'shifted': 2, 'uncomfortable': 2, 'entitled': 2, '\"appropriate': 2, 'time?\"': 2, 'hooted': 2, 'time?': 2, 'yesterday.': 2, 'office': 2, 'yesterday': 2, '\"with': 2, 'gone.\"': 2, 'look,': 2, 'cabinet': 2, 'lavatory': 2, 'cloud': 2, 'cast': 2, 'mud.': 2, \"prosser's\": 2, 'blazing': 2, 'nervous.': 2, 'together.': 2, '\"some': 2, '\"none': 2, 'stormed': 2, 'horsemen': 2, 'coincidence,': 2, 'suspicion': 2, 'guildford': 2, 'claimed.': 2, 'instance': 2, 'careless': 2, 'though,': 2, 'led': 2, 'nicely': 2, 'conspicuously': 2, 'tall,': 2, 'features': 2, 'hair': 2, 'involuntarily': 2, 'harmless': 2, '--': 2, 'unruly': 2, 'badly': 2, 'hypnotized': 2, 'doing.': 2, 'grin.': 2, 'reply': 2, 'wicked': 2, 'grin,': 2, 'buy': 2, 'ended': 2, 'like,': 2, 'to,\"': 2, 'invariably': 2, 'fact,': 2, 'researcher': 2, 'lunchtime': 2, 'mother': 2, 'talk,': 2, 'progress': 2, 'coffee': 2, 'experimenting': 2, 'busy?\"': 2, '\"am': 2, \"they'll\": 2, 'talk?\"': 2, 'urgently.': 2, 'vitally': 2, 'drink.': 2, '\"ah.\"': 2, 'drink.\"': 2, 'mining': 2, 'belts': 2, 'orion': 2, 'contestants': 2, 'table,': 2, '(as': 2, 'song': 2, 'spirit/': 2, 'fry': 2, 'loser': 2, 'groom': 2, 'me!\"': 2, 'health': 2, 'around.': 2, '\"has': 2, 'senses': 2, 'assume,\"': 2, 'resigned': 2, 'patiently,': 2, '\"actually': 2, 'here.\"': 2, 'sense.': 2, 'hour.': 2, 'sound?\"': 2, 'tone': 2, 'pop': 2, 'cover': 2, 'smiled,': 2, 'grasped': 2, \"somebody's\": 2, 'him.\"': 2, 'shoe': 2, 'mud.\"': 2, 'stopped.': 2, '\"get': 2, 'down.\"': 2, 'wondered': 2, 'enjoying': 2, 'alright?\"': 2, 'growled': 2, 'mind.\"': 2, 'approaching': 2, 'dimension': 2, 'pair': 2, \"dingo's\": 2, \"here's\": 2, 'alcohol.': 2, 'forms.': 2, 'blaster': 2, 'smashed': 2, 'blasters': 2, 'pay': 2, 'yourself.': 2, 'says.': 2, 'measure': 2, 'santraginus': 2, 'santraginean': 2, 'mixture': 2, 'gas': 2, 'bubble': 2, 'hikers': 2, 'qualactin': 2, 'heady': 2, 'fires': 2, 'please,': 2, 'conclusion': 2, 'barman.': 2, 'sir,': 2, 'said,\"': 2, 'barman,': 2, 'escape': 2, 'did.\"': 2, 'surprised.': 2, 'wanly': 2, 'smiling': 2, 'men,': 2, 'grin': 2, 'slapped': 2, 'five-pound': 2, '\"keep': 2, '\"you\\'ve': 2, 'nodded': 2, 'beer.': 2, 'long?\"': 2, '\"most': 2, 'react': 2, 'say?\"': 2, 'bothering': 2, 'beer,': 2, 'dozen': 2, 'soared': 2, 'sol,': 2, 'jodrell': 2, 'pity': 2, 'nestled': 2, 'leather': 2, 'scripts': 2, 'smooth': 2, 'largish': 2, 'snug': 2, 'printed': 2, 'meson': 2, 'form,': 2, 'require': 2, 'inconveniently': 2, 'says,': 2, 'value': 2, 'wrap': 2, 'sleep': 2, 'desert': 2, 'sail': 2, 'avoid': 2, 'gaze': 2, 'traal': 2, 'automatically': 2, 'tin': 2, 'gnat': 2, 'happily': 2, 'rough': 2, 'hence': 2, 'hiking': 2, 'sex': 2, 'with;': 2, 'fan': 2, 'bank,': 2, 'relaxing': 2, 'struggling': 2, '\"why?': 2, 'whisky': 2, 'choked': 2, 'yelped.': 2, 'yet.\"': 2, 'down.': 2, 'difference': 2, 'yelped': 2, 'checked': 2, 'thing.': 2, 'furiously': 2, 'beer': 2, 'packets': 2, 'peanuts.': 2, 'sir,\"': 2, 'pence': 2, 'change.': 2, 'before.': 2, 'sublimal': 2, 'exact': 2, 'distance.': 2, 'whisper': 2, '\"isn\\'t': 2, 'stuffing': 2, 'peanuts': 2, 'hushed': 2, 'loathe': 2, 'satisfaction': 2, 'whiff': 2, 'hydrogen,': 2, 'ozone': 2, 'carbon': 2, 'monoxide.': 2, 'herself': 2, '\"last': 2, 'machines': 2, 'faster.': 2, 'wind,': 2, 'irrational': 2, 'rain.': 2, 'rubble': 2, 'hung,': 2, 'drawn': 2, 'sky.': 2, 'impossibly': 2, 'running,': 2, 'do,': 2, 'landed': 2, 'upwards.': 2, 'raced': 2, 'tore': 2, 'houses,': 2, 'howling': 2, 'city': 2, 'cars': 2, 'slewed': 2, 'rubber': 2, 'ears.': 2, 'winking': 2, 'pattern': 2, 'squeezed': 2, 'do.': 2, 'satchel.': 2, 'going.': 2, 'motionless': 2, 'bricks': 2, \"don't.\": 2, 'whisper,': 2, 'spacious': 2, 'driver': 2, 'perfect': 2, 'sounding': 2, 'message.': 2, 'brave': 2, 'outlying': 2, 'regions': 2, 'express': 2, 'nowhere': 2, 'demolition': 2, 'orders': 2, 'department': 2, 'centauri': 2, 'late': 2, 'fuss': 2, 'ships,': 2, 'nobody': 2, 'slammed': 2, 'affairs': 2, 'fleet': 2, 'coasted': 2, 'void.': 2, 'damogran,': 2, 'delta': 2, 'unheard': 2, 'islands': 2, 'deserted': 2, 'project,': 2, 'zipped': 2, 'skipped': 2, 'easter': 2, '(the': 2, 'today,': 2, 'culmination': 2, 'beeblebrox.': 2, 'decision': 2, 'waves': 2, 'beeblebrox?': 2, 'clinching': 2, 'creation': 2, 'speed.': 2, 'manic': 2, 'lunch.': 2, 'least.': 2, 'banked': 2, \"beeblebrox's\": 2, 'cool': 2, 'sang': 2, 'whistle.': 2, 'middle,': 2, 'sweep': 2, 'inner': 2, 'consisted': 2, 'engineers': 2, 'humanoid,': 2, 'shade': 2, 'color': 2, 'resplendent': 2, 'lab': 2, 'temporarily': 2, 'fundamental': 2, 'laws': 2, 'impossibility,': 2, 'wield': 2, 'touch': 2, 'carved': 2, 'sank': 2, 'loved': 2, 'onto': 2, 'people.': 2, 'camera': 2, 'humanoid': 2, 'arm.': 2, 'random': 2, 'upholstered': 2, 'glorious': 2, 'bobbed': 2, 'rock.': 2, 'bubble,': 2, 'surged': 2, 'bobbing': 2, 'climbed,': 2, 'throwing': 2, 'tipped': 2, 'concave': 2, 'halt.': 2, 'applause': 2, 'arrived.': 2, 'sidled': 2, 'frond': 2, 'crested': 2, 'newly': 2, 'survival': 2, 'species': 2, 'needing': 2, 'offered': 2, 'everyone.': 2, 'visiting': 2, 'brown': 2, 'dress': 2, 'exist,': 2, 'damogran.': 2, 'her.': 2, 'warmly': 2, 'written': 2, 'switch': 2, 'pocket.': 2, 'sleek': 2, 'beautiful.': 2, 'starship': 2, 'press.': 2, 'expectantly.': 2, 'amazing,\"': 2, 'truly': 2, 'form.': 2, 'bomb': 2, 'frozen': 2, 'piggy': 2, 'rubbery': 2, 'civil': 2, 'depths': 2, 'sluggish': 2, 'panting': 2, 'morning,': 2, 'ad': 2, 'unfortunate': 2, 'needs': 2, 'refused': 2, 'rectify': 2, 'natural': 2, 'vogsphere': 2, 'scintillating': 2, 'scuttling': 2, 'smashing': 2, 'tall': 2, 'meat': 2, 'elegant': 2, 'backs': 2, 'powerful': 2, 'service.': 2, 'acquire': 2, 'social': 2, 'year': 2, 'native': 2, 'hikers.': 2, 'buried': 2, 'flared': 2, 'nervously.': 2, 'vogon,': 2, 'shadows': 2, 'tribe': 2, 'staff': 2, 'suited': 2, 'hardest': 2, 'vogon.': 2, 'groan.': 2, 'muttering': 2, '\"here,': 2, 'shaking': 2, 'packet': 2, 'bit.\"': 2, 'light.\"': 2, 'habit': 2, 'exercising': 2, 'lips,': 2, 'observation': 2, 'abandoned': 2, '\"like': 2, 'darkness.': 2, 'weakly,': 2, 'galley': 2, 'switch.': 2, 'lungs': 2, 'hitched': 2, \"barnard's\": 2, 'right.\"': 2, 'interior': 2, 'heaved': 2, 'shout': 2, 'better.': 2, '\"go': 2, 'entered': 2, 'immediately,': 2, 'delivered': 2, 'report': 2, 'meal': 2, 'welcome.': 2, 'grinning': 2, 'maniac.': 2, 'cups': 2, 'smelly': 2, '\"these': 2, 'this,\"': 2, 'rummaged': 2, 'mattress': 2, 'squornshellous': 2, 'panic.': 2, 'day.\"': 2, 'lark': 2, 'screen,': 2, 'lit': 2, 'surface.': 2, 'are.\"': 2, 'fleets': 2, 'measured': 2, 'feed': 2, 'revised': 2, 'include': 2, 'cooks': 2, 'pained': 2, 'expression': 2, 'dentrassi?\"': 2, 'them?\"': 2, 'soul': 2, 'silly': 2, 'beep': 2, 'noises.': 2, 'infuriatingly': 2, 'question,': 2, 'earth?\"': 2, 'last.': 2, '\"understand': 2, \"galaxy's\": 2, 'ear.\"': 2, 'recognizable': 2, 'grasp': 2, 'piles': 2, 'safe.': 2, 'pack': 2, '\"shush!\"': 2, 'aural': 2, 'scrabbled': 2, 'coloured': 2, 'listening': 2, 'speaking,': 2, 'wherever': 2, 'are.': 2, 'load': 2, 'first.': 2, 'journey': 2, '\"they\\'ve': 2, 'like.\"': 2, 'prepare': 2, 'oddest': 2, 'feeds': 2, 'carrier': 2, 'frequencies': 2, 'instantly': 2, 'god.': 2, '`i': 2, 'prove': 2, 'god,': 2, '`the': 2, 'promptly': 2, 'encore': 2, 'fortune': 2, 'wars': 2, 'existed.': 2, 'sickeningly': 2, 'parents': 2, 'complete': 2, 'queue': 2, 'supermarket': 2, 'dank': 2, 'steel-lined': 2, 'believed': 2, 'ever.': 2, 'nasty': 2, \"mcdonald's\": 2, 'mother.': 2, 'actual': 2, 'travel': 2, 'extend': 2, 'edition': 2, 'resolved': 2, 'shoulder.': 2, 'eccentrica': 2, 'say?': 2, 'course.\"': 2, '\"mostly': 2, 'embarrassed': 2, 'shouting,\"': 2, 'sharp': 2, 'ringing': 2, 'serious': 2, 'threat': 2, 'grunthos': 2, 'favourite': 2, 'gurgles': 2, 'destruction': 2, 'chairs': 2, 'suffered': 2, 'imagery': 2, 'rhythmic': 2, \"poet's\": 2, 'for,': 2, 'spasms': 2, 'lumps': 2, 'lolling': 2, 'teeth.': 2, 'rising': 2, 'crinkly': 2, 'don\\'t!\"': 2, 'spasm': 2, 'line': 2, 'blast': 2, '(he': 2, 'vacuum': 2, 'breath.': 2, 'effective.\"': 2, 'invited': 2, '\"counterpoint': 2, 'surrealism': 2, 'underlying': 2, 'metaphor': 2, 'compassionate': 2, 'stretch': 2, 'reaching': 2, '\"into': 2, 'done,': 2, 'late.': 2, 'quality': 2, 'cat': 2, 'underneath': 2, 'callous': 2, 'heartless': 2, 'exterior': 2, 'laugh.': 2, 'blubbery': 2, 'space,\"': 2, 'learnt': 2, 'deferentially': 2, 'hummed': 2, 'clamped': 2, 'spluttered': 2, 'stammered': 2, 'positive': 2, 'attitude': 2, 'panicking.\"': 2, 'culture': 2, '\"arthur': 2, 'think,': 2, 'thing?\"': 2, 'boomed.': 2, 'mean,\"': 2, 'shouting,': 2, '\"except': 2, 'tedium': 2, 'career': 2, 'problems.\"': 2, 'problem,\"': 2, 'stamping': 2, 'patting': 2, 'gesture,': 2, 'asphyxicated': 2, 'speak.': 2, 'slipping': 2, 'art': 2, 'operated': 2, 'smoothly': 2, 'interest,\"': 2, 'within.': 2, 'shoulder': 2, 'da': 2, 'trapped': 2, 'something.': 2, 'through.': 2, 'lungful': 2, 'betelgeusian': 2, 'die.\"': 2, 'cried.': 2, 'listened': 2, 'terrific,\"': 2, 'harmless.': 2, 'roar': 2, 'toy': 2, 'gun.': 2, 'numbers': 2, 'introduction': 2, 'is.': 2, 'cumulative': 2, 'invite': 2, 'travels': 2, 'record': 2, 'sixty-seven': 2, 'islington': 2, 'inch': 2, 'team': 2, 'fried': 2, 'heap': 2, 'poghril': 2, 'later.': 2, 'forwards': 2, 'deeply': 2, 'drifting': 2, 'unlikely': 2, 'cause': 2, 'event': 2, 'vicious': 2, 'spewed': 2, 'are,\"': 2, 'pretend': 2, 'space-time': 2, 'highest': 2, 'in?\"': 2, 'directions.': 2, 'southend.\"': 2, 'relieved': 2, 'so,\"': 2, 'thundered': 2, 'fact,\"': 2, 'danced': 2, 'noises': 2, 'sound,': 2, 'valleys': 2, 'measurement': 2, 'falling.\"': 2, '\"where': 2, '\"please': 2, 'wing': 2, 'rapidly': 2, 'squawked': 2, 'ought': 2, 'seventy-six': 2, 'cruising': 2, 'excited.': 2, 'drive!': 2, 'voices': 2, 'monkeys': 2, 'second,': 2, 'briefly,': 2, 'logic': 2, 'suspended': 2, 'motion': 2, 'leap': 2, 'simultaneously': 2, 'respectable': 2, 'physicists': 2, 'perpetual': 2, 'flip': 2, 'student': 2, 'reasoning': 2, 'virtual': 2, 'tea': 2, 'create': 2, 'sought': 2, 'golden': 2, 'lynched': 2, 'mob': 2, 'smallish': 2, 'angles': 2, 'beautifully': 2, 'properly.': 2, 'continued:': 2, 'cope': 2, 'alpha.\"': 2, 'everything,': 2, 'police': 2, 'qualities': 2, 'blow': 2, 'significance': 2, 'such,': 2, 'such?': 2, 'cocked': 2, 'mean?': 2, 'yeah.\"': 2, 'arm,': 2, 'expect.': 2, 'bring': 2, 'here.': 2, 'corner,': 2, \"robot's\": 2, 'pounds': 2, 'heavier': 2, 'effort': 2, '\"marvin!\"': 2, 'warned': 2, 'bay': 2, 'pause,': 2, 'calculated': 2, 'utter': 2, 'shouted,': 2, 'marvin,\"': 2, 'lilted': 2, '\"life,\"': 2, 'hopelessly': 2, 'encyclopaedia': 2, '\"your': 2, \"who's\": 2, 'jerks': 2, 'revolution': 2, 'editors': 2, 'fall': 2, 'dimension.': 2, 'measuring': 2, 'stuff.': 2, 'jabbed': 2, 'sensational': 2, 'passes': 2, 'stuff.\"': 2, 'excitedly': 2, 'occasionally': 2, 'panel': 2, '\"listen,\"': 2, 'generation': 2, 'genuine': 2, 'abject': 2, 'doorway.': 2, 'cheerful': 2, 'regarded': 2, 'components': 2, 'turned.': 2, 'don\\'t.\"': 2, 'following': 2, 'muttered,': 2, 'slit': 2, 'stretched': 2, 'robot,': 2, 'stolen.\"': 2, '\"stolen?\"': 2, 'separate': 2, 'distinct': 2, '\"sorry,': 2, 'anyway': 2, 'gunk': 2, 'flooded': 2, 'sophisticated': 2, 'hope.': 2, 'channel': 2, 'switched': 2, 'edited': 2, 'sentinent': 2, 'seventh': 2, 'specialist': 2, 'sensitive': 2, 'ego': 2, 'laughed.': 2, 'guys?\"': 2, '\"those': 2, 'guys.\"': 2, 'sector': 2, 'zz': 2, 'one?\"': 2, '\"any': 2, 'one.\"': 2, 'hide': 2, 'clever': 2, 'originally': 2, 'middle': 2, 'nebula.': 2, 'from?': 2, 'shipboard': 2, 'particle': 2, 'mode.': 2, 'solve': 2, '\"sure': 2, 'thing,\"': 2, 'path': 2, 'against.\"': 2, '\"ok,\"': 2, 'governed': 2, 'number?\"': 2, 'wretched': 2, 'monitor': 2, 'corridor,': 2, 'eyed': 2, 'through?\"': 2, \"marvin's\": 2, '\"shhh,\"': 2, 'task,': 2, 'large.': 2, 'while.': 2, 'semi-cousin': 2, 'change': 2, 'mess,': 2, 'tends': 2, 'remark': 2, 'met.\"': 2, 'we?': 2, 'demanded.': 2, '\"what!\"': 2, 'persisted': 2, '\"was': 2, 'sulking': 2, 'hell,': 2, 'charming,': 2, 'intelligent,': 2, 'yours': 2, 'again.\"': 2, 'admit': 2, 'mess': 2, 'drive?\"': 2, 'photon': 2, 'relationships': 2, 'artificial': 2, 'destruction.': 2, 'nagging': 2, 'over,': 2, 'faintly': 2, 'frankly': 2, 'manner': 2, 'attacked': 2, 'for.\"': 2, 'instruments.': 2, 'coordinates': 2, 'recognize': 2, 'enthused': 2, 'consoles': 2, 'external': 2, 'screens.': 2, '\"recognize': 2, '\"nothing.\"': 2, 'nebula': 2, 'something,': 2, 'angle': 2, 'binary': 2, 'glare': 2, 'mists': 2, 'former': 2, 'amongst': 2, 'inevitably': 2, 'created': 2, 'conditions': 2, 'custom-made': 2, 'luxury': 2, 'magrathea,': 2, 'planets,': 2, 'collapsed,': 2, 'enlightened': 2, 'believes': 2, 'crazy,': 2, '\"magrathea': 2, 'grow': 2, 'around,\"': 2, 'guys,': 2, 'motioned': 2, 'trajectory': 2, 'legendary': 2, 'magrathea.\"': 2, '\"whatever': 2, 'silence,': 2, 'magrathea!': 2, 'sunrise': 2, 'visible,': 2, 'horizon': 2, 'streaked': 2, 'dawn': 2, '!\"': 2, 'humans': 2, 'whispered.': 2, 'magratheans': 2, 'grey,': 2, 'century': 2, 'old.': 2, '\"alright,': 2, 'wealth': 2, 'stored': 2, 'afford': 2, 'suspense': 2, 'tension': 2, 'deadly': 2, 'automatic': 2, 'innocent': 2, 'whatsoever.': 2, 'fragments': 2, 'nutri-matic': 2, 'almost,': 2, 'quite,': 2, 'examination': 2, 'taste': 2, 'slide': 2, 'years,\"': 2, 'families': 2, 'hollow,': 2, 'us.\"': 2, 'visit': 2, 'kindly': 2, 'computer?\"': 2, 'fanfare': 2, 'assure': 2, 'fashionable': 2, '\"computer,': 2, 'distinctly': 2, 'cold.': 2, 'converging': 2, 'enthusiastic': 2, 'nuclear': 2, 'missiles?\"': 2, 'focus': 2, 'kill': 2, 'evasive': 2, 'system,\"': 2, '\"right!\"': 2, 'manual': 2, 'fly': 2, 'together.\"': 2, 'guessed': 2, 'arc': 2, 'come,': 2, 'squirming': 2, 'breath,': 2, 'lever': 2, 'rocketed': 2, 'antarean': 2, 'parakeet': 2, 'otherwise': 2, 'thing,': 2, 'storm': 2, '\"hold': 2, 'assumed': 2, 'weaving': 2, '\"walk': 2, 'crazy?\"': 2, 'dreams': 2, 'blown': 2, 'moulded': 2, 'explosion': 2, 'somewhat': 2, 'delicate': 2, 'shades': 2, 'staircase,': 2, 'deployed': 2, 'lighting': 2, 'conservatory': 2, 'eddie,': 2, 'earthman?\"': 2, 'kid': 2, 'lives,': 2, 'then.': 2, 'position': 2, 'names': 2, \"it'll\": 2, 'certainly': 2, 'yeah,': 2, 'ground!': 2, 'palm': 2, 'greater': 2, 'computer,\"': 2, 'back-up': 2, 'exit': 2, 'whoever': 2, 'synapses': 2, 'count': 2, 'counting': 2, 'computers.': 2, 'sternly.': 2, '\"computer': 2, 'ground,': 2, 'dullish': 2, 'covered': 2, 'stalked': 2, 'stung': 2, 'fantastic': 2, 'dump': 2, 'evidence.': 2, 'though.\"': 2, 'silent,': 2, 'ridge': 2, 'lonely': 2, 'lot.': 2, '\"something': 2, \"whale's\": 2, 'crater,': 2, 'collapsed': 2, 'torch': 2, 'gloom.': 2, 'marched': 2, 'tiles': 2, 'debris': 2, 'symbols': 2, '>from': 2, 'stole': 2, 'not?\"': 2, 'current': 2, 'keeps': 2, 'ideas': 2, 'plugged': 2, 'tests': 2, 'guessed.': 2, 'tests,': 2, 'random.': 2, 'paranoia.': 2, 'related': 2, 'bastard': 2, 'cauterized': 2, 'aghast.': 2, 'guess.': 2, 'was.\"': 2, 'veet': 2, 'biros': 2, 'way,': 2, 'theories': 2, 'fine': 2, 'voojagig': 2, 'fate': 2, 'mysterious': 2, 'seen.': 2, 'wildest': 2, 'asleep': 2, 'dark.': 2, 'practically': 2, 'illuminated': 2, 'dim': 2, 'sadly': 2, 'important,\"': 2, '\"ancient': 2, 'bowels': 2, 'banks.': 2, 'pot': 2, 'science': 2, 'fact.': 2, 'economic': 2, 'recession': 2, 'economy': 2, 'wistful': 2, 'eyes,': 2, 'programmed': 2, 'revive': 2, 'linked': 2, 'revived': 2, 'everybody': 2, 'seated': 2, 'instrument': 2, 'name,\"': 2, 'night.': 2, 'achieved': 2, 'precisely': 2, 'behavioural': 2, 'experiments': 2, 'according': 2, 'colossal': 2, 'peered': 2, 'velocity': 2, 'draw': 2, 'insane': 2, 'tunnel': 2, 'gliding': 2, 'tunnels': 2, 'circle': 2, 'ultra': 2, '\"earthman,\"': 2, 'warn': 2, 'car': 2, 'emerged': 2, 'big,': 2, 'invisible': 2, 'top,': 2, 'finest': 2, 'hollow': 2, 'sphere': 2, 'guess': 2, 'words,': 2, 'rushed': 2, 'mark': 2, 'pause.': 2, 'slartibartfast.': 2, '\"pity,\"': 2, 'award': 2, 'lovely': 2, 'mad': 2, 'cheese': 2, 'sixties': 2, 'coughed': 2, 'politely.': 2, 'pan-': 2, 'research,': 2, 'sorts': 2, 'learn': 2, '\"one': 2, 'thinking.': 2, 'unexpectedly': 2, 'pan-dimensional': 2, 'connected': 2, 'executive': 2, 'mounted': 2, 'ultramahagony': 2, 'discreetly': 2, 'stately': 2, 'cases': 2, 'fook,': 2, 'pause': 2, 'spoke': 2, 'task': 2, 'o': 2, 'lunkwill,': 2, 'am.\"': 2, 'programmers.': 2, 'milliard': 2, 'five-week': 2, 'blizzard?\"': 2, 'pocket': 2, 'hyperlobic': 2, 'omni-cognate': 2, 'neutron': 2, 'problem?\"': 2, 'tones.': 2, 'surely': 2, 'navigate': 2, 'parameters': 2, 'worthy': 2, 'speak.\"': 2, '\"o': 2, 'answer!\"': 2, 'chorus.': 2, '\"tricky,\"': 2, 'significant': 2, 'older': 2, 'vroomfondel!\"': 2, 'majikthise': 2, 'vroomfondel.': 2, 'pausing': 2, 'majikthise.': 2, 'problem!\"': 2, 'right!\"': 2, 'committed': 2, 'trained': 2, 'later,': 2, 'life-support': 2, 'rib': 2, 'wire': 2, 'breeze': 2, 'dais': 2, '\"never': 2, 'loonquawl,': 2, 'recording': 2, 'expectant': 2, 'nervously,': 2, 'phouchg.': 2, 'everything?\"': 2, '\"now?\"': 2, '\"now,\"': 2, '\"doesn\\'t': 2, 'howled': 2, '\"yes!\"': 2, 'pondered': 2, 'yourselves': 2, 'flickered': 2, 'gleamed': 2, 'does.': 2, 'poked': 2, 'fingernail.': 2, 'us.': 2, 'look.\"': 2, 'beach': 2, 'detected': 2, 'conkers': 2, 'bust': 2, 'megafreighters': 2, 'tri-jet': 2, 'fake': 2, 'other,': 2, 'how,': 2, 'weird': 2, 'state': 2, 'illusory': 2, 'pile': 2, 'perspex': 2, 'universe.\"': 2, 'lifestyle,\"': 2, 'scale': 2, 'opposing': 2, 'meeting': 2, 'dreadful': 2, 'conference': 2, 'squatting': 2, 'table.': 2, 'centuries.': 2, 'here,\"': 2, 'evil': 2, 'mouse.\"': 2, 'whiskers': 2, 'mouse': 2, 'shrug.': 2, 'slartibartfast,\"': 2, 'glaciers': 2, 'skiing': 2, 'scuttled': 2, '\"now,': 2, 'product': 2, 'benji,': 2, 'backing': 2, 'transports': 2, 'crouching': 2, '\"wouldn\\'t': 2, 'roads': 2, 'excellent,': 2, 'hailer': 2, 'gangway': 2, 'gratuitously': 2, 'cop.': 2, 'cops.': 2, 'cop,': 2, 'came,': 2, 'others.': 2, 'reassuringly': 2, 'kappa': 2, 'curiosity.': 2, 'blasted': 2, 'handled': 2, 'whence': 2, 'shivering,': 2, 'eat?': 2, 'emperor': 2, 'elected': 2, 'collapsing': 2, 'praxibetel': 2, 'father': 2, 'satisfactorily': 2, 'collapse': 2, 'jonny': 1, 'brock': 1, 'clare': 1, 'gorst': 1, 'arlingtoniansfor': 1, 'tea,': 1, 'sympathy,': 1, 'uncharted': 1, 'backwaters': 1, 'unfashionable': 1, 'western': 1, 'lies': 1, 'unregarded': 1, 'orbiting': 1, 'ninety-two': 1, 'insignificant': 1, 'ape-': 1, 'watches': 1, 'neat': 1, 'idea.': 1, 'solutions': 1, 'concerned': 1, 'movements': 1, 'paper,': 1, 'unhappy.': 1, 'remained;': 1, 'miserable,': 1, 'watches.': 1, 'opinion': 1, 'mistake': 1, 'move,': 1, 'oceans.': 1, 'change,': 1, 'cafe': 1, 'rickmansworth': 1, 'anyone-': 1, 'forever.': 1, 'consequences.': 1, 'earthman.': 1, 'nevertheless,': 1, 'houses': 1, 'celestial': 1, 'omnibus,': 1, 'zero': 1, 'gravity,': 1, \"colluphid's\": 1, 'trilogy': 1, 'philosophical': 1, 'blockbusters': 1, 'wrong,': 1, 'mistakes': 1, 'civilizations': 1, 'eastern': 1, 'rim': 1, 'supplanted': 1, 'standard': 1, 'repository': 1, 'wisdom,': 1, 'omissions': 1, 'apocryphal,': 1, 'inaccurate,': 1, 'scores': 1, 'older,': 1, 'pedestrian': 1, 'respects.': 1, 'first,': 1, 'cheaper;': 1, 'secondly': 1, 'inscribed': 1, 'terrible,': 1, 'consequences,': 1, 'consequences': 1, 'inextricably': 1, 'intertwined': 1, 'simply.': 1, 'village.': 1, 'broad': 1, 'west': 1, 'country': 1, 'farmland.': 1, 'squattish,': 1, 'squarish,': 1, 'brick,': 1, 'proportion': 1, 'eye.': 1, 'irritable.': 1, 'haired': 1, 'never-': 1, 'advertising.': 1, 'instead.': 1, \"o'clock\": 1, 'blearily,': 1, 'blearily': 1, 'bulldozer,': 1, 'slippers,': 1, 'wash.': 1, 'toothpaste': 1, 'scrub.': 1, 'adjusted': 1, 'adjusted,': 1, 'bristles.': 1, 'shaved': 1, 'washed,': 1, 'dried,': 1, 'mouth.': 1, 'kettle,': 1, 'plug,': 1, 'fridge,': 1, 'milk,': 1, 'coffee.': 1, 'yawn.': 1, 'bedroom': 1, 'dressed.': 1, 'another.': 1, 'over?': 1, 'before?': 1, 'glint': 1, 'bedroom.': 1, 'dear,': 1, 'remembered': 1, 'angry,': 1, 'length,': 1, 'suspected:': 1, 'clearest': 1, 'visual': 1, 'recollection': 1, 'glazed': 1, 'pipeline': 1, 'ridiculous.': 1, 'swig': 1, 'decided,': 1, 'bypass,': 1, 'hangover': 1, 'earned': 1, 'wardrobe': 1, 'advancing': 1, 'ape.': 1, 'specifically': 1, 'forty,': 1, 'shabby': 1, 'council.': 1, 'male-line': 1, 'descendant': 1, 'genghis': 1, 'khan,': 1, 'mixing': 1, 'juggled': 1, 'genes': 1, 'discernible': 1, 'mongoloid': 1, 'characteristics,': 1, 'vestiges': 1, 'ancestry': 1, 'stoutness': 1, 'tum': 1, 'predilection': 1, 'hats.': 1, 'warrior:': 1, 'dent,\",': 1, 'indefinitely.\"': 1, 'fiercely': 1, 'squelched': 1, 'game,\"': 1, 'rusts': 1, 'first.\"': 1, 'accept': 1, 'gripping': 1, 'built!\"': 1, '\"first': 1, 'bypass.': 1, 'bypasses.\"': 1, 'bypasses': 1, 'dash': 1, 'living': 1, 'c,': 1, 'between,': 1, 'd': 1, 'convenient': 1, 'a,': 1, 'c.': 1, 'cottage': 1, 'd,': 1, 'axes': 1, 'e,': 1, 'wife': 1, 'roses,': 1, 'flushed': 1, 'hotly': 1, 'derisive': 1, 'grins': 1, 'drivers.': 1, 'foot,': 1, 'each.': 1, 'appallingly': 1, 'incompetent': 1, 'hoped': 1, 'suggestions': 1, 'protests': 1, 'appropriate': 1, 'workman': 1, 'demolish': 1, 'charged': 1, 'fiver.': 1, 'available': 1, 'month.\"': 1, 'afternoon.': 1, 'anything.\"': 1, 'display?': 1, 'cellar': 1, 'department.\"': 1, 'torch.\"': 1, 'stairs.\"': 1, 'filing': 1, 'disused': 1, 'beware': 1, 'leopard.\"': 1, 'overhead.': 1, 'propped': 1, 'elbow': 1, 'house,\"': 1, 'bypass.\"': 1, 'attractive': 1, 'consumed': 1, 'ruin': 1, 'hefty': 1, 'spears': 1, 'protruding': 1, 'stuttered': 1, '\"mr': 1, '\"hello?': 1, 'yes?\"': 1, 'factual': 1, 'damage': 1, 'suffer': 1, 'much?\"': 1, 'hairy': 1, 'ape-descendant': 1, 'closest': 1, 'ape,': 1, 'never,': 1, 'suspected': 1, 'previously,': 1, 'blend': 1, 'society': 1, 'success.': 1, 'actor,': 1, 'plausible': 1, 'blunder': 1, 'skimped': 1, 'preparatory': 1, 'research.': 1, '\"ford': 1, 'prefect\"': 1, 'inconspicuous.': 1, 'striking': 1, 'handsome.': 1, 'wiry': 1, 'gingerish': 1, 'nose.': 1, 'blink': 1, 'behalf.': 1, 'broadly': 1, 'unnerving': 1, 'eccentric,': 1, 'boozer': 1, 'oddish': 1, 'habits.': 1, 'gatecrash': 1, 'parties,': 1, 'drunk': 1, 'astrophysicist': 1, 'seized': 1, 'distracted': 1, 'moods': 1, 'guiltily': 1, 'relax': 1, 'saucers,\"': 1, 'joke': 1, '\"green': 1, 'ones!\"': 1, 'lunge': 1, 'drinks.': 1, 'evenings': 1, 'badly.': 1, 'skull': 1, 'whisky,': 1, 'huddle': 1, 'slurred': 1, 'phrases': 1, 'honestly': 1, 'thereafter,': 1, 'semi-paralytic': 1, 'replied': 1, 'occasions.': 1, 'distractedly': 1, 'traditional': 1, 'livery': 1, 'scouts.': 1, 'stranded': 1, 'anywhere,': 1, 'flag': 1, 'lifts': 1, 'roving': 1, 'adaptors,': 1, 'environs': 1, 'routine.': 1, 'squelching': 1, 'demands': 1, 'lawyer,': 1, 'book;': 1, 'tackle': 1, 'ploy': 1, 'march': 1, 'cajoleries': 1, 'threats;': 1, \"drivers'\": 1, 'regulations': 1, 'financial': 1, 'advantage.': 1, 'diurnal': 1, '\"hello': 1, 'shadow.': 1, 'squinting': 1, '\"ford!': 1, 'hello,': 1, \"don't,\": 1, 'especially,': 1, 'sarcasm': 1, 'concentrating.': 1, '\"good,': 1, 'fixedly': 1, 'rabbit': 1, 'car.': 1, 'squatted': 1, 'talk,\"': 1, '\"talk.\"': 1, 'drink,\"': 1, 'village.\"': 1, 'nervous,': 1, 'expectant.': 1, 'understand?\"': 1, 'down!\"': 1, 'puzzled.': 1, 'he?\"': 1, 'to!\"': 1, '\"nothing.': 1, \"nothing's\": 1, 'matter.': 1, 'heard.': 1, 'saloon': 1, 'groom.\"': 1, 'stiff': 1, 'weaken.': 1, 'ports': 1, 'served': 1, 'madranite': 1, 'beta.': 1, 'indian': 1, 'wrestling,': 1, 'placed': 1, 'immortalized': 1, 'fly,': 1, 'lie,': 1, 'die/': 1, 'sinful': 1, 'spirit\").': 1, 'concentrate': 1, 'tip': 1, 'opponent': 1, 'refilled.': 1, 'lose': 1, 'losing,': 1, 'depress': 1, 'telepsychic': 1, 'predetermined': 1, 'quantity': 1, 'consumed,': 1, 'forfeit,': 1, 'obscenely': 1, 'biological.': 1, 'lose.': 1, 'plaintively.': 1, 'bulldozers?\"': 1, 'arrangement,\"': 1, 'shouted.': 1, '(who': 1, 'spokesman': 1, 'drivers': 1, 'constituted': 1, 'hazard,': 1, 'did)': 1, 'alarmed': 1, 'company.': 1, '\"yes?': 1, 'hello?\"': 1, 'called.': 1, 'yet?\"': 1, 'moment,\"': 1, '\"assume': 1, 'hasn\\'t?\"': 1, 'staying': 1, 'day?\"': 1, '\"so?\"': 1, 'nothing?\"': 1, 'anyway,': 1, 'don\\'t,\"': 1, 'such...\",': 1, 'slip': 1, 'potty.': 1, 'reasonable,\"': 1, 'reassuring': 1, 'reassure.': 1, 'return.\"': 1, 'much,\"': 1, 'much,': 1, 'frowned,': 1, 'once,': 1, 'failed,': 1, 'fitfully': 1, 'won.': 1, '\"so,\"': 1, 'clear.': 1, 'they?': 1, 'simple,\"': 1, 'client,': 1, 'sole': 1, 'condition': 1, 'nudged': 1, 'spelling': 1, 'bulldozer?\"': 1, '\"instead': 1, 'dent.\"': 1, '\"in,': 1, 'substantially': 1, 'shoulders:': 1, 'sighed.': 1, 'return': 1, 'pub?\"': 1, 'exactly.\"': 1, 'steps': 1, '\"promise?\"': 1, '\"promise,\"': 1, 'dream.': 1, 'beckoned': 1, 'awkwardly,': 1, 'oozed': 1, 'shoes.': 1, 'severely.': 1, 'sneaky': 1, '\"hadn\\'t': 1, 'begun': 1, 'speculate,\"': 1, 'settling': 1, \"driver's\": 1, 'representative': 1, 'marshal': 1, 'arguments': 1, 'proving': 1, 'constitute': 1, 'hazard': 1, 'noise,': 1, 'horses,': 1, 'smoke,': 1, 'stench': 1, 'blood.': 1, 'upon,': 1, 'khan': 1, 'rage,': 1, 'trembled': 1, 'whimpered.': 1, 'pricks': 1, 'eyelids.': 1, 'bureaucratic': 1, 'cock-ups,': 1, 'mud,': 1, 'indecipherable': 1, 'strangers': 1, 'handing': 1, 'humiliations': 1, 'unidentified': 1, 'army': 1, 'laughing': 1, 'kidneys': 1, 'him?\"': 1, '\"myself': 1, 'earth,\"': 1, \"far's\": 1, 'twelve': 1, 'away,\"': 1, 'alcohol': 1, 'colourless': 1, 'volatile': 1, 'fermentation': 1, 'sugars': 1, 'notes': 1, 'intoxicating': 1, 'mentions': 1, 'blaster.': 1, 'slice': 1, 'lemon': 1, 'brick.': 1, 'mixed,': 1, 'voluntary': 1, 'organizations': 1, 'rehabilitate': 1, 'afterwards.': 1, 'mix': 1, 'juice': 1, \"ol'\": 1, 'spirit,': 1, 'v': 1, 'fish!!!': 1, 'cubes': 1, 'mega-gin': 1, 'melt': 1, '(it': 1, 'iced': 1, 'benzine': 1, 'lost).': 1, 'litres': 1, 'fallian': 1, 'marsh': 1, 'marshes': 1, 'fallia.': 1, 'spoon': 1, 'float': 1, 'hypermint': 1, 'extract,': 1, 'redolent': 1, 'odours': 1, 'zones,': 1, 'mystic.': 1, 'tooth': 1, 'suntiger.': 1, 'dissolve,': 1, 'spreading': 1, 'sprinkle': 1, 'zamphuor.': 1, 'olive.': 1, 'carefully': 1, 'sells': 1, 'galactica.': 1, '\"six': 1, 'bitter,\"': 1, 'groom.': 1, 'deserve': 1, 'treatment,': 1, 'dignified': 1, 'prefect.': 1, 'helplessly': 1, 'sir?': 1, 'pulling': 1, 'pints.': 1, '\"going': 1, 'point,\"': 1, 'foregone': 1, '\"arsenal': 1, 'chance?\"': 1, '\"lucky': 1, 'arsenal': 1, 'really,\"': 1, 'heavily.': 1, 'pints,\"': 1, 'case': 1, 'had,': 1, 'pints,': 1, 'swift': 1, 'arithmetic,': 1, 'hopeful': 1, 'off,\"': 1, 'ours,\"': 1, 'suntiger': 1, 'bar.': 1, 'change.\"': 1, 'fiver?': 1, 'sir.\"': 1, 'bit.': 1, 'on?\"': 1, 'through.\"': 1, '\"three': 1, 'pints?\"': 1, 'lunchtime?\"': 1, 'happily.': 1, '\"time': 1, 'illusion.': 1, 'doubly': 1, 'deep,\"': 1, \"reader's\": 1, 'digest.': 1, 'sudden?\"': 1, 'relaxant,': 1, 'relaxant?\"': 1, 'relaxant.\"': 1, 'today,\"': 1, 'notice?\"': 1, 'other?\"': 1, 'six,\"': 1, 'betelgeuse?\"': 1, 'so-so': 1, 'pull': 1, 'factually:': 1, 'wan': 1, 'thursday,\"': 1, 'musing': 1, 'sinking': 1, 'thursdays.\"': 1, 'ionosphere': 1, 'planet;': 1, 'slablike': 1, 'somethings,': 1, 'buildings,': 1, 'birds.': 1, 'ease,': 1, 'basking': 1, 'electromagnetic': 1, 'biding': 1, 'grouping,': 1, 'preparing.': 1, 'oblivious': 1, 'presence,': 1, 'unnoticed': 1, 'goonhilly,': 1, 'cape': 1, 'canaveral': 1, 'blip,': 1, 'woomera': 1, 'darkness': 1, 'wore': 1, 'habitually': 1, 'contents': 1, \"physicist's\": 1, 'concealed': 1, 'keeping': 1, 'dog-eared': 1, 'plays': 1, 'pretended': 1, 'auditioning': 1, 'stuffed': 1, 'top.': 1, 'besides': 1, 'thumb': 1, 'squat': 1, 'rod,': 1, 'matt': 1, 'switches': 1, 'dials': 1, 'end;': 1, 'calculator.': 1, '\"pages\"': 1, 'summoned': 1, 'notice.': 1, 'insanely': 1, 'complicated,': 1, 'letters.': 1, 'books': 1, 'corporations': 1, 'micro': 1, 'sub': 1, 'component': 1, 'biros,': 1, 'notepad,': 1, 'bath': 1, 'marks': 1, 'spencer.': 1, 'towels.': 1, 'towel,': 1, 'have.': 1, 'warmth': 1, 'moons': 1, 'jaglan': 1, 'beta;': 1, 'marble-sanded': 1, 'beaches': 1, 'v,': 1, 'inhaling': 1, 'vapours;': 1, 'shine': 1, 'redly': 1, 'kakrafoon;': 1, 'mini': 1, 'raft': 1, 'river': 1, 'moth;': 1, 'hand-to-': 1, 'hand-combat;': 1, 'ward': 1, 'noxious': 1, 'fumes': 1, 'animal,': 1, 'assumes': 1, 'daft': 1, 'bush,': 1, 'ravenous);': 1, 'emergencies': 1, 'distress': 1, 'signal,': 1, 'importantly,': 1, 'psychological': 1, 'value.': 1, 'reason,': 1, '(strag:': 1, 'non-hitch': 1, 'hiker)': 1, 'discovers': 1, 'possession': 1, 'toothbrush,': 1, 'flannel,': 1, 'soap,': 1, 'biscuits,': 1, 'flask,': 1, 'compass,': 1, 'map,': 1, 'string,': 1, 'spray,': 1, 'gear,': 1, 'etc.,': 1, 'etc.': 1, 'furthermore,': 1, 'lend': 1, 'items': 1, '\"lost\".': 1, 'breadth': 1, 'slum': 1, 'struggle': 1, 'odds,': 1, 'through,': 1, 'reckoned': 1, 'slang,': 1, 'sass': 1, 'hoopy': 1, 'prefect?': 1, 'frood': 1, '(sass:': 1, 'of,': 1, 'meet,': 1, 'hoopy:': 1, 'guy;': 1, 'frood:': 1, 'guy.)': 1, 'nestling': 1, 'satchel,': 1, 'wink': 1, 'quickly.': 1, 'pint,': 1, 'what,': 1, 'have?\"': 1, 'surprised,': 1, 'longer.': 1, 'clicked': 1, 'urged.': 1, 'rumbling': 1, 'crash': 1, 'filtered': 1, 'murmur': 1, 'jukebox,': 1, 'hiccupping': 1, 'relaxed.': 1, 'down,\"': 1, 'drowning': 1, 'pint.': 1, 'spell': 1, 'broken.': 1, 'are!': 1, 'makes': 1, 'stage,\"': 1, 'fun.\"': 1, '\"fun?\"': 1, '\"fun!\"': 1, '\"damn': 1, 'fun!\"': 1, 'glass.': 1, 'lunchtime.': 1, '\"stop,': 1, 'vandals!': 1, 'wreckers!\"': 1, 'crazed': 1, 'visigoths,': 1, 'you!\"': 1, 'slapping': 1, 'bar,': 1, '\"twenty-eight': 1, 'kind.\"': 1, 'shivered:': 1, 'momentary': 1, 'exists': 1, 'signal.': 1, 'communicates': 1, 'pathetic': 1, 'birth.': 1, 'sixteen': 1, 'birthplace,': 1, 'far,': 1, 'noticed.': 1, 'born': 1, '600': 1, 'reeled': 1, 'shocking,': 1, 'meant,': 1, 'respect,': 1, 'awe.': 1, 'serious,': 1, 'silencing': 1, 'end?\"': 1, '\"but,': 1, 'afternoon?\"': 1, 'recovered': 1, 'flippest.': 1, 'gaily,': 1, 'estimate.\"': 1, 'having,': 1, 'pockets.': 1, 'raucously': 1, 'become.': 1, 'sozzled': 1, 'bag': 1, 'army,\"': 1, 'trek': 1, 'whisky.': 1, 'help?\"': 1, 'wave,': 1, 'left.': 1, 'longer,': 1, 'embarrassingly': 1, 'raucous': 1, 'dearly': 1, 'evaporate': 1, 'evaporating': 1, 'say:': 1, 'orders,': 1, 'please.\"': 1, 'downward': 1, 'lane,': 1, 'become,': 1, 'squall': 1, 'caterpillar': 1, 'crawling': 1, 'home.': 1, 'barbarians!\"': 1, 'sue': 1, 'penny': 1, 'got!': 1, 'quartered!': 1, 'whipped!': 1, 'enough.\"': 1, 'again!\"': 1, 'bits,': 1, 'them!\"': 1, 'bulldozers;': 1, 'hectically': 1, 'clouds.': 1, 'somethings.': 1, 'jumping': 1, '\"until': 1, 'blisters,': 1, 'tripped,': 1, 'headlong,': 1, \"hell's\": 1, 'shrieked.': 1, 'yellowness,': 1, 'mind-buggering': 1, 'gaping': 1, 'drove': 1, 'ears': 1, 'skull.': 1, 'louder.': 1, 'noiselessly': 1, 'people,': 1, 'tidal': 1, 'hills': 1, 'valleys,': 1, 'deserts': 1, 'oceans,': 1, 'seeming': 1, 'flatten': 1, 'hit.': 1, 'bungs': 1, 'happening': 1, 'sens-o-': 1, 'matic': 1, 'pillar': 1, 'woken': 1, 'start.': 1, 'deciphered': 1, 'coldness': 1, 'gripped': 1, 'heart.': 1, 'joseph': 1, 'technicolor': 1, 'dreamcoat,': 1, 'godspell:': 1, 'ready,': 1, 'prepared.': 1, 'nation': 1, 'huge,': 1, 'heavy,': 1, 'blasphemy': 1, 'nature.': 1, 'encompass': 1, 'ambient': 1, 'fi': 1, 'radio,': 1, 'television,': 1, 'cassette': 1, 'recorder,': 1, 'woofer,': 1, 'tweeter,': 1, 'mid-range': 1, 'can,': 1, 'bin,': 1, 'car,': 1, 'wine': 1, 'glass,': 1, 'rusty': 1, 'activated': 1, 'acoustically': 1, 'board.': 1, 'treated': 1, 'reproduction,': 1, 'built.': 1, 'concert,': 1, 'fanfare,': 1, '\"people': 1, 'wonderful.': 1, 'quadrophonic': 1, 'distortion': 1, 'levels': 1, 'weep.': 1, 'council,\"': 1, 'aware,': 1, 'development': 1, 'route': 1, 'system,': 1, 'regrettably': 1, 'scheduled': 1, 'demolition.': 1, 'minutes.': 1, 'uncomprehending': 1, 'crowds': 1, 'fillings': 1, 'board': 1, 'magnet': 1, 'sprouted': 1, 'fleeing': 1, 'panic,': 1, 'flee': 1, 'observing': 1, 'acting': 1, 'charts': 1, 'plenty': 1, 'lodge': 1, 'formal': 1, 'complaint': 1, 'echo': 1, 'underside': 1, 'opened,': 1, 'manned': 1, 'transmitter,': 1, 'located': 1, 'wavelength': 1, 'broadcasted': 1, 'plead': 1, 'behalf': 1, 'reply.': 1, 'annoyed.': 1, 'centauri?': 1, \"heaven's\": 1, 'mankind,': 1, 'lookout.': 1, '\"energize': 1, 'beams.\"': 1, 'poured': 1, 'hatchways.': 1, 'pa,': 1, '\"apathetic': 1, 'sympathy': 1, 'inky': 1, 'starry': 1, 'ion': 1, 'hot;': 1, 'remote;': 1, 'destination': 1, 'arranged': 1, 'consists': 1, 'middling': 1, 'separated': 1, 'annoyingly': 1, 'stretches': 1, 'ocean.': 1, 'topological': 1, 'awkwardness': 1, 'chose': 1, 'secret.': 1, 'sea,': 1, 'archipelago': 1, 'spaceport': 1, 'galacticspeke,': 1, 'brown)': 1, 'island,': 1, 'france.': 1, 'string': 1, 'coincidences.': 1, 'unveiling,': 1, 'introduced': 1, 'marvelling': 1, 'presidency,': 1, 'bananas.': 1, 'adventurer,': 1, 'ex-hippy,': 1, 'timer,': 1, '(crook?': 1, 'possibly),': 1, 'self-publicist,': 1, 'personal': 1, 'relationships,': 1, 'bananas,': 1, 'governed,': 1, 'intention': 1, 'fait': 1, 'accompli:': 1, 'ideal': 1, 'fodder*.': 1, 'day;': 1, 'hundredth': 1, 'birthday,': 1, 'coincidence.': 1, 'exciting': 1, 'steered': 1, 'improve': 1, 'ski-boxing.': 1, 'cooed': 1, 'boy': 1, 'nerves': 1, 'shriller': 1, 'france': 1, 'sandy': 1, 'shaped.': 1, 'defining': 1, 'heightened': 1, 'coastline': 1, 'steep': 1, 'cliffs.': 1, 'sloped': 1, 'shore.': 1, 'cliffs': 1, 'reception': 1, 'committee.': 1, 'researchers': 1, 'reptiloid': 1, 'atomineers,': 1, 'slyph-like': 1, 'maximegalacticans,': 1, 'octopoid': 1, 'physucturalist': 1, 'super-intelligent': 1, 'blue).': 1, 'multi-': 1, 'colored': 1, 'ceremonial': 1, 'coats;': 1, 'refracted': 1, 'free': 1, 'prism': 1, 'occasion.': 1, 'thrilling': 1, 'limits': 1, 'laws,': 1, 'restructured': 1, 'matter,': 1, 'strained,': 1, 'broken': 1, 'traditionally': 1, 'wore.)': 1, 'wielded:': 1, 'attract': 1, 'gasped,': 1, 'dazzled': 1, 'seemanship,': 1, 'speedboat': 1, 'headland': 1, 'skating': 1, 'skidding': 1, 'turns.': 1, 'supported': 1, 'hazy': 1, 'cushion': 1, 'ionized': 1, 'finblades': 1, 'lowered': 1, 'slashed': 1, 'sheets': 1, 'hissing': 1, 'gashes': 1, 'swayed': 1, 'crazily': 1, 'foaming': 1, \"boat's\": 1, 'careered': 1, 'effect:': 1, 'wheel': 1, 'scything': 1, 'skid': 1, 'rocking': 1, 'waves.': 1, 'deck': 1, 'gesture': 1, 'tri-d': 1, 'hovered': 1, 'obsequiously': 1, 'nearby.': 1, 'antics': 1, 'tri-d;': 1, 'bigger': 1, 'antic': 1, 'bargained': 1, 'homed': 1, 'appearance': 1, 'tousled': 1, 'directions,': 1, 'glinted': 1, 'unidentifiable,': 1, 'chins': 1, 'unshaven.': 1, 'twenty-foot-high': 1, 'transparent': 1, 'boat,': 1, 'bobbing,': 1, 'glistening': 1, 'semi-circular': 1, 'leather:': 1, 'rolled,': 1, 'stayed': 1, 'still,': 1, 'sofa.': 1, 'knee.': 1, 'smiling;': 1, 'scream.': 1, 'seethed': 1, 'spouted.': 1, 'spout.': 1, 'stilts': 1, 'cliff.': 1, 'jet,': 1, 'crashing': 1, 'hundreds': 1, 'below.': 1, 'picturing': 1, 'ridiculous': 1, 'transport,': 1, 'wavered': 1, 'railed': 1, 'ramp,': 1, 'platform': 1, 'riddled': 1, 'greeting.': 1, 'spider': 1, 'version': 1, 'soggily': 1, 'salvaged': 1, 'incorporated': 1, 'nest': 1, 'invented.': 1, 'papier': 1, 'm@ch@': 1, 'hatched': 1, 'baby': 1, 'notion': 1, 'truck': 1, 'gently': 1, 'deflected': 1, 'spider.': 1, 'beamed': 1, 'or,': 1, 'least,': 1, 'singled': 1, 'gird': 1, 'incognito.': 1, 'slim,': 1, 'darkish,': 1, 'hair,': 1, 'mouth,': 1, 'nob': 1, 'ridiculously': 1, 'scarf': 1, 'knotted': 1, 'flowing': 1, 'silky': 1, 'arabic.': 1, 'arab': 1, 'arabs': 1, 'ceased': 1, 'honey,\"': 1, 'knot': 1, 'wishing': 1, 'quotes.': 1, 'quote.': 1, 'officials': 1, 'deliciously': 1, 'flipped': 1, 'dome': 1, 'bulged': 1, 'split,': 1, 'although': 1, 'uncovered': 1, 'starship,': 1, 'metres': 1, 'shaped': 1, 'shoe,': 1, 'unseen,': 1, 'box': 1, 'brain-wretching': 1, 'conceived,': 1, 'unique': 1, 'named': 1, '\"wow\",': 1, 'annoy': 1, '\"wow.\"': 1, 'widened': 1, 'showoff.': 1, 'amazing.': 1, 'marvellous': 1, 'quote,': 1, 'true': 1, 'appreciatively,': 1, 'newsmen': 1, 'gleefully': 1, 'news-matics': 1, 'grinned.': 1, 'unbearably': 1, 'fingered': 1, 'paralyso-matic': 1, 'whoop': 1, 'thirds,': 1, 'smiles.': 1, 'sight,': 1, 'domed': 1, 'rose': 1, 'forehead.': 1, 'politics,': 1, 'waterproof': 1, 'indefinitely': 1, 'effects.': 1, 'swimming': 1, 'schedule': 1, 'billions': 1, 'primeval': 1, 'vogsphere,': 1, 'lain': 1, 'heaving': 1, 'virgin': 1, 'shores...': 1, 'vogsol': 1, 'evolution': 1, 'mistake.': 1, 'again;': 1, 'survived.': 1, 'tribute': 1, 'thick-': 1, 'willed': 1, 'slug-brained': 1, 'stubbornness': 1, 'creatures.': 1, 'evolution?': 1, 'it?,': 1, 'grosser': 1, 'anatomical': 1, 'inconveniences': 1, 'surgery.': 1, 'meanwhile,': 1, 'overtime': 1, 'earlier': 1, 'blunder.': 1, 'forth': 1, 'crabs,': 1, 'ate,': 1, 'shells': 1, 'mallets;': 1, 'aspiring': 1, 'breathtaking': 1, 'slenderness': 1, 'burned': 1, 'crab': 1, 'gazelle-': 1, 'silken': 1, 'coats': 1, 'dewy': 1, 'catch': 1, 'transport': 1, 'snap': 1, 'instantly,': 1, 'whiled': 1, 'millennia': 1, 'principles': 1, 'travel.': 1, 'vog': 1, 'migrated': 1, 'megabrantis': 1, 'cluster,': 1, 'hub': 1, 'immensely': 1, 'backbone': 1, 'learning,': 1, 'grace,': 1, 'respects': 1, 'modern': 1, 'forebears.': 1, 'import': 1, 'twenty-seven': 1, 'crabs': 1, 'drunken': 1, 'mallets.': 1, 'typical': 1, 'vile.': 1, 'also,': 1, 'intestines': 1, \"jeltz's\": 1, 'flagship,': 1, 'owner': 1, 'prefect*.': 1, 'little;': 1, 'flickering': 1, 'flame,': 1, 'dentrassis.': 1, 'gourmands,': 1, 'employing': 1, 'catering': 1, 'haul': 1, 'fleets,': 1, 'strict': 1, 'understanding': 1, 'money,': 1, 'currencies': 1, 'loathed': 1, 'annoyed': 1, 'pocket,': 1, 'crouched': 1, 'peanuts.\"': 1, 'moved,': 1, 'groaned': 1, 'incoherently.': 1, 'some,\"': 1, 'transference': 1, 'salt': 1, 'protein.': 1, 'cushioned': 1, '\"whhhrrrr...\"': 1, 'dark,\"': 1, 'dark.\"': 1, 'light,\"': 1, '\"dark,': 1, 'continually': 1, 'stating': 1, 'repeating': 1, 'obvious,': 1, 'dear': 1, 'fallen': 1, 'thirty-foot': 1, 'alright?': 1, 'behaviour.': 1, 'mouths': 1, 'seize': 1, \"months'\": 1, 'consideration': 1, 'favour': 1, 'working.': 1, 'obstructively': 1, 'cynical': 1, 'helped': 1, 'feel?\"': 1, 'military': 1, 'academy,\"': 1, '\"bits': 1, 'blankly': 1, 'were,\"': 1, 'regret': 1, 'safe,\"': 1, 'cabin,\"': 1, 'fleet.\"': 1, 'usage': 1, 'previously': 1, 'of.\"': 1, 'apprehensively.': 1, 'hideous': 1, 'throng': 1, 'musty': 1, 'smells': 1, 'identifying': 1, 'focusing.': 1, 'asked,': 1, 'shivering': 1, 'lift,\"': 1, 'me?\"': 1, 'thumbs': 1, 'monster': 1, 'fellas,': 1, 'hop': 1, 'basingstoke': 1, 'roundabout?\"': 1, \"thumb's\": 1, 'signalling': 1, 'device,': 1, \"roundabout's\": 1, 'otherwise,': 1, 'monster?\"': 1, 'green,': 1, 'home?\"': 1, 'can\\'t,\"': 1, '\"shade': 1, 'grief,\"': 1, 'saucer?\"': 1, 'irritable': 1, 'demolishing': 1, 'populated': 1, 'planets.': 1, 'flopped': 1, 'complaining': 1, 'creak.': 1, 'away!\"': 1, 'relieved.': 1, 'received.': 1, 'official': 1, 'release': 1, 'unveiled': 1, 'base': 1, 'henceforth': 1, 'routes': 1, 'unnecessary.': 1, 'quarters': 1, 'meals.': 1, 'bounded': 1, 'lunch': 1, 'tray.': 1, 'delighted.': 1, 'think?\"': 1, 'squalid,': 1, 'grubby': 1, 'mattress,': 1, 'unwashed': 1, 'unidentifiable': 1, 'underwear': 1, 'cramped': 1, 'sleeping': 1, 'quarters.\"': 1, 'cooks,': 1, 'board.\"': 1, 'confused,\"': 1, 'himself:': 1, 'swamps': 1, 'zeta': 1, 'dried': 1, 'handed': 1, \"hitchhiker's\": 1, 'job.\"': 1, 'cover,\"': 1, 'helpful': 1, 'intelligible': 1, \"anybody's\": 1, 'works,\"': 1, 'snatched': 1, 'two-week-dead': 1, 'index.\"': 1, 'four,': 1, 'characters': 1, 'flicker': 1, 'vogons,': 1, 'enter': 1, 'keys.': 1, 'undulate': 1, '\"vogon': 1, 'fleets.': 1, 'vogon:': 1, 'evil,': 1, 'tempered,': 1, 'bureaucratic,': 1, 'officious': 1, 'callous.': 1, 'grandmothers': 1, 'signed': 1, 'triplicate,': 1, 'queried,': 1, 'lost,': 1, 'found,': 1, 'subjected': 1, 'inquiry,': 1, 'peat': 1, 'recycled': 1, 'firelighters.': 1, 'throat,': 1, 'irritate': 1, 'grandmother': 1, 'traal.': 1, 'point,': 1, 'date': 1, 'edition,': 1, 'employ': 1, 'loophole.\"': 1, 'mixers': 1, 'slap': 1, 'aboard,': 1, 'company,': 1, 'annoys': 1, 'impoverished': 1, 'mattresses.': 1, '\"unfortunately': 1, 'intended,\"': 1, 'week': 1, 'years.\"': 1, '\"easy,': 1, 'teaser.\"': 1, 'teaser?\"': 1, 'teaser?': 1, 'teasers': 1, 'cruise': 1, 'contact': 1, '\"buzz': 1, '\"yeah\",': 1, 'isolated': 1, 'spot': 1, 'strut': 1, 'antennae': 1, 'childish': 1, 'really.\"': 1, 'leant': 1, '\"ah.': 1, 'demolished.\"': 1, 'levelly.': 1, 'book!\"': 1, 'panic.\"': 1, 'panicking!\"': 1, '\"alright': 1, 'panicking,': 1, 'politely': 1, 'jar': 1, 'wriggling': 1, 'alongside': 1, 'underwear,': 1, 'offering': 1, 'corn': 1, 'flakes.': 1, \"couldn't,\": 1, 'violent': 1, 'identify.': 1, 'fighting': 1, 'wolves.': 1, '\"listen,': 1, '\"im': 1, 'important?\"': 1, 'announcement': 1, 't\\'annoy.\"': 1, '\"listen!\"': 1, 'vogon!\"': 1, 'lightning': 1, 'movement,': 1, 'clapped': 1, 'ear,': 1, 'sickening': 1, 'slithering': 1, 'tract.': 1, 'goggle-eyed': 1, 'wonder.': 1, 'experiencing': 1, 'silhouetted': 1, 'candlestick.': 1, 'dots': 1, 'resolve': 1, 'optician': 1, 'charge': 1, 'glasses.': 1, 'gargles,': 1, 'semblance': 1, 'straightforward': 1, 'english.': 1, '\"howl': 1, 'slurrp': 1, 'uuuurgh': 1, 'repeats.': 1, 'hitchhikers': 1, 'aboard.': 1, 'taxi': 1, 'degenerate': 1, 'freeloaders.': 1, 'party,': 1, '\"secondly,': 1, 'star.': 1, 'stay': 1, 'dock': 1, 'seventy-two': 1, 'refit,': 1, 'repeat,': 1, 'cancelled.': 1, 'love': 1, 'ends.\"': 1, 'embarrassment': 1, '\"charming': 1, 'man,\"': 1, 'daughter': 1, 'forbid': 1, 'marry': 1, 'appeal': 1, 'accident.': 1, 'move,\"': 1, 'uncurl': 1, 'unpleasantly': 1, 'drunk.\"': 1, 'drunk?\"': 1, 'water.\"': 1, 'ear?\"': 1, 'translating': 1, 'foetal': 1, 'jump.': 1, 'leak': 1, 'spun': 1, 'navel.': 1, 'fish,\"': 1, 'small,': 1, 'leech-like,': 1, 'absorbs': 1, 'unconscious': 1, 'nourish': 1, 'excretes': 1, 'telepathic': 1, 'combining': 1, 'conscious': 1, 'nerve': 1, 'supplied': 1, 'upshot': 1, 'language.': 1, 'decode': 1, 'bizarrely': 1, 'mind\\\\-bog\\\\-gin\\\\-gly': 1, 'purely': 1, 'thin\\\\-kers': 1, 'non-existence': 1, 'refuse': 1, \"exist,'\": 1, '`for': 1, 'denies': 1, 'faith,': 1, 'faith': 1, \"nothing.'\": 1, '\"`but,\\'': 1, 'giveaway,': 1, 'chance.': 1, 'proves': 1, 'therefore,': 1, 'arguments,': 1, \"qed.'\": 1, '\"`oh': 1, \"dear,'\": 1, \"that,'\": 1, 'puff': 1, 'logic.': 1, '\"`oh,': 1, \"easy,'\": 1, 'gets': 1, 'zebra': 1, 'crossing.': 1, 'theologians': 1, 'claim': 1, 'kidneys,': 1, 'colluphid': 1, 'central': 1, 'theme': 1, 'best-': 1, 'wraps': 1, '\"meanwhile,': 1, 'fish,': 1, 'removing': 1, 'barriers': 1, 'cultures,': 1, 'bloddier': 1, 'creation.\"': 1, 'horrified': 1, 'swam': 1, 'nauseated': 1, 'feelings': 1, 'sister': 1, 'stranger': 1, 'stab': 1, 'gone!': 1, 'outcry,': 1, 'outcry.': 1, 'spaceship.': 1, 'claustrophobia': 1, 'america,': 1, 'smaller': 1, 'york': 1, 'dollar,': 1, 'tremor': 1, 'bogart': 1, 'movie': 1, 'wiped,': 1, 'knock.': 1, 'mcdonalds,': 1, 'hamburger.': 1, 'sobbing': 1, 'jerked': 1, 'travelling-through-space': 1, 'trying.': 1, 'gathering': 1, 'material': 1, 'ok.\"': 1, 'shaking.': 1, 'relevant': 1, 'page.': 1, 'print.': 1, 'entry!\"': 1, 'does,\"': 1, '\"down': 1, 'gallumbits,': 1, 'triple-breasted': 1, 'whore': 1, 'eroticon': 1, '6.\"': 1, 'pointing.': 1, 'register,': 1, 'harmless?': 1, 'harmless!': 1, 'word!\"': 1, 'limited': 1, \"book's\": 1, 'microprocessors,\"': 1, 'transmit': 1, 'editor.': 1, 'trim': 1, 'improvement.\"': 1, 'harmless,\"': 1, 'admitted': 1, 'cough.': 1, 'harmless!\"': 1, 'noise?\"': 1, '\"no!': 1, 'trouble.\"': 1, 'trouble!\"': 1, 'marching': 1, 'boots,\"': 1, 'rap': 1, 'unlucky?\"': 1, 'unlucky,\"': 1, 'grimly,': 1, 'azagoths': 1, 'kria.': 1, 'recitation': 1, 'poet': 1, 'master': 1, 'flatulent': 1, '\"ode': 1, 'putty': 1, 'armpit': 1, 'midsummer': 1, 'morning\"': 1, 'audience': 1, 'internal': 1, 'haemorrhaging,': 1, 'mid-galactic': 1, 'arts': 1, 'nobbling': 1, 'survived': 1, 'gnawing': 1, 'reported': 1, '\"disappointed\"': 1, \"poem's\": 1, 'reception,': 1, 'embark': 1, 'twelve-': 1, 'epic': 1, 'bathtime': 1, 'intestine,': 1, 'civilization,': 1, 'throttled': 1, 'brain.': 1, 'perished': 1, 'creator': 1, 'paula': 1, 'nancy': 1, 'millstone': 1, 'jennings': 1, 'greenbridge,': 1, 'essex,': 1, 'slowly.': 1, 'sequence': 1, 'muscle': 1, 'movements.': 1, 'therapeutic': 1, 'yell': 1, 'callousness.': 1, 'appreciation': 1, '--strapped': 1, 'illusions': 1, 'regard': 1, 'composition': 1, 'bludgeoning': 1, 'insistence': 1, 'cultured': 1, 'race,': 1, 'bloodymindedness.': 1, 'sweat': 1, 'brow,': 1, 'electrodes': 1, 'strapped': 1, 'attached': 1, 'battery': 1, 'intensifiers,': 1, 'modulators,': 1, 'alliterative': 1, 'residulators': 1, 'simile': 1, 'dumpers': 1, 'heighten': 1, 'nuance': 1, 'quivered.': 1, 'fetid': 1, 'passage': 1, 'devising.': 1, 'frettled': 1, 'gruntbuggly': 1, 'began.': 1, 'wracked': 1, 'thy': 1, 'micturations': 1, '|': 1, 'plurdled': 1, 'gabbleblotchits': 1, 'lurgid': 1, 'bee.\"': 1, '\"aaaaaaarggggghhhhhh!\"': 1, 'wrenching': 1, 'thumped': 1, 'clenched': 1, '\"groop': 1, 'implore': 1, 'thee,\"': 1, 'merciless': 1, 'foonting': 1, 'turlingdromes.\"': 1, 'horrible': 1, 'impassioned': 1, 'stridency.': 1, 'hooptiously': 1, 'drangle': 1, 'bindlewurdles,|': 1, 'rend': 1, 'thee': 1, 'gobberwarts': 1, 'blurglecruncheon,': 1, '\"nnnnnnnnnnyyyyyyyuuuuuuurrrrrrrggggggghhhhh!\"': 1, 'enhancement': 1, 'limp.': 1, 'lolled.': 1, 'earthlings': 1, 'whirred': 1, 'had)': 1, 'choice!': 1, 'melodramatic': 1, 'effect,': 1, 'was!\"': 1, 'leathery': 1, 'bat-shaped': 1, 'rasping': 1, 'parched': 1, 'moaned.': 1, 'brightly:': 1, 'approach': 1, 'eyebrow': 1, 'obscured': 1, 'whirred,': 1, 'metaphysical': 1, 'organizing': 1, 'concept.': 1, 'bareface': 1, 'this?': 1, 'continue': 1, 'too,\"': 1, 'counterpoint': 1, 'floundered.': 1, 'rescue,': 1, 'hazarding': 1, 'floundered': 1, 'humanity': 1, '\"vogonity,\"': 1, 'vogonity': 1, '(sorry)': 1, 'soul,\"': 1, 'contrives': 1, 'medium': 1, 'verse': 1, 'sublimate': 1, 'transcend': 1, 'dichotomies': 1, 'other,\"': 1, 'triumphant': 1, 'crescendo': 1, '...)': 1, 'profound': 1, 'vivid': 1, 'insight': 1, '(...': 1, 'him.)': 1, 'coup': 1, 'de': 1, 'gr@ce:': 1, 'about!\"': 1, 'mouth:': 1, 'perused': 1, 'embittered': 1, 'touched,': 1, 'snagging': 1, 'nylon.': 1, 'loved,\"': 1, 'wrong,\"': 1, 'relief.': 1, 'guard!': 1, 'yanked': 1, 'straps': 1, 'arms.': 1, 'book.\"': 1, 'joined': 1, 'corps.': 1, 'detached': 1, 'amusement': 1, 'headache!': 1, 'heaven': 1, 'headache,': 1, 'neck,': 1, 'bowing': 1, \"captain's\": 1, 'hoiked': 1, 'protesting': 1, 'mused': 1, 'fingering': 1, 'verses.': 1, '\"hmmmm,\"': 1, 'grim': 1, '\"death\\'s': 1, 'echoed': 1, 'struggles': 1, 'humanoids': 1, 'armpits.': 1, 'great,\"': 1, 'terrific.': 1, 'brute!\"': 1, 'hopeful.': 1, 'maintain': 1, 'demolished': 1, 'today.': 1, 'reading,': 1, 'smoking': 1, 'remains': 1, 'earth!\"': 1, 'gurgled': 1, 'tightened': 1, 'grip.': 1, 'panicking?\"': 1, 'shock.': 1, 'bearings.': 1, 'hysterical.': 1, 'well!\"': 1, 'rest,\"': 1, \"captor's\": 1, 'suddenly.': 1, 'stupidity': 1, 'seeped': 1, '\"enjoy?\"': 1, 'satisfying': 1, 'stomping': 1, 'pushing': 1, 'slacked.': 1, '\"they\\'d': 1, 'amazed': 1, 'whisper.': 1, 'resumed.': 1, 'moiled': 1, 'murky': 1, 'depths.': 1, 'lousy.': 1, 'bellowed,': 1, '\"sure,': 1, 'hurriedly,': 1, 'tell.': 1, 'lousy,\"': 1, 'mark,': 1, 'girls?': 1, 'leather?': 1, 'machismo?': 1, 'presents': 1, 'challenge?\"': 1, 'dunno.': 1, 'aunt': 1, 'uniform,': 1, 'low-': 1, 'slung': 1, 'stun': 1, 'ray': 1, 'holster,': 1, 'argument,': 1, 'had.': 1, 'half-throttled': 1, '\"try': 1, '\"here': 1, 'lad,': 1, \"life's\": 1, 'condescension,': 1, 'sad.': 1, 'rumblings': 1, 'bemusement': 1, '\"well.': 1, 'lad!\"': 1, 'encouraged': 1, 'rumblings,': 1, 'alternative?\"': 1, '\"stop': 1, 'course!': 1, 'anymore.\"': 1, 'pondering': 1, '\"eerrrrrrmmmmmmmmmmmmmmmmmmmmm': 1, '\"erm,': 1, 'minute,\"': 1, 'renewed': 1, 'lugging': 1, 'airlock.': 1, 'touched.': 1, 'shoved': 1, 'do.\"': 1, 'look!\"': 1, 'brightly.': 1, '\"huhhhhgggggggnnnnnnn': 1, 'inflection.': 1, 'yet!': 1, 'arrrggghhh!\"': 1, 'useless,\"': 1, 'promoted': 1, 'senior': 1, 'officer,': 1, 'vacancies': 1, 'non-shouting': 1, 'non-pushing-people-about': 1, 'officers,': 1, 'strength': 1, 'craft.': 1, '\"bye': 1, 'uselessly': 1, 'reclosing': 1, 'hatchway.': 1, 'listen,\"': 1, 'offhand': 1, \"beethoven's\": 1, 'fifth.': 1, '\"da': 1, 'dum!': 1, 'stir': 1, 'aunt.\"': 1, 'sealed': 1, 'tight,': 1, 'faint': 1, 'engines.': 1, 'cylindrical': 1, 'diameter': 1, 'long.': 1, '\"potentially': 1, 'lad': 1, 'fallen.': 1, 'panting.': 1, 'trapped.\"': 1, 'anything?': 1, 'notice.\"': 1, 'panted': 1, 'unfortunately,\"': 1, 'airtight': 1, 'hatchway.\"': 1, 'kicked': 1, 'neat.\"': 1, 'details': 1, 'happens': 1, 'next?\"': 1, 'asphyxicate.': 1, 'hymn.': 1, 'alien.': 1, 'no!': 1, 'minute!\"': 1, 'lunged': 1, 'vision.': 1, 'switch?\"': 1, 'where?\"': 1, 'twisting': 1, 'fooling,\"': 1, 'tune': 1, 'asphyxication': 1, 'young.\"': 1, '\"why,': 1, 'listen.\"': 1, '\"oh.\"': 1, 'humming.': 1, '\"nelson\\'s': 1, 'well.\"': 1, 'motor': 1, 'whirred.': 1, 'hiss': 1, 'deafening': 1, 'rushing': 1, 'studded': 1, 'corks': 1, 'compiled': 1, 'recompiled': 1, 'editorships.': 1, 'contributions': 1, 'countless': 1, 'travellers': 1, 'researchers.': 1, '\"space,\"': 1, 'vastly': 1, 'hugely': 1, 'chemist,': 1, '(after': 1, 'settles': 1, 'fabulously': 1, 'bethselamin': 1, 'erosion': 1, 'tourists': 1, 'net': 1, 'imbalance': 1, 'eat': 1, 'excrete': 1, 'surgically': 1, 'removed': 1, 'bodyweight': 1, 'leave:': 1, 'receipt.)': 1, 'confronted': 1, 'enormity': 1, 'responsible': 1, \"guide's\": 1, 'faltered.': 1, 'consider': 1, 'peanut': 1, 'walnut': 1, 'johannesburg,': 1, 'dizzying': 1, 'concepts.': 1, 'imagination.': 1, 'stars.': 1, 'sol': 1, \"sol's\": 1, 'stellar': 1, 'neighbour,': 1, 'proxima.': 1, 'longer:': 1, 'boggling': 1, 'gatecrasher.': 1, 'demolished,': 1, 'comforting': 1, 'commemorated': 1, 'twenty-nine': 1, 'rescued.': 1, 'chatted': 1, 'reason.': 1, 'wide,': 1, 'hats': 1, 'balloons': 1, 'three-': 1, 'foot-high': 1, 'analysts': 1, 'died,': 1, 'asphyxication,': 1, 'thirty-nine': 1, 'eggs': 1, 'materializing': 1, 'woobly': 1, 'famine-': 1, 'pansel': 1, 'famine': 1, 'cholesterol': 1, 'poisoning': 1, 'weeks': 1, 'reverberated': 1, 'fashion.': 1, 'traumatized': 1, 'group': 1, 'sterility': 1, 'cling': 1, 'patterns.': 1, '(this': 1, 'patterns)': 1, 'maelstroms': 1, 'storms': 1, 'unreason': 1, 'pavement.': 1, 'gulping': 1, 'half-spent': 1, 'scrabbling': 1, 'fingerhold': 1, 'unknown,': 1, '\"sure.\"': 1, '\"bright': 1, 'mine,\"': 1, 'arched': 1, 'flitted': 1, 'by,': 1, 'mountain': 1, 'goats.': 1, 'primal': 1, 'exploded,': 1, 'splattering': 1, 'gobbets': 1, 'junket.': 1, 'blossomed,': 1, 'shrank': 1, 'prime': 1, 'coalesced': 1, 'hid': 1, 'astronomical.\"': 1, 'worked,\"': 1, 'pit': 1, 'eternity': 1, 'yawned': 1, 'i,\"': 1, 'jumped,': 1, 'froze,': 1, 'quivered': 1, 'splayed': 1, '\"hell,': 1, '\"we\\'d': 1, 'mad,': 1, 'considered,': 1, 'southend?\"': 1, 'i.\"': 1, '\"therefore': 1, '\"nice': 1, 'elderberry': 1, 'bush': 1, 'kippers?\"': 1, 'someone.\"': 1, 'unease': 1, 'children': 1, 'bounced': 1, 'horses': 1, 'supplies': 1, 'reinforced': 1, 'railings': 1, 'uncertain': 1, 'areas.': 1, 'cough,': 1, 'southend,': 1, 'stays': 1, 'washing': 1, 'too.': 1, 'southend': 1, 'equal': 1, 'segments': 1, 'giddily': 1, 'lewd': 1, 'licentious': 1, 'formation,': 1, 'altogether': 1, 'yowling': 1, 'pipes': 1, 'strings': 1, 'seared': 1, 'doughnuts': 1, 'each,': 1, 'horrid': 1, 'archaic': 1, 'sessions': 1, 'footling': 1, 'bats': 1, \"girl's\": 1, 'sensible': 1, 'skidded': 1, 'voice?\"': 1, 'probability.\"': 1, '\"probability?': 1, '\"probability.': 1, 'million-gallon': 1, 'vat': 1, 'custard': 1, 'upended': 1, 'warning.': 1, 'custard?\"': 1, 'probability!\"': 1, 'spaceship.\"': 1, 'first-': 1, 'class': 1, 'compartment.\"': 1, 'bulges': 1, 'space-time.': 1, 'bulges.': 1, '\"haaaauuurrgghhh': 1, 'softening': 1, 'bending': 1, 'unusual': 1, '\"southend': 1, 'melting': 1, 'swirling': 1, 'dustbowl': 1, 'sunset': 1, \"arm's\": 1, 'too.\"': 1, 'frightening': 1, 'him:': 1, '\"hell,\"': 1, 'operate': 1, 'wound': 1, 'penguin.': 1, 'seventy-five': 1, 'waddled': 1, 'pond': 1, 'furious': 1, 'circle.': 1, 'quacked.': 1, 'stopping': 1, 'relax,\"': 1, 'pleasantly,': 1, 'stewardess': 1, 'airliner': 1, 'fire,': 1, 'safe.\"': 1, 'point!\"': 1, 'raged': 1, 'penguin,': 1, 'colleague': 1, 'limbs!\"': 1, '\"admittedly,\"': 1, 'anything,\"': 1, 'avian': 1, 'fury,': 1, 'giant': 1, 'petit': 1, 'lolloped': 1, 'gold.\"': 1, 'alarmed,\"': 1, '\"by': 1, 'initial': 1, 'higher.': 1, 'twenty-five': 1, 'falling,': 1, 'restoring': 1, 'normality': 1, 'luminous': 1, 'cubicle.': 1, '\"arthur!\"': 1, 'fantastic!': 1, 'powered': 1, 'incredible!': 1, 'rumors': 1, 'before!': 1, 'officially': 1, 'denied,': 1, 'arthur?': 1, 'happening?\"': 1, 'jammed': 1, 'cubicle,': 1, 'closed,': 1, 'fitting.': 1, 'squeezing': 1, 'cracks,': 1, 'inkstained;': 1, 'insanely.': 1, 'script': 1, 'hamlet': 1, 'method': 1, 'tedious': 1, 'mucking': 1, 'chance,': 1, 'developed': 1, 'governable': 1, 'propulsion': 1, \"government's\": 1, 'discovery.': 1, 'generating': 1, 'amounts': 1, 'hooking': 1, 'bambleweeny': 1, '57': 1, 'sub-': 1, 'atomic': 1, 'vector': 1, 'plotter': 1, 'brownian': 1, 'producer': 1, '(say': 1, 'tea)': 1, 'generators': 1, 'ice': 1, 'parties': 1, 'molecules': 1, \"hostess's\": 1, 'undergarments': 1, 'left,': 1, 'accordance': 1, 'indeterminacy.': 1, 'debasement': 1, 'science,': 1, 'parties.': 1, 'failure': 1, 'encountered': 1, 'construct': 1, 'generate': 1, 'needed': 1, 'mind-paralysing': 1, 'grumpily': 1, 'impossible.': 1, 'unsuccessful': 1, 'way:': 1, 'if,': 1, 'logically': 1, 'improbability.': 1, 'generator,': 1, 'on!': 1, 'generator': 1, 'awarded': 1, \"institute's\": 1, 'prize': 1, 'extreme': 1, 'cleverness': 1, 'rampaging': 1, 'smartass.': 1, 'improbability-proof': 1, 'new.': 1, 'seats': 1, 'wrapping': 1, 'white,': 1, 'oblong,': 1, 'restaurant.': 1, 'oblong:': 1, 'raked': 1, 'parallel': 1, 'curve,': 1, 'corners': 1, 'contoured': 1, 'shapes.': 1, 'simpler': 1, 'ordinary': 1, 'three-dimensional': 1, 'oblong': 1, 'rom,': 1, 'designers': 1, 'miserable.': 1, 'purposeful,': 1, 'video': 1, 'wall,': 1, 'convex': 1, 'humped,': 1, 'hanging': 1, 'loosely': 1, 'knees.': 1, 'new,': 1, 'bearing': 1, 'paced': 1, 'cabin,': 1, 'brushing': 1, 'giggling': 1, 'clump': 1, 'tannoy': 1, '\"five': 1, '\"four': 1, 'factor': 1, 'normality,': 1, 'repeat': 1, 'normality.\"': 1, 'microphone': 1, '\"anything': 1, 'problem.': 1, 'relax.': 1, 'soon.\"': 1, 'annoyance:': 1, 'trillian?\"': 1, '\"section': 1, 'zz9': 1, 'trillian,\"': 1, 'wise': 1, 'circumstances?': 1, 'style,': 1, 'thinking,': 1, 'dash,': 1, 'bravado,': 1, 'conceit': 1, 'mechanically': 1, 'inept': 1, 'easily': 1, 'extravagant': 1, 'gesture.': 1, 'unprotected': 1, 'but?\"': 1, 'side.': 1, 'later.\"': 1, 'dead.\"': 1, 'die?\"': 1, '\"anyway,\"': 1, 'controls,': 1, 'itself.\"': 1, '\"whilst': 1, 'drive.\"': 1, 'incredible.\"': 1, 'improbable.\"': 1, 'aliens.': 1, 'marvin!\"': 1, 'wobbled': 1, 'imperceptibly.': 1, 'observer': 1, 'heroic': 1, 'depressed,\"': 1, 'hopeless.': 1, 'tone,': 1, 'occupy': 1, 'work,\"': 1, 'droned': 1, 'exceptionally': 1, 'surveillance.\"': 1, 'microsecond': 1, 'micromodulation': 1, 'timbre': 1, 'offence': 1, 'convey': 1, 'contempt': 1, '\"she\\'s': 1, 'tolling': 1, 'bell,': 1, 'flat-topped': 1, 'triangular': 1, 'pathetically.': 1, 'lilt': 1, 'fine.\"': 1, 'mind?\"': 1, 'probed': 1, '\"marvin': 1, 'heel': 1, 'lugged': 1, 'click': 1, 'mechanical': 1, 'apparatus': 1, 'pal': 1, 'with.\"': 1, \"who'll\": 1, 'comes,\"': 1, 'footnote': 1, 'welcome': 1, 'applications': 1, 'interested': 1, 'post': 1, 'robotics': 1, 'correspondent.': 1, 'warp': 1, 'came.\"': 1, 'cubicle': 1, 'existence,': 1, 'embarkation': 1, 'smart.': 1, 'brand': 1, 'new,\"': 1, 'tell?\"': 1, 'age': 1, 'metal?\"': 1, 'brochure': 1, \"yours'\": 1, 'ah!': 1, 'says:': 1, 'breakthrough': 1, 'physics.': 1, 'envy': 1, 'governments.': 1, 'wow,': 1, 'league': 1, 'hunted': 1, 'technical': 1, 'specs': 1, 'astrotechnology': 1, 'ahead': 1, 'exile.': 1, 'while,': 1, 'majority': 1, 'wander,': 1, 'trailing': 1, 'invitingly': 1, 'engrossed': 1, 'brochure,': 1, 'cybernetics.': 1, 'computers,': 1, 'gpp': 1, 'feature.\"': 1, '\"gpp': 1, 'feature?\"': 1, 'personalities.\"': 1, '\"sounds': 1, 'ghastly.\"': 1, 'hopeless': 1, 'accompanied': 1, 'clanking': 1, '\"ghastly,\"': 1, 'ghastly.': 1, 'stepping': 1, 'irony': 1, 'modulator': 1, 'brochure.': 1, 'doors': 1, 'sunny': 1, 'disposition.': 1, 'done.\"': 1, 'sigh-like': 1, '\"hummmmmmmyummmmmmm': 1, 'ah!\"': 1, 'loathing': 1, 'tinkered': 1, 'concept': 1, 'directing': 1, 'violence': 1, 'bother?': 1, 'amused': 1, 'analysing': 1, 'molecular': 1, \"humanoids'\": 1, 'cells.': 1, 'hydrogen': 1, 'emissions': 1, 'surrounding': 1, 'cubic': 1, 'parsec': 1, 'boredom.': 1, 'despair': 1, 'droned,': 1, 'ordered': 1, 'am,': 1, 'satisfaction?': 1, \"'cos\": 1, 'intolerable': 1, 'smugness': 1, 'generates.\"': 1, 'ingratiating': 1, 'whine': 1, 'clicks': 1, 'whirrs.': 1, 'corporation,\"': 1, 'desolately': 1, 'personalities,\"': 1, 'prototype.': 1, 'disclaimers.': 1, 'by?\"': 1, 'beeblebrox.\"': 1, 'expressions': 1, 'amazement': 1, 'piled': 1, 'jumbled': 1, 'mess.': 1, 'leg,': 1, 'mid': 1, 'stride,': 1, 'entangle': 1, 'dartoid': 1, 'muscles.': 1, 'wrong?\"': 1, 'dragging': 1, 'regardless.': 1, '\"pardon': 1, 'breathing,': 1, 'depressed.': 1, 'self-satisfied': 1, 'life!': 1, 'mentioned': 1, 'irritably.': 1, 'beeblebrox?\"': 1, 'clatter': 1, 'searched': 1, 'wavebands': 1, 'operate.': 1, 'radios': 1, 'pressing': 1, 'dials;': 1, 'technology': 1, 'touch-sensitive': 1, 'fingers;': 1, 'general': 1, 'muscular': 1, 'expenditure': 1, 'programme.': 1, 'background': 1, 'announcement.': 1, 'rhythms': 1, 'music.': 1, 'band,': 1, 'broadcasting': 1, 'clock,\"': 1, 'everywhere': 1, 'rocks': 1, 'together,': 1, 'guys.': 1, 'tonight': 1, 'theft': 1, 'prototype': 1, 'flipped?': 1, 'invented': 1, 'blaster,': 1, 'ex-confidence': 1, 'trickster,': 1, 'gallumbits': 1, 'voted': 1, 'wort': 1, 'private': 1, 'gag': 1, 'halfrunt': 1, 'halfrunt.': 1, '\"vell,': 1, 'jist': 1, 'zis': 1, \"radio's\": 1, 'on/off': 1, 'airspace.': 1, 'pencil.': 1, 'tapping': 1, 'screenful': 1, '\"yeah?': 1, 'interrupting': 1, 'bulletin': 1, 'insecure.': 1, 'moment?': 1, 'blinked.': 1, '\"mmmmm,\"': 1, '\"zz': 1, 'alpha.': 1, 'alpha?\"': 1, 'difficulties': 1, 'distinguish': 1, 'outrageously': 1, 'stupid.': 1, 'renowned': 1, 'act.': 1, 'proffered': 1, 'puzzled': 1, 'contemptuous.': 1, 'stupid,': 1, 'argue': 1, 'map': 1, 'visiscreen': 1, 'wanting': 1, '\"there,\"': 1, 'pointed,': 1, '\"right': 1, 'yeah!\"': 1, 'calmly,': 1, 'wild.': 1, 'zapped': 1, 'there?': 1, 'nowhere.\"': 1, 'drive,\"': 1, 'patiently.': 1, '\"picking': 1, 'controlled': 1, 'permeated': 1, 'ribbon': 1, 'record.': 1, 'brash': 1, 'cheery': 1, 'detergent.': 1, 'paper.\"': 1, 'spilling': 1, 'waste': 1, 'bin': 1, 'understand.': 1, 'snatching': 1, 'ok': 1, 'hurt': 1, 'pored': 1, 'scanner': 1, 'out,\"': 1, '\"from': 1, 'rescue': 1, 'was?\"': 1, 'constant\",': 1, 'high.': 1, 'tow-to-the': 1, 'power-': 1, 'of-infinity-minus-one': 1, 'physics).': 1, 'low,\"': 1, 'quizzically.': 1, 'whack': 1, 'accounted': 1, 'balance': 1, 'sum.\"': 1, 'scribbled': 1, 'sums,': 1, '\"bat\\'s': 1, 'dots,': 1, 'irritation': 1, 'gritted': 1, '(ticker': 1, 'tape,': 1, 'tape).': 1, 'forecast': 1, 'based': 1, 'data,': 1, 'notion.': 1, 'numbers?\"': 1, 'flipped?\"': 1, 'gasped.': 1, '\"telephone': 1, 'politely,': 1, 'robot.': 1, 'cameras?\"': 1, 'moaning.': 1, 'diodes': 1, '\"no?\"': 1, 'grimly': 1, '\"really?\"': 1, 'replaced': 1, 'listens.\"': 1, 'imagine.\"': 1, 'course?\"': 1, 'doors.\"': 1, 'corridor.': 1, 'suspiciously.': 1, 'impatiently.': 1, 'entrance': 1, 'intellectual': 1, 'capacities': 1, \"shouldn't\": 1, 'wonder.\"': 1, 'loathing,': 1, 'hunter': 1, 'stalking': 1, 'prey.': 1, 'happy.\"': 1, 'thorax': 1, 'gears': 1, '\"funny,\"': 1, 'funerally,': 1, 'does.\"': 1, 'shrugging': 1, 'shoulders.': 1, 'rust,': 1, 'standing?\"': 1, 'marvin?\"': 1, 'laughing.': 1, 'picking': 1, 'preoccupied': 1, 'left-hand': 1, 'broad,': 1, 'relaxed,': 1, 'nonchalant': 1, 'jaw': 1, 'flapped': 1, 'loose': 1, 'lazy': 1, 'affectation': 1, 'nonchalance': 1, 'hi,': 1, 'outcooled.': 1, 'drawled,': 1, 'suits': 1, 'goggled': 1, 'guy?\"': 1, '\"know': 1, 'him!\"': 1, '\"he\\'s': 1, 'introductions': 1, 'mine,': 1, 'casually,': 1, '\"hi\"': 1, 'picked.': 1, 'beeb': 1, 'met,\"': 1, 'lane': 1, 'fourth': 1, 'engine': 1, 'bonnet': 1, 'stride': 1, 'his.': 1, '\"err': 1, 'surprise': 1, 'gum': 1, 'rounded': 1, 'resent': 1, 'lumbered': 1, 'ignorant': 1, 'ilford-based': 1, 'peking.': 1, 'met?\"': 1, 'martin': 1, 'smith': 1, 'croydon.\"': 1, 'care,\"': 1, 'coldly.': 1, 'met,': 1, 'phil?\"': 1, 'remind': 1, 'species.\"': 1, '\"cool': 1, 'arthur!\"': 1, 'deterred.': 1, 'ago.': 1, 'tight-lipped': 1, '\"london,\"': 1, '\"islington.\"': 1, 'guilty': 1, 'start,': 1, 'party.\"': 1, 'breezily.': 1, 'years!\"': 1, '\"looking': 1, 'gatecrashed': 1, 'trembling': 1, 'anger,': 1, 'fancy': 1, 'lady?\"': 1, 'somebody.': 1, 'evening.': 1, 'beautiful,': 1, 'devastatingly': 1, 'plying': 1, 'barges': 1, 'doll,': 1, 'boring': 1, 'instead?': 1, 'planet.\"': 1, '\"zaphod?\"': 1, 'glaring': 1, 'foolish.': 1, 'phil,': 1, 'wandering': 1, 'ton': 1, 'words.': 1, '\"tricia': 1, 'mcmillian?\"': 1, '\"same': 1, 'lift.': 1, 'degree': 1, 'maths': 1, 'astrophysics': 1, 'do?': 1, 'dole': 1, 'monday.\"': 1, '\"infinity': 1, 'sum': 1, 'complete.\"': 1, '\"trillian,\"': 1, 'probably,': 1, 'afraid,\"': 1, 'fled': 1, 'drive.': 1, 'volition': 1, 'physics': 1, 'susceptible': 1, 'molecules.': 1, 'grateful': 1, 'retire': 1, 'cabins': 1, 'rationalize': 1, 'thoughts.': 1, 'couch': 1, 'contained': 1, 'links': 1, 'bring.': 1, 'expected': 1, 'negative': 1, 'reaction': 1, 'unreal': 1, 'scurrying': 1, 'treadwheels': 1, 'charted': 1, 're-awakened': 1, 'conform': 1, 'see.': 1, 'imprisonment': 1, 'promised': 1, 'astonishing,': 1, 'post.': 1, 'all:': 1, 'unfathomably': 1, 'genius': 1, 'naive': 1, 'incompetence': 1, 'which.': 1, 'slept:': 1, 'tired.': 1, 'tap': 1, 'keyboard.': 1, 'compose': 1, 'vitriolic': 1, 'robe': 1, '\"see?': 1, 'orbit,\"': 1, 'saying.': 1, 'predicted.\"': 1, 'hissed.': 1, 'this.\"': 1, 'coordinates?\"': 1, 'clue.': 1, 'gang!\"': 1, 'sociable': 1, 'screens.\"': 1, 'sank.': 1, 'pinpoints': 1, 'pairs': 1, 'see?\"': 1, 'cloud.\"': 1, 'blank': 1, 'screen?\"': 1, '\"inside': 1, 'screen.\"': 1, 'childishly': 1, 'terrific,': 1, 'much!\"': 1, 'cloud?\"': 1, 'stars?': 1, 'planets?\"': 1, '\"rotate': 1, 'vision': 1, 'one-': 1, 'eighty': 1, 'happening,': 1, 'brightness': 1, 'glowed': 1, 'plate': 1, 'sliced': 1, 'shading': 1, 'black,': 1, 'thumping': 1, 'existed.\"': 1, '(excerpt': 1, '634784,': 1, '5a,': 1, 'entry:': 1, 'magrathea)': 1, 'empire,': 1, 'wild,': 1, 'free.': 1, 'starships': 1, 'plied': 1, 'suns,': 1, 'seeking': 1, 'adventure': 1, 'reward': 1, 'spirits': 1, 'brave,': 1, 'stakes': 1, 'high,': 1, 'women,': 1, 'centauri.': 1, 'dared': 1, 'unknown': 1, 'terrors,': 1, 'deeds,': 1, 'boldly': 1, 'infinitives': 1, 'forged.': 1, 'rich,': 1, 'ashamed': 1, 'speaking': 1, 'merchants': 1, 'niggly,': 1, 'imagine': 1, 'fault': 1, 'worlds': 1, 'satisfactory:': 1, 'climate': 1, 'afternoon,': 1, 'pink.': 1, 'industry:': 1, 'building.': 1, 'industry': 1, 'sucked': 1, 'holes': 1, 'platinum': 1, 'earthquakes': 1, 'lovingly': 1, 'exacting': 1, 'standards': 1, 'venture': 1, 'reduced': 1, 'poverty.': 1, 'sullen': 1, 'worlds,': 1, 'pen': 1, 'scratchings': 1, 'scholars': 1, 'laboured': 1, 'smug': 1, 'treaties': 1, 'planned': 1, 'economy.': 1, 'obscurity': 1, 'legend.': 1, 'awoke': 1, 'myth,': 1, 'fairy': 1, 'story,': 1, 'economists,': 1, 'personally': 1, 'bundle': 1, 'kicks': 1, 'inquiringly': 1, '\"computer,\"': 1, 'feller,\"': 1, 'burbled,': 1, 'altitude': 1, '\"proving': 1, 'weight.\"': 1, 'punching': 1, 'tickertape.': 1, 'decimal': 1, 'places': 1, 'help.\"': 1, 'interrupted.': 1, 'swinging': 1, 'daylight': 1, 'adding,': 1, 'turns': 1, 'be.\"': 1, 'that?': 1, 'predicted': 1, 'anyone,': 1, \"dawn's\": 1, 'featureless': 1, 'mass': 1, 'fidgety': 1, 'traversing': 1, 'restore': 1, 'occasion': 1, 'piqued': 1, 'sceptical': 1, 'seconds,\"': 1, 'seasoned': 1, 'tramp': 1, 'shiver': 1, 'spectacular': 1, 'drama': 1, 'stabbed': 1, 'blinding': 1, 'sideways': 1, 'blade,': 1, 'furnaces': 1, 'searing': 1, 'fire.': 1, 'fierce': 1, 'shafts': 1, 'twin': 1, 'soulianis': 1, 'rahm': 1, 'whatever,\"': 1, '\"soulianis': 1, 'rahm!\"': 1, 'blazed': 1, 'ghostly': 1, 'bridge:': 1, 'ironically': 1, 'spectacle': 1, 'irritated': 1, 'impose': 1, 'ludicrous': 1, 'fantasy': 1, 'nonsense': 1, 'juvenile.': 1, 'fairies': 1, 'too?': 1, 'edged': 1, '\"apparently': 1, 'legend': 1, 'atlantis': 1, 'legends': 1, 'manufacture': 1, 'planets.\"': 1, 'missing': 1, 'spaceship?\"': 1, 'unfolding': 1, 'orbital': 1, 'pyrotechnics': 1, 'bleak': 1, 'forbidding': 1, 'common': 1, 'contoured.': 1, 'crypt.': 1, 'promising': 1, 'appear': 1, 'ravines,': 1, 'mountains,': 1, 'cities': 1, 'lines': 1, 'soften': 1, 'anonymity': 1, 'transpire.': 1, 'blurred': 1, 'stagnant': 1, 'century.': 1, 'clearly,': 1, 'immensity': 1, 'presence.': 1, 'is,\"': 1, 'isn\\'t,\"': 1, 'surface,\"': 1, 'industrial': 1, 'archaeology': 1, 'after?\"': 1, 'airily,': 1, 'curiosity,': 1, 'adventure,': 1, 'fame': 1, 'faintest': 1, 'shivering.': 1, 'notice,\"': 1, 'frumpy.\"': 1, 'bullshit,': 1, 'dust,': 1, 'exceedingly': 1, 'things,': 1, 'treasures': 1, 'killing': 1, 'testily.': 1, 'stress': 1, 'exacerbated': 1, 'facts': 1, 'advance.': 1, 'missile': 1, 'launched': 1, 'breakage': 1, 'micecage,': 1, 'bruising': 1, 'untimely': 1, 'demise': 1, 'whale.': 1, 'mystery': 1, 'preserved,': 1, 'revelation': 1, 'concerning': 1, 'bruise.': 1, 'safely': 1, 'shaky': 1, 'reassemble': 1, 'shellshocked': 1, 'previous': 1, 'provided': 1, 'functioned': 1, 'interesting.': 1, 'detailed': 1, 'buds,': 1, 'spectroscopic': 1, 'analysis': 1, 'metabolism': 1, 'experimental': 1, 'neural': 1, 'pathways': 1, 'well.': 1, 'cupful': 1, 'manufactured': 1, 'complaints': 1, 'covers': 1, 'masses': 1, 'tau': 1, 'drank': 1, 'reviving.': 1, 'greyness': 1, 'past.': 1, 'safe?\"': 1, '\"magrathea\\'s': 1, 'ghosts': 1, 'thrilled': 1, 'fanfare;': 1, 'reedy,': 1, 'insubstantial': 1, 'preceded': 1, 'reedy': 1, 'insubstantial.': 1, '\"greetings': 1, 'five-million-year-old': 1, 'broadcast': 1, 'recording?\"': 1, 'carrying': 1, 'courteous,': 1, 'underscored': 1, 'unmistakable': 1, 'menace.': 1, 'announcement,\"': 1, 'commercial': 1, 'esteemed': 1, '(\"a': 1, 'magrathea!\"': 1, 'ford.)': 1, 'regrets,\"': 1, 'contacted,': 1, 'tone.\"': 1, 'followed,': 1, 'rid': 1, 'recording,\"': 1, 'resumed': 1, 'announcements': 1, 'magazines': 1, 'supplements,': 1, 'select': 1, 'contemporary': 1, 'geography.\"': 1, 'menace': 1, 'sharper': 1, 'edge.': 1, '\"meanwhile': 1, 'leave.': 1, 'companions.': 1, 'suggested.': 1, '\"shhh!\"': 1, 'about.\"': 1, 'tense?\"': 1, 'interested!\"': 1, 'descent': 1, 'landing.\"': 1, 'perfunctory,': 1, 'gratifying,\"': 1, 'enthusiasm': 1, 'continues': 1, 'unabated,': 1, 'guided': 1, 'clients,': 1, 'warheads': 1, 'courtesy': 1, 'detail.': 1, 'custom': 1, 'heads?': 1, 'apply': 1, '\"what,\"': 1, '\"missiles?': 1, 'laugh.\"': 1, 'rear': 1, 'darts': 1, 'magnification': 1, 'rockets': 1, 'thundering': 1, 'suddenness': 1, 'shocking.': 1, 'applying': 1, 'terrific!\"': 1, '\"someone': 1, '\"terrific,\"': 1, 'means?\"': 1, '\"apart': 1, 'something!\"': 1, 'larger.': 1, 'homing': 1, 'warheads,': 1, 'cool,\"': 1, 'all?\"': 1, 'action!\"': 1, 'access': 1, 'action': 1, 'take?\"': 1, 'afraid,': 1, 'jamming': 1, 'brightly,': 1, 'forty-five': 1, 'relax.\"': 1, 'decisive': 1, 'directions': 1, 'ship.\"': 1, 'her?\"': 1, 'pleasantly.': 1, '\"trillian,': 1, 'relaxing.': 1, 'either,\"': 1, 'assert': 1, 'showering': 1, 'expanded': 1, 'polystyrene': 1, 'packaging': 1, 'balls': 1, 'rolled-up': 1, 'cellophane:': 1, 'ford,\"': 1, '\"full': 1, 'retro': 1, 'thrust': 1, 'starboard.': 1, 'luck': 1, 'chirped': 1, 'immediate': 1, 'those.': 1, 'rocked': 1, 'jets': 1, 'push': 1, 'released': 1, 'oncoming': 1, 'missiles.': 1, 'cushions': 1, 'ballooned': 1, 'inertial': 1, 'move.': 1, 'desperation': 1, 'savage': 1, 'combined': 1, 'ways': 1, 'smuggling': 1, 'glands': 1, 'antares': 1, 'gland': 1, 'revolting': 1, 'cocktail': 1, 'delicacy': 1, 'sums': 1, 'idiots': 1, 'impress': 1, 'idiots),': 1, 'stone.': 1, 'bruise': 1, 'emphasized': 1, 'because,': 1, 'revealed,': 1, 'unharmed': 1, 'safety': 1, 'assured.': 1, 'on!\"': 1, 'dive': 1, 'sing.': 1, 'whined': 1, 'nasally,': 1, 'din': 1, 'dark!\"': 1, 'wailed.': 1, 'flattening': 1, 'upside': 1, 'systems.': 1, 'crooned': 1, 'corrected': 1, 'paths': 1, 'erratically': 1, 'songs': 1, 'fellas': 1, 'screeching': 1, 'pursuit.': 1, 'rain': 1, '\"without': 1, 'proper': 1, 'programming': 1, 'happen.\"': 1, 'stage?\"': 1, 'contouring': 1, 'bless': 1, 'ne': 1, 'ver': 1, 'alone!\"': 1, 'mid-mangling': 1, 'normally': 1, 'fetchingly': 1, 'redesigned': 1, 'interior.': 1, 'larger,': 1, 'pastel': 1, 'blue.': 1, 'spray': 1, 'ferns': 1, 'flowers': 1, 'stone': 1, 'sundial': 1, 'pedestal': 1, 'housed': 1, 'terminal.': 1, 'cunningly': 1, 'illusion': 1, 'overlooking': 1, 'exquisitely': 1, 'manicured': 1, 'garden.': 1, 'periphery': 1, 'marble-topped': 1, 'intricately': 1, 'wrought-iron': 1, 'legs.': 1, 'marble': 1, 'materialized': 1, 'correct': 1, 'readouts,': 1, 'from.': 1, 'sensationally': 1, 'wickerwork': 1, 'chair,': 1, 'saying,\"': 1, 'lounging': 1, 'pool,': 1, 'potted': 1, 'plant': 1, 'chilled': 1, '\"exactly': 1, 'were,': 1, 'scooted': 1, 'astounding': 1, 'mirrors.': 1, 'appear,\"': 1, 'doubtfully,': 1, 'factor,\"': 1, 'changed': 1, 'twenty-eight': 1, 'activating': 1, 'proofing': 1, 'land.\"': 1, 'forgotten': 1, 'tenable': 1, 'whale,': 1, 'identity': 1, 'ah': 1, '!': 1, 'happening?': 1, 'hello?': 1, 'here?': 1, 'calm': 1, 'oh!': 1, 'sensation,': 1, 'yawning,': 1, 'tingling': 1, 'headway': 1, 'stomach.': 1, 'ooooh,': 1, 'strong.': 1, 'roaring': 1, 'head?': 1, 'wind!': 1, 'name?': 1, 'thing?': 1, 'tail': 1, 'tail.': 1, 'thrash': 1, 'feels': 1, 'great!': 1, 'achieve': 1, 'coherent': 1, 'yet?': 1, 'exciting,': 1, 'dizzy': 1, 'anticipation': 1, '\\\\hspace{1cm}': 1, 'wind?': 1, 'fast?': 1, 'round,': 1, 'ow': 1, 'ound': 1, 'me?': 1, 'rest,': 1, 'thud,': 1, 'speculated': 1, 'distaste': 1, 'posture': 1, 'tree.': 1, 'presented': 1, 'pa\\\\-no\\\\-ra\\\\-mic': 1, 'landed.': 1, 'paranoid': 1, 'android,\"': 1, 'robot?\"': 1, 'problems,\"': 1, 'coffin,': 1, 'robot?': 1, 'headache': 1, 'level.\"': 1, 'escaped!\"': 1, 'concern': 1, '\"nuts': 1, 'mice,\"': 1, 'commanded': 1, 'independent': 1, 'observers)': 1, 'second.': 1, 'boys.\"': 1, 'familiar,': 1, 'different.': 1, 'matriarchal': 1, 'twang.': 1, 'puzzlement.': 1, 'emergency': 1, 'better.\"': 1, \"eddie's\": 1, 'warm,': 1, 'playing': 1, 'naughty': 1, 'monsters.\"': 1, 'hatch.': 1, 'rule.\"': 1, 'angry.': 1, 'closed.': 1, 'bulkhead': 1, 'ten.': 1, 'demonstrate': 1, 'independence': 1, 'waiting,\"': 1, 'necessary': 1, 'competing': 1, 'zap': 1, 'reprogram': 1, 'axe,': 1, 'shocked,': 1, 'aggressive': 1, 'at,\"': 1, 'opened.': 1, 'icy': 1, 'ripped': 1, 'ramp': 1, '\"it\\'ll': 1, 'tears,': 1, 'response': 1, 'command': 1, 'brown,': 1, 'dried-out': 1, 'marsh,': 1, 'vegetation': 1, 'layer': 1, 'thick.': 1, 'ears,': 1, 'stale': 1, 'clasped': 1, 'rattled': 1, 'atmosphere.': 1, '\"desolate': 1, 'litter.\"': 1, 'mounting': 1, 'systems': 1, 'castaway?': 1, 'stooped': 1, 'clot': 1, 'understand,': 1, '...!': 1, 'herself,': 1, 'sworn': 1, 'eye,': 1, 'join': 1, 'excited,': 1, 'thinnish': 1, 'wind.': 1, 'higher': 1, 'wide.': 1, 'sloping': 1, 'spattered': 1, 'lumps.': 1, 'piece.': 1, 'wet.': 1, 'rubbery.': 1, 'whalemeat.': 1, \"crater's\": 1, 'lip': 1, 'carcass': 1, 'disappointed': 1, 'involuntary': 1, \"trillian's\": 1, 'bury': 1, 'murmured': 1, \"hadn't.\": 1, 'severe': 1, 'distaste.': 1, 'hesitated.': 1, '\"in?\"': 1, 'planet!': 1, 'underground': 1, 'passage.': 1, 'force': 1, 'go.': 1, 'trod': 1, 'ironical': 1, 'shudders': 1, 'incline': 1, 'creator.': 1, 'dolefully,': 1, '\"loathe': 1, 'caved': 1, 'revealing': 1, 'network': 1, 'galleries': 1, 'passages,': 1, 'obstructed': 1, 'entrails.': 1, 'clearing': 1, 'wafted': 1, 'recesses,': 1, 'visible': 1, '\"according': 1, 'legends,\"': 1, 'underground.\"': 1, 'polluted': 1, 'overpopulated?\"': 1, 'much.\"': 1, 'peering': 1, 'kid,': 1, 'promise': 1, 'population': 1, 'nil': 1, 'plus': 1, '\"arthur,\"': 1, 'passageway.': 1, '\"guard?\"': 1, 'safety,': 1, '\"whose?': 1, 'mine?\"': 1, 'lad.': 1, 'passage,': 1, 'assured': 1, 'will.\"': 1, 'view.': 1, 'stamped': 1, 'huff,': 1, 'graveyard': 1, 'stamp': 1, 'balefully': 1, 'passageway,': 1, 'striding': 1, 'purposefully.': 1, 'touch,': 1, 'decay.': 1, '\"there,': 1, 'magrathea,\"': 1, 'strode': 1, 'dirt': 1, 'littered': 1, 'tile': 1, 'reminded': 1, 'unavoidably': 1, 'underground,': 1, 'squalid.': 1, 'intervals': 1, 'mosaics': 1, 'angular': 1, 'colours.': 1, 'studied': 1, 'interpret': 1, 'are?\"': 1, 'kind,\"': 1, 'glancing': 1, 'doorway': 1, 'chambers': 1, 'derelict': 1, 'equipment.': 1, 'followed.': 1, 'atlas,': 1, 'sure.\"': 1, '\"research.': 1, 'archives.': 1, 'detective': 1, 'work.': 1, 'guesses.': 1, 'easy.\"': 1, 'with?\"': 1, 'things?\"': 1, 'ruled': 1, 'yet,\"': 1, 'conditions.': 1, 'worry.': 1, '\"listen': 1, 'friend,': 1, 'eventually.': 1, 'freewheel': 1, 'not,': 1, 'happens,': 1, 'easy.': 1, 'happens.': 1, 'galacticredit': 1, 'card': 1, 'cheques.': 1, 'whenever': 1, 'something?': 1, 'desire': 1, 'worrying': 1, 'using': 1, 'purpose,': 1, 'check.': 1, 'encephelographic': 1, 'test': 1, 'officers': 1, 'nomination': 1, 'ratified.': 1, 'clever,': 1, 'imaginative,': 1, 'irresponsible,': 1, 'untrustworthy,': 1, 'extrovert,': 1, 'anomalies.': 1, 'inventing': 1, 'superimposing': 1, 'silly,': 1, 'packed': 1, 'superimposed': 1, 'filter.': 1, 'superstitious': 1, 'kid?': 1, 'pilot': 1, 'scouts?\"': 1, 'nodded.': 1, 'was,\"': 1, '\"clear': 1, 'electronically': 1, 'traumatised': 1, 'cerebellum.\"': 1, 'white.': 1, '\"somebody': 1, 'who?': 1, 'know?': 1, 'initials': 1, 'synapses.': 1, 'crawl.': 1, '\"initials?': 1, 'brain?\"': 1, 'they,': 1, 'sake?\"': 1, '\"z.b.,\"': 1, 'shutter': 1, 'chamber.': 1, 'later,\"': 1, 'moodily.': 1, 'thoughtfully': 1, 'unevenly': 1, 'passages': 1, 'across)': 1, 'supposedly': 1, 'relates': 1, 'experiences': 1, 'voojagig,': 1, 'maximegalon,': 1, 'academic': 1, 'studying': 1, 'philology,': 1, 'transformational': 1, 'ethics': 1, 'harmonic': 1, 'historical': 1, 'perception,': 1, 'obsessed': 1, 'period': 1, 'painstaking': 1, 'visited': 1, 'loss': 1, 'quaint': 1, 'cosmos,': 1, 'humanoids,': 1, 'reptiloids,': 1, 'fishoids,': 1, 'walking': 1, 'treeoids': 1, 'superintelligent': 1, 'blue,': 1, 'unattended': 1, 'wormholes': 1, 'uniquely': 1, 'biroid': 1, 'lifestyle,': 1, 'responding': 1, 'biro-oriented': 1, 'stimuli,': 1, 'limousine': 1, 'family': 1, 'cheap': 1, 'retractables,': 1, 'whereupon': 1, 'wrote': 1, 'exile,': 1, 'usual': 1, 'reserved': 1, 'determined': 1, 'fool': 1, 'public.': 1, 'expedition': 1, 'spatial': 1, 'asteroid': 1, 'solitary': 1, 'repeatedly': 1, 'true,': 1, 'lying.': 1, 'did,': 1, 'remain': 1, '60,000': 1, 'yearly': 1, 'brantisvogan': 1, 'account,': 1, 'profitable': 1, 'second-hand': 1, 'inert.': 1, 'magnificently': 1, 'nobody.': 1, '\"night\\'s': 1, 'faintly,': 1, 'obediently': 1, '\"wretched': 1, 'sunset!': 1, 'suns!': 1, 'boiling': 1, 'rubbish.\"': 1, 'home,\"': 1, 'persevered': 1, 'awful.\"': 1, 'place.\"': 1, 'oceans?\"': 1, 'sigh,': 1, 'oceans': 1, '\"can\\'t': 1, 'oceans,\"': 1, 'robots?\"': 1, '\"hate': 1, 'going?\"': 1, 'walk,\"': 1, 'blame': 1, 'counted': 1, 'ninety-seven': 1, 'sheep': 1, 'circulation': 1, 'moon,': 1, 'nightfall': 1, 'rapid': 1, 'glimmers': 1, 'horizon.': 1, 'tallish,': 1, 'elderly': 1, 'robe.': 1, 'distinguished,': 1, 'careworn': 1, 'unkind,': 1, 'yelp': 1, 'completely,': 1, 'somewhere,': 1, 'hovercraft,': 1, 'shed': 1, 'pool': 1, 'seemed.': 1, 'rush': 1, 'awkward.': 1, 'lamely.': 1, 'eyebrows.': 1, '\"hmmmm?\"': 1, 'alarmed,': 1, 'harm': 1, 'us!': 1, 'chuckled': 1, 'sigh.': 1, 'tick': 1, 'millennia,': 1, 'ages': 1, 'relieve': 1, 'monotony.\"': 1, 'gravely': 1, 'really?\"': 1, 'curious,': 1, 'disconcerting.': 1, 'felling': 1, 'adultery': 1, \"woman's\": 1, 'husband': 1, 'wanders': 1, 'changes': 1, 'trousers,': 1, 'idle': 1, 'remarks': 1, 'leaves': 1, 'ease,\"': 1, 'polite': 1, 'concern.': 1, 'yes.': 1, 'expecting': 1, '\"dead?\"': 1, 'gracious': 1, 'slept.\"': 1, '\"slept?\"': 1, 'incredulously.': 1, 'unconcerned': 1, 'not.': 1, 'recession?\"': 1, 'commodity': 1, 'solemnly.': 1, '\"fascinating': 1, 'trade,\"': 1, '\"doing': 1, 'coastlines': 1, 'favourite.': 1, 'endless': 1, 'anyway,\"': 1, 'thread': 1, 'slept': 1, 'over.\"': 1, 'stifled': 1, 'yawn': 1, 'index': 1, 'stock': 1, 'prices': 1, 'rebuilt': 1, 'expensive': 1, 'services.\"': 1, 'regular': 1, 'guardian': 1, 'reader,': 1, 'shocked': 1, 'behave': 1, 'touch.\"': 1, 'yours?\"': 1, 'metallic': 1, 'mine.\"': 1, 'robot,\"': 1, 'machine.\"': 1, '\"bring': 1, 'slope': 1, 'lame,': 1, \"wasn't.\": 1, 'thoughts,\"': 1, '\"leave': 1, 'afoot.\"': 1, 'which,': 1, 'given,': 1, 'laboriously': 1, 'trudging': 1, 'sour': 1, 'nothings': 1, 'late.\"': 1, '\"late?\"': 1, 'human?\"': 1, '\"dent.': 1, '\"late,': 1, 'dentarthurdent,\"': 1, 'tired': 1, 'myself,': 1, 'person,\"': 1, 'nothing,': 1, 'embarrassment.': 1, 'go?\"': 1, 'aircar,\"': 1, 'motioning': 1, 'five-million-year': 1, 'slumber.': 1, 'awakes.\"': 1, 'strangeness': 1, 'unsettled': 1, 'way?\"': 1, 'name?\"': 1, 'slartibartfast.\"': 1, 'choked.': 1, 'spluttered.': 1, '\"slartibartfast,\"': 1, 'repeated': 1, '\"slartibartfast?\"': 1, 'gravely.': 1, 'seem.': 1, 'wheel,': 1, 'york,': 1, 'muck': 1, 'conversely,': 1, 'reasons.': 1, 'impending': 1, 'alert': 1, 'mankind': 1, 'danger;': 1, 'communications': 1, 'amusing': 1, 'punch': 1, 'footballs': 1, 'whistle': 1, 'tidbits,': 1, 'dolphin': 1, 'surprisingly': 1, 'double-backwards-': 1, 'somersault': 1, 'hoop': 1, '\"star': 1, 'sprangled': 1, 'banner\",': 1, 'dolphins,': 1, 'laboratories': 1, 'wheels': 1, 'conducting': 1, 'frighteningly': 1, \"creatures'\": 1, 'plans.': 1, 'darkness,': 1, 'swiftly.': 1, 'companion': 1, 'thoughts,': 1, 'occasions': 1, 'engage': 1, 'comfortable': 1, 'gauge': 1, 'travelling,': 1, 'absolute': 1, 'denied': 1, 'reference': 1, 'points.': 1, 'speed,': 1, 'discern': 1, 'shape,': 1, 'aircraft': 1, 'dipped': 1, 'downwards': 1, 'collision': 1, 'unbelievable,': 1, 'surround': 1, 'dwindling': 1, 'stationary': 1, 'tunnel.': 1, 'shooting,': 1, 'terror.': 1, 'judge,': 1, 'sensed': 1, 'subsidence': 1, 'gradually': 1, 'gentle': 1, 'tunnel,': 1, 'threading': 1, 'crisscross': 1, 'warren': 1, 'tunnels.': 1, 'steel.': 1, 'terminus': 1, 'farther': 1, 'tricks': 1, '(quite': 1, 'wrongly)': 1, 'violet.': 1, 'solemn': 1, 'gently,': 1, 'least,\"': 1, '\"clearer': 1, 'moment.\"': 1, 'literally': 1, 'tract': 1, 'disturb': 1, 'reassuringly.': 1, 'scares': 1, 'willies': 1, 'tight.\"': 1, 'like.': 1, 'uninteresting.': 1, 'meaningless.': 1, 'infinite,': 1, 'span,': 1, 'as,': 1, 'attained,': 1, 'climbed': 1, 'pinprick': 1, 'shimmering': 1, 'defied': 1, 'seduced': 1, 'defeated': 1, 'paralysingly': 1, 'sides': 1, 'sight.': 1, 'vertigo': 1, 'flat.': 1, 'laser': 1, 'detect': 1, 'infinity,': 1, 'dizzily': 1, 'planed': 1, 'side,': 1, 'curved.': 1, 'thirteen': 1, 'sphere,': 1, 'unimaginable': 1, 'speck': 1, 'aircar,': 1, 'imperceptibly': 1, 'mindboggling': 1, 'factory': 1, 'floor.\"': 1, 'neither': 1, 'judge': 1, 'suspensions,': 1, 'traceries': 1, 'shadowy': 1, 'spherical': 1, '\"this,\"': 1, 'starting': 1, 'heavens': 1, 'support': 1, 'awakened': 1, 'commission': 1, 'structures': 1, 'betrayed': 1, 'activity': 1, 'arced': 1, 'stark': 1, 'relief': 1, 'knew,': 1, 'blobby': 1, 'familiar': 1, 'furniture': 1, 'stunned': 1, 'images': 1, 'settle': 1, 'represented': 1, 'sensibly': 1, 'countenance': 1, 'abdicated': 1, 'responsibility': 1, 'doubt.': 1, 'cheery.': 1, 'blueprints.\"': 1, 'control,': 1, 'norway?\"': 1, 'didn\\'t.\"': 1, 'mine.': 1, 'won': 1, 'edges.': 1, 'destruction.\"': 1, 'upset!\"': 1, 'mattered': 1, 'shocking': 1, 'cock-up.\"': 1, 'furious.\"': 1, 'furious?\"': 1, 'dogs': 1, 'cats': 1, 'duckbilled': 1, 'platypuses,': 1, 'they?\"': 1, 'patiently': 1, '\"earthman,': 1, 'commissioned,': 1, 'completion': 1, 'built,': 1, '\"mice?\"': 1, '\"indeed': 1, 'earthman.\"': 1, 'sorry': 1, 'fixation': 1, 'coms?\"': 1, 'follow': 1, 'mode': 1, 'speech.': 1, 'coms': 1, 'mice,': 1, 'appear.': 1, 'protrusion': 1, 'squeaking': 1, 'front.\"': 1, 'sympathetic': 1, 'frown': 1, 'afraid.\"': 1, 'cleared.': 1, 'misunderstanding': 1, 'pavlov': 1, 'ring': 1, 'bells,': 1, 'mazes': 1, 'examined.': 1, 'observations': 1, 'behaviour': 1, 'tailed': 1, '\"such': 1, 'subtlety': 1, 'admire': 1, 'disguise': 1, 'natures,': 1, 'maze': 1, 'eating': 1, 'cheese,': 1, 'dropping': 1, 'myxomatosis,': 1, 'enormous.\"': 1, 'effect.': 1, 'earthman,': 1, 'ten-': 1, 'million-year': 1, '\"time,\"': 1, 'born?': 1, 'die?': 1, 'watches?': 1, '(whose': 1, 'manifestation': 1, 'dissimilar': 1, 'own)': 1, 'constant': 1, 'bickering': 1, 'interrupt': 1, 'pastime': 1, 'brockian': 1, 'cricket': 1, 'hitting': 1, 'readily': 1, 'away)': 1, 'stupendous': 1, 'super': 1, 'rice': 1, 'pudding': 1, 'income': 1, 'city.': 1, 'installed': 1, 'specially': 1, 'office,': 1, 'topped': 1, 'ultrared': 1, 'leather.': 1, 'carpeting': 1, 'sumptuous,': 1, 'plants': 1, 'tastefully': 1, 'engraved': 1, 'prints': 1, 'principal': 1, 'liberally': 1, 'tree-lined': 1, 'square.': 1, 'on-turning': 1, 'soberly': 1, 'shown': 1, 'office.': 1, 'represent': 1, 'conducted': 1, 'calmly': 1, 'desk,': 1, 'leather-bound': 1, 'notebooks.': 1, 'respectful': 1, 'exchanging': 1, 'glance': 1, 'subtlest': 1, 'hums': 1, 'indicated': 1, 'active': 1, 'resonant': 1, 'deep.': 1, 'i,': 1, 'existence?\"': 1, 'minute,': 1, 'right,\"': 1, 'best.': 1, 'addressed': 1, 'greatest,\"': 1, 'mistake,\"': 1, 'gargantubrain': 1, 'millisecond?\"': 1, 'gargantubrain?\"': 1, 'unconcealed': 1, 'contempt.': 1, 'abacus': 1, 'not.\"': 1, 'leaning': 1, 'anxiously': 1, 'forward,': 1, 'analyst': 1, 'googleplex': 1, 'thinker': 1, 'ingenuity': 1, 'dangrabad': 1, 'beta': 1, 'haughtily.': 1, 'contemplated': 1, 'vectors': 1, 'itself?': 1, 'molest': 1, 'calculator': 1, 'fiendish': 1, 'disputant': 1, 'wrangler': 1, 'ciceronicus': 1, '12,': 1, 'magic': 1, 'indefatigable?\"': 1, 'wrangler,\"': 1, \"r's,\": 1, 'megadonkey': 1, 'persuade': 1, 'afterwards.\"': 1, 'what,\"': 1, 'magnificent': 1, 'second?\"': 1, 'second?': 1, 'multicorticoid': 1, 'perspicutron': 1, 'titan': 1, 'muller': 1, 'pondermatic?': 1, 'contemptuous': 1, \"computer's\": 1, 'spare': 1, 'unit': 1, 'cybernetic': 1, 'simpletons!\"': 1, 'losing': 1, 'patience.': 1, 'needlessly': 1, 'messianic.\"': 1, 'teeming': 1, 'circuitry': 1, 'streams': 1, 'calculate,': 1, 'design.\"': 1, 'wait.': 1, 'speak?\"': 1, '\"now.': 1, 'function.': 1, '\"life!\"': 1, 'universe!\"': 1, '\"everything!\"': 1, 'reflection.': 1, 'finally.': 1, 'breathless': 1, 'excitement.\"': 1, '\"life,': 1, 'everything.': 1, 'but,\"': 1, 'commotion': 1, 'moment:': 1, 'coarse': 1, 'faded-blue': 1, 'robes': 1, 'cruxwan': 1, 'thrusting': 1, 'ineffectual': 1, 'flunkies': 1, 'admission!\"': 1, 'elbowing': 1, 'secretary': 1, 'junior': 1, 'programmer': 1, 'angrily': 1, 'want?\"': 1, 'majikthise!\"': 1, 'angrily,': 1, '\"alright!\"': 1, 'banging': 1, 'desk.': 1, 'demand,': 1, 'fact!': 1, 'facts!\"': 1, 'demand!\"': 1, 'scarcely': 1, 'facts!': 1, 'absence': 1, 'facts.': 1, 'devil': 1, 'outraged': 1, '\"we,\"': 1, 'philosophers.\"': 1, 'warning': 1, 'representatives': 1, 'amalgamated': 1, 'philosophers,': 1, 'sages,': 1, 'luminaries': 1, 'persons,': 1, 'mate,\"': 1, '\"demarcation,': 1, 'demand,\"': 1, 'demarcation': 1, 'adding': 1, 'eternal': 1, 'verities': 1, 'check': 1, 'legal': 1, 'mate.': 1, 'law': 1, 'quest': 1, 'inalienable': 1, 'prerogative': 1, 'thinkers.': 1, 'finds': 1, 'bleeding': 1, 'morning?\"': 1, 'rigidly': 1, 'areas': 1, 'uncertainty!\"': 1, 'stentorian': 1, 'boomed': 1, '\"might': 1, 'point?\"': 1, 'strike!\"': 1, 'national': 1, \"philosopher's\": 1, 'strike': 1, 'hands!\"': 1, 'increased': 1, 'ancillary': 1, 'bass': 1, 'units,': 1, 'sedately': 1, 'varnished': 1, 'speakers': 1, \"thought's\": 1, 'say,\"': 1, 'irrevocably': 1, 'calculating': 1, '-\"': 1, 'attention,': 1, 'continuing': 1, 'run.\"': 1, 'watch.': 1, 'declaimed': 1, 'occurs': 1, 'publicity': 1, 'philosophy': 1, 'general.': 1, 'capitalize': 1, 'media': 1, 'yourself?': 1, 'disagreeing': 1, 'slagging': 1, 'press,': 1, 'gravy': 1, 'train': 1, 'philosophers': 1, '\"bloody': 1, 'hell,\"': 1, 'awed': 1, '\"think': 1, 'majikthise.\"': 1, 'heels': 1, 'dreams.': 1, 'salutary,\"': 1, 'salient': 1, 'events': 1, 'sens-o-tape': 1, 'records.': 1, 'stroll': 1, 'completed': 1, 'burying': 1, 'dinosaur': 1, 'skeletons': 1, 'crust': 1, 'tertiary': 1, 'quarternary': 1, 'periods': 1, 'cenozoic': 1, 'era': 1, 'same.\"': 1, 'mind-numbing': 1, \"slartibartfast's\": 1, 'library.': 1, '\"terribly': 1, 'unfortunate,\"': 1, 'diode': 1, 'cleaning': 1, 'bodies,': 1, 'plug': 1, 'gestured': 1, 'stegosaurus.': 1, 'stegosaurus,\"': 1, 'pottered': 1, 'fishing': 1, 'tottering': 1, 'drawing': 1, '\"here,\"': 1, 'these,\"': 1, 'stripped': 1, 'bird': 1, 'mid-air': 1, 'treelined': 1, 'square,': 1, 'concrete': 1, 'airy': 1, 'wear': 1, 'stained': 1, 'shining,': 1, 'trees,': 1, 'thronged': 1, 'band': 1, 'playing,': 1, 'flags': 1, 'fluttering': 1, 'carnival': 1, 'rang': 1, 'dominated': 1, 'tannoy.': 1, 'thought!\"': 1, '\"honoured': 1, 'descendants': 1, 'pundits': 1, 'over!\"': 1, 'cheers': 1, 'flags,': 1, 'streamers': 1, 'wolf': 1, 'whistles': 1, 'narrower': 1, 'centipedes': 1, 'frantically': 1, 'hopefully': 1, 'enlightening': 1, 'day!\"': 1, 'cheer': 1, 'leader.': 1, 'hurrahs': 1, 'ecstatic': 1, 'again,\"': 1, 'really,': 1, 'cosmically': 1, 'work?': 1, 'plain': 1, 'erupted': 1, 'speaker': 1, 'touching': 1, 'remarked': 1, 'arrival,': 1, 'surprising': 1, 'projection': 1, 'six-track': 1, 'seventy-millimetre': 1, 'hat.': 1, 'cleaned': 1, 'regularly': 1, 'worn': 1, 'edges,': 1, 'carpet': 1, 'faded': 1, 'sparkling': 1, 'glory': 1, \"desk's\": 1, 'severely': 1, 'respectfully': 1, 'materialize': 1, 'assimilate': 1, '\"seventy-five': 1, 'ago,': 1, 'ancestors': 1, 'motion,\"': 1, 'awesome': 1, 'prospect,': 1, 'phouchg,\"': 1, 'subtitles.': 1, 'hear,\"': 1, 'phouchg,': 1, 'preparing': 1, 'speak!\"': 1, 'experimentally': 1, 'businesslike': 1, 'pattern.': 1, 'channel.': 1, 'morning,\"': 1, 'majestically.': 1, 'have.\"': 1, 'expectancy.': 1, 'vain.': 1, 'confirmed': 1, 'everything?': 1, 'preparation': 1, 'selected': 1, 'birth': 1, 'witness': 1, 'children.': 1, 'licked': 1, 'lips.': 1, 'think,\"': 1, 'matter!\"': 1, '\"yes!': 1, 'fidgeted.': 1, 'unbearable.': 1, 'observed': 1, '...!!!...?\"': 1, '\"forty-two,\"': 1, 'majesty': 1, 'calm.': 1, 'spoke.': 1, 'tense': 1, 'outside.': 1, 'tough': 1, 'assignment,\"': 1, '\"forty-two!\"': 1, \"years'\": 1, 'work?\"': 1, 'thoroughly,\"': 1, 'honest': 1, 'question!': 1, 'suffers': 1, 'fools': 1, 'gladly,': 1, 'stupefied': 1, '\"exactly!\"': 1, 'means.\"': 1, 'flinging': 1, 'wiping': 1, 'tear.': 1, 'finally:': 1, 'despair.': 1, 'can,\"': 1, '\"who?\"': 1, 'non-existent': 1, 'scalp': 1, 'crawl': 1, 'inexorably': 1, 'console,': 1, 'dramatic': 1, 'zoom': 1, 'assumed.': 1, 'regaining': 1, 'accustomed': 1, 'declamatory': 1, 'complexity': 1, 'matrix.': 1, 'ten-million-year': 1, 'program!': 1, 'yes!': 1, 'unto': 1, 'incisions': 1, 'body.': 1, 'horrific': 1, 'gashed': 1, 'nowhere.': 1, 'blotched': 1, 'cracked,': 1, 'crumbled': 1, 'crashed': 1, 'upwards': 1, 'wires.': 1, '\"end': 1, 'tape,\"': 1, 'explained.': 1, '\"zaphod!': 1, '\"mmmmmwwwwwerrrrr?\"': 1, 'pleasure?\"': 1, 'blearily.': 1, '\"nor': 1, 'bugging': 1, 'double': 1, 'dose': 1, 'gas,\"': 1, 'windpipes.\"': 1, 'talking,\"': 1, 'ground?': 1, 'hard.\"': 1, 'gold,\"': 1, 'balletic': 1, 'scanning': 1, 'horizon,': 1, 'direction,': 1, 'solid.': 1, 'gleams': 1, 'goggle-eyed.': 1, 'excited,\"': 1, 'catalogue.\"': 1, 'who?\"': 1, 'catalogue,\"': 1, 'illusion.\"': 1, 'knees': 1, 'shiny,': 1, 'evaporated': 1, 'evaporates': 1, '\"trillian': 1, 'ago,\"': 1, 'yelling': 1, 'sens-o-tape.\"': 1, 'bitterly.': 1, 'shit,\"': 1, 'else\\'s.\"': 1, 'huff.': 1, '\"hallmark,\"': 1, 'earlier,\"': 1, 'knee': 1, 'fish.\"': 1, '\"fish?\"': 1, 'platinum.': 1, 'dull.': 1, 'looked.': 1, 'pretty,\"': 1, 'petulantly.': 1, 'appeared.': 1, 'changed,': 1, 'went,': 1, '\"yuch.\"': 1, 'purple.': 1, 'pebbles': 1, 'precious': 1, 'stones.': 1, 'undulating': 1, 'peaks.': 1, 'frilly': 1, 'mauve': 1, 'parasol': 1, 'tassles.': 1, 'appeared,': 1, 'replacing': 1, 'number.': 1, 'tastes,': 1, 'cater': 1, 'proud.': 1, 'naked': 1, 'parachutes.': 1, 'springtime': 1, 'meadow': 1, 'cows.': 1, '\"ow!\"': 1, 'brains!\"': 1, 'scenes': 1, 'tests.': 1, 'myself.': 1, 'agreement.': 1, 'reckon,': 1, 'myself?': 1, 'obviously.': 1, 'vranx.': 1, 'yooden,': 1, 'kids,': 1, 'captain.': 1, 'gas.': 1, 'megafreighter.': 1, 'history,\"': 1, 'bulky': 1, 'trade': 1, 'scouts': 1, 'markets': 1, 'arcturans': 1, 'supply': 1, 'pirates': 1, 'dordellis': 1, 'wars,': 1, 'equipped': 1, 'shields': 1, 'science.': 1, 'brutes': 1, 'huge.': 1, 'eclipse': 1, 'decides': 1, 'raid': 1, 'scooter': 1, 'stratosphere': 1, 'kid.': 1, 'crazier': 1, 'monkey.': 1, 'ride': 1, 'happens?': 1, 'souped': 1, 'parsecs': 1, 'weeks,': 1, 'megafreighter': 1, 'pistols': 1, 'conkers.': 1, 'wilder': 1, 'known.': 1, \"year's\": 1, 'money.': 1, 'conkers.\"': 1, 'guy,': 1, 'vranx,\"': 1, 'food,': 1, 'booze': 1, 'stuff': 1, 'incredible': 1, 'teleported': 1, 'maximum': 1, 'security': 1, 'prison.': 1, 'guy.': 1, 'galaxy.\"': 1, 'elephantine': 1, 'lurked': 1, 'indistinctly': 1, 'shadows.': 1, 'rent': 1, 'murdering': 1, 'paying': 1, 'proposition.': 1, '\"his': 1, 'idea?\"': 1, 'stealing': 1, 'launching': 1, 'ceremony.\"': 1, 'roared': 1, 'laughter.': 1, 'walls.': 1, 'consciously': 1, 'passed.': 1, 'mucked': 1, 'talker.\"': 1, 'mate,': 1, 'inkling': 1, 'doubts': 1, 'minds.': 1, 'last,': 1, 'letting': 1, 'secrets.': 1, 'still,\"': 1, 'reflection,': 1, 'spit': 1, 'rat.\"': 1, 'plush': 1, 'glass-top': 1, 'perfunctory': 1, 'study.': 1, 'pile,': 1, '\"deep': 1, 'completed,\"': 1, 'unbitterly.': 1, '\"ten': 1, 'conceive': 1, 'span?': 1, 'worm': 1, 'bureaucracy': 1, 'added.': 1, 'thoughtfully,': 1, 'explains': 1, 'things.': 1, 'unaccountable': 1, 'sinister,': 1, '\"everyone?\"': 1, 'something!': 1, '\"maybe.': 1, 'cares?\"': 1, 'tired,\"': 1, 'absurdly': 1, 'occupied.': 1, 'me:': 1, 'coastlines.': 1, 'norway.\"': 1, 'block': 1, 'model': 1, 'norway': 1, '\"where\\'s': 1, 'fleeting': 1, 'award.\"': 1, 'shrug': 1, 'carelessly,': 1, 'carelessly': 1, 'soft.': 1, 'replacement': 1, 'africa': 1, 'fashioned': 1, 'baroque': 1, 'continent.': 1, 'equatorial': 1, 'equatorial!\"': 1, 'matter?': 1, '\"no.': 1, 'falls': 1, 'sympathy.': 1, 'otherwise.\"': 1, 'flashed.': 1, 'hailed,': 1, 'gather,': 1, 'two?\"': 1, 'coincidences,\"': 1, 'carelessly.': 1, 'follow.': 1, 'more,': 1, 'sweaty': 1, 'dishevelled': 1, 'clothes': 1, 'morning.': 1, '\"only': 1, 'joking.\"': 1, 'costs': 1, 'appreciated.': 1, 'freak': 1, 'wormhole': 1, 'continuum': 1, 'warlike': 1, 'brink': 1, 'frightful': 1, 'battle.': 1, 'leaders': 1, 'commander': 1, \"vl'hurgs,\": 1, 'shorts,': 1, 'levelly': 1, \"g'gugvuntt\": 1, 'leader': 1, 'sweet-smelling': 1, 'steam,': 1, 'horribly': 1, 'beweaponed': 1, 'cruisers': 1, 'unleash': 1, 'command,': 1, 'challenged': 1, 'vile': 1, 'stirred': 1, 'sickly': 1, 'broiling': 1, 'vapour,': 1, 'unfortunately,': 1, \"vl'hurg\": 1, 'insult': 1, 'imaginable,': 1, 'wage': 1, 'war': 1, 'decimated': 1, 'mistake,': 1, 'remaining': 1, 'differences': 1, 'launch': 1, 'joint': 1, 'positively': 1, 'identified': 1, 'offending': 1, 'remark.': 1, 'wastes': 1, 'due': 1, 'miscalculation': 1, 'swallowed': 1, 'dog.': 1, 'complex': 1, 'interplay': 1, 'powerless': 1, 'prevent': 1, 'life,\"': 1, 'trip': 1, 'glass-topped': 1, 'entered.': 1, '\"arthur!': 1, 'safe!\"': 1, 'startled.': 1, 'subdued': 1, 'decked': 1, 'dishes,': 1, 'sweetmeats': 1, 'bizarre': 1, 'fruits.': 1, 'attacking': 1, 'boneful': 1, 'grilled': 1, 'muscle,': 1, '\"our': 1, 'guests': 1, 'gassing': 1, 'zapping': 1, 'hoiking': 1, 'smelling': 1, 'bowl,': 1, 'vegan': 1, \"rhino's\": 1, 'cutlet.': 1, 'delicious': 1, 'thing.\"': 1, '\"hosts?\"': 1, 'hosts?': 1, '\"welcome': 1, 'lunch,': 1, 'creature.\"': 1, '\"ugh!\"': 1, 'table!\"': 1, 'pointedly': 1, '\"oh!\"': 1, 'realization.': 1, 'introduce': 1, 'stroked': 1, 'whisky-glass': 1, '\"pleased': 1, 'likewise.': 1, 'tiniest': 1, 'grated': 1, 'megadonkey?\"': 1, 'aback,': 1, 'then.\"': 1, 'necessary,\"': 1, 'mouse.': 1, 'longer.\"': 1, 'swivelled': 1, 'destroyed.\"': 1, 'that!': 1, 'africa!\"': 1, 'holiday': 1, 'dismantle': 1, 'acidly.': 1, '\"skiing': 1, 'holiday!\"': 1, 'art!': 1, 'elegantly': 1, 'sculptured': 1, 'contours,': 1, 'soaring': 1, 'pinnacles': 1, 'ice,': 1, 'majestic': 1, 'ravines!': 1, 'sacrilege': 1, 'art!\"': 1, 'coldly,': 1, 'goodbye': 1, '\"hope': 1, 'nod': 1, 'company': 1, 'business.\"': 1, 'clinked': 1, 'business!\"': 1, 'proposing': 1, 'toast,\"': 1, 'transports.': 1, 'creature,\"': 1, 'have,': 1, 'question.\"': 1, 'interrupting,': 1, 'why?': 1, 'forty-two': 1, 'work.\"': 1, 'brutally': 1, 'honest.': 1, 'sick': 1, 'prospect': 1, 'whinnet-ridden': 1, 'heeby': 1, 'jeebies,': 1, 'holiday,': 1, 'manipulated': 1, 'offices': 1, 'friends.\"': 1, 'dimension,\"': 1, '\"since': 1, 'when,\"': 1, 'murine': 1, 'colleague,': 1, 'offer': 1, 'enormously': 1, 'contract': 1, '5d': 1, 'chat': 1, 'lecture': 1, 'circuit': 1, 'woods,': 1, 'inclined': 1, 'would,': 1, 'promptingly.': 1, '\"jump': 1, 'shot.\"': 1, 'ideally': 1, 'other.\"': 1, 'studio': 1, 'mentioning': 1, 'forty-two,': 1, \"show's\": 1, 'short.': 1, 'follow-up,': 1, 'good?\"': 1, 'good?': 1, 'mice?\"': 1, 'bristled.': 1, 'idealism,': 1, 'dignity': 1, 'pure': 1, 'pursuit': 1, 'forms,': 1, 'truth,': 1, 'multi-dimensional': 1, 'maniacs.': 1, 'choice': 1, 'spending': 1, 'exercise,\"': 1, 'hopelessly.': 1, 'matrix,': 1, 'penultimate': 1, 'configuration': 1, 'programme,\"': 1, 'lucidly': 1, '\"right?\"': 1, 'doubtfully.': 1, 'problems.': 1, 'words,\"': 1, 'steering': 1, 'vehicle': 1, 'encoded': 1, 'money,\"': 1, 'buy.\"': 1, 'electronical\\\\-ly,\"': 1, 'pro\\\\-tes\\\\-ted': 1, 'prepared.\"': 1, '\"treated,\"': 1, '\"diced.\"': 1, 'tipping': 1, 'replaced,\"': 1, 'reasonably,': 1, 'brain,\"': 1, 'suffice.\"': 1, 'one!\"': 1, 'wailed': 1, \"where's\": 1, 'tea?': 1, \"who'd\": 1, 'difference?\"': 1, 'further.': 1, '\"see': 1, 'difference,\"': 1, 'wouldn\\'t,\"': 1, 'to.\"': 1, 'lads,\"': 1, 'deal.\"': 1, 'deal,\"': 1, 'chorus,': 1, 'charm': 1, 'vanishing': 1, 'fro': 1, 'piping': 1, 'instant.': 1, 'whining': 1, 'shriek': 1, 'stumbled': 1, 'blind': 1, 'drag': 1, 'airborne': 1, 'rodents': 1, 'swooping': 1, 'yank,': 1, 'pretty.': 1, 'charged.': 1, 'thugs': 1, 'were.': 1, 'fortunate': 1, 'earsplitting': 1, 'din.': 1, '\"emergency!': 1, 'emergency!\"': 1, 'blared': 1, 'klaxons': 1, 'ma\\\\-gra\\\\-thea.': 1, '\"hos\\\\-tile': 1, 'intruders': 1, '8a.': 1, 'stations,': 1, 'stations!\"': 1, 'sniffed': 1, 'shattered': 1, '\"damnation,\"': 1, 'earthling': 1, 'brain.\"': 1, 'flashing,': 1, 'coat': 1, 'bristling': 1, 'static.': 1, 'stroking': 1, 'invent': 1, 'plausible.\"': 1, '\"difficult,\"': 1, 'dangerous?\"': 1, 'answer.\"': 1, 'multiply': 1, 'seven?\"': 1, 'literal,': 1, 'factual,\"': 1, 'sustain': 1, \"punters'\": 1, 'interest.\"': 1, '\"aha,': 1, 'promising!\"': 1, 'little.': 1, 'excellent!': 1, 'tying': 1, 'down?': 1, 'forty-two.': 1, \"that'll\": 1, 'fox': 1, \"'em.\": 1, 'made!\"': 1, 'performed': 1, 'scampering': 1, 'dance': 1, 'mile': 1, 'pounded': 1, 'open-plan': 1, 'zaphod?\"': 1, 'guess,': 1, 'adjacent': 1, 'covered.\"': 1, '\"cops!\"': 1, 'crouch.': 1, 'way,\"': 1, 'armoured': 1, 'space-': 1, 'beeblebrox!\"': 1, 'figure.': 1, '\"suits': 1, 'fine!\"': 1, 'gap': 1, 'units.': 1, 'swerved': 1, 'cornered.\"': 1, 'bolts': 1, 'ball,': 1, 'dangerous': 1, 'ducked': 1, 'replied,': 1, 'cop!\"': 1, 'cop.\"': 1, 'listen!': 1, 'laying': 1, 'easier': 1, 'cope!\"': 1, 'guy,\"': 1, 'hailer,': 1, 'dealing': 1, 'dumb': 1, 'two-bit': 1, 'trigger-pumping': 1, 'morons': 1, 'hairlines,': 1, 'conversation,': 1, 'caring': 1, 'socially!': 1, 'bragging': 1, 'seedy': 1, 'space-rangers': 1, 'bars,': 1, 'mention!': 1, 'agonize': 1, 'girlfriend!\"': 1, 'novels!\"': 1, 'chimed': 1, 'meeeean': 1, 'mood!\"': 1, 'halfway': 1, 'sockets.': 1, 'preferred': 1, 'shooting.\"': 1, 'quietly,\"': 1, 'out?\"': 1, 'prefer?\"': 1, 'millisecond': 1, 'fusillade': 1, 'unbearable': 1, 'intensity.': 1, 'quietness': 1, 'echoes': 1, 'tell,\"': 1, 'good!\"': 1, '\"because,\"': 1, 'humane!': 1, 'beat': 1, 'opposed': 1, 'needless': 1, 'violence,': 1, 'here!\"': 1, 'crazy!\"': 1, 'would,\"': 1, 'question,\"': 1, 'liberal': 1, 'sensitivity': 1, '\"shall': 1, 'bit?\"': 1, 'barrage.': 1, 'heat': 1, 'fantastic.': 1, 'disintegrate.': 1, 'melted': 1, 'rivulets': 1, 'molten': 1, 'winding': 1, 'squatting.': 1, 'huddled': 1, 'barrage': 1, 'punctuated': 1, 'strangled': 1, 'thuds.': 1, 'stopped,\"': 1, '\"dunno,': 1, '\"hello?\"': 1, 'odd.\"': 1, 'trap.\"': 1, 'wit.\"': 1, 'thuds?\"': 1, '\"dunno.\"': 1, '\"right,\"': 1, 'possibly,': 1, 'instead?\"': 1, 'heads.': 1, 'happen.': 1, 'billowing': 1, 'burning': 1, 'cautiously': 1, 'space-suited': 1, 'crumpled': 1, 'odd.': 1, 'gun': 1, 'dangled': 1, 'limp': 1, 'fingers.': 1, 'resistance.': 1, 'methane-breathing': 1, 'dependent': 1, 'oxygen': 1, 'backpack': 1, 'miniature': 1, 'sub-etha.': 1, 'fail-safe': 1, 'circumstances': 1, 'feedback': 1, 'malfunction,': 1, 'prone': 1, 'figure,': 1, 'shared': 1, 'astonishment,': 1, 'hole,\"': 1, 'gun,': 1, 'accounting': 1, 'empty,': 1, 'recognized': 1, 'belonging': 1, 'pinned': 1, 'sparse': 1, 'arrow': 1, 'controls.': 1, 'speeds': 1, 'excess': 1, 'lead': 1, 'drear': 1, 'twilight.': 1, 'congealed': 1, 'r': 1, 'measure,': 1, 'reasonable': 1, 'consistent': 1, 'health,': 1, 'wellbeing': 1, 'infinitely': 1, 'variable': 1, 'circumstances,': 1, 'factors': 1, 'vary': 1, 'absolute,': 1, 'awareness': 1, 'factor.': 1, 'tranquility': 1, 'equation': 1, 'ulcers': 1, 'death.': 1, 'fixed': 1, 'velocity,': 1, 'above,': 1, 'deposited': 1, 'starkly': 1, 'bleached': 1, 'bone,': 1, 'precipitately': 1, 'own.': 1, 'policecraft,': 1, 'bulbous': 1, 'sharklike': 1, 'slate': 1, 'smothered': 1, 'stencilled': 1, 'varying': 1, 'unfriendliness.': 1, 'informed': 1, 'from,': 1, 'assigned': 1, 'connected.': 1, 'unnaturally': 1, 'two-man': 1, 'smoke-filled': 1, 'define,': 1, 'spontaneously': 1, 'bitter': 1, 'suffering': 1, 'acute': 1, 'stayed,': 1, 'examine': 1, 'walked,': 1, 'tripped': 1, 'inert': 1, 'dust.': 1, 'exclaimed.': 1, 'muffled': 1, 'drone.': 1, 'metalman?\"': 1, 'depressed.\"': 1, 'up?\"': 1, '\"why,\"': 1, 'dust?\"': 1, 'effective': 1, 'wretched,\"': 1, 'jacked': 1, 'resolutely': 1, 'facing': 1, 'dejectedly,': 1, 'indicating': 1, 'policecraft.': 1, '\"simple.': 1, 'bored': 1, 'depressed,': 1, 'feed.': 1, 'suicide,\"': 1, 'night,': 1, 'putting': 1, 'nebula,': 1, 'lounged': 1, 'blasters;': 1, 'discussing': 1, 'matters': 1, 'arising': 1, 'it;': 1, 'bed': 1, 'place,': 1, 'reasoned,': 1, 'entry.': 1, \"'the\": 1, 'phases,': 1, 'survival,': 1, 'inquiry': 1, 'sophistication,': 1, 'phases.': 1, 'phase': 1, 'characterized': 1, 'lunch?\"': 1, 'intercom': 1, 'buzzed': 1, 'earthman?': 1, 'hungry': 1, 'kid?\"': 1, 'peckish': 1, 'suppose,\"': 1, 'tight,\"': 1, 'bite': 1, 'restaurant': 1, \"{what's\": 1, 'president?}': 1, 'president:': 1, 'title': 1, 'government.': 1, 'term': 1, 'anachronism.': 1, 'hereditary': 1, 'dying': 1, 'coma': 1, 'statis': 1, 'unchangingness.': 1, 'heirs': 1, 'dead,': 1, 'drastic': 1, 'upheaval,': 1, 'rung': 1, 'ladder,': 1, 'vested': 1, 'advisers': 1, 'governmental': 1, 'assembly': 1, 'assembly.': 1, 'vests': 1, 'figurehead': 1, 'wields': 1, 'leadership': 1, 'judged': 1, 'outrage.': 1, 'choice,': 1, 'infuriating': 1, 'fascinating': 1, 'character.': 1, 'criteria': 1, 'presidents': 1, 'prison': 1, 'fraud.': 1, 'wielded.': 1, 'secretly': 1, 'decision-making': 1, 'wrong.': 1, '{about': 1, 'perfect}': 1, 'pronuncible': 1, 'obscure': 1, 'dialect,': 1, 'extinct': 1, 'disaster': 1, 'gal./sid./year': 1, '03758': 1, 'communities': 1, 'seven.': 1, 'disaster,': 1, 'episode': 1, 'shrouded': 1, 'mystery:': 1, 'particularly.': 1, 'father,': 1, 'magnanimously': 1, 'clouds': 1, 'fathered': 1, 'uncled': 1, 'ford;': 1, 'christened': 1, 'shame,': 1, 'disease': 1, 'school': 1, 'nicknamed': 1, 'ix,': 1, 'language': 1, 'translates': 1, '\"boy': 1, 'seven\".': 1})\n",
            "The Hitch Hiker's Guide to the Galaxy \n",
            "\n",
            "The Hitch Hikers Guide to the Galaxy \n",
            "\n"
          ]
        }
      ],
      "source": [
        "# your code here\n",
        "import string\n",
        "\n",
        "with open(\"data/adams-hhgttg.txt\", \"r\") as infile:\n",
        "    words_in_file = []\n",
        "    for line in infile:\n",
        "        # Should I also include this line?\n",
        "        # line = line.translate(str.maketrans('', '', string.punctuation))\n",
        "\n",
        "        line_content = line.lower().strip().split()\n",
        "        if len(line_content) != 0:\n",
        "            words_in_file.extend(line_content)\n",
        "    print(collections.Counter(words_in_file))\n",
        "\n"
      ]
    },
    {
      "cell_type": "markdown",
      "metadata": {
        "id": "sGuyjEStVNm6"
      },
      "source": [
        "---"
      ]
    }
  ],
  "metadata": {
    "colab": {
      "name": "1_EvenMoreFundamentals.ipynb",
      "provenance": []
    },
    "kernelspec": {
      "display_name": "Python 3",
      "language": "python",
      "name": "python3"
    },
    "language_info": {
      "codemirror_mode": {
        "name": "ipython",
        "version": 3
      },
      "file_extension": ".py",
      "mimetype": "text/x-python",
      "name": "python",
      "nbconvert_exporter": "python",
      "pygments_lexer": "ipython3",
      "version": "3.8.18"
    },
    "toc": {
      "base_numbering": 1,
      "nav_menu": {},
      "number_sections": true,
      "sideBar": true,
      "skip_h1_title": false,
      "title_cell": "Table of Contents",
      "title_sidebar": "Contents",
      "toc_cell": false,
      "toc_position": {},
      "toc_section_display": true,
      "toc_window_display": true
    }
  },
  "nbformat": 4,
  "nbformat_minor": 0
}
