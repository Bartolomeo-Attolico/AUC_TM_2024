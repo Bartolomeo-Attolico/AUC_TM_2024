{
 "cells": [
  {
   "cell_type": "markdown",
   "metadata": {
    "collapsed": true,
    "jupyter": {
     "outputs_hidden": true
    }
   },
   "source": [
    "# Scientific Programming"
   ]
  },
  {
   "cell_type": "code",
   "execution_count": 1,
   "metadata": {},
   "outputs": [],
   "source": [
    "## Notebook settings \n",
    "\n",
    "# multiple lines of output per cell\n",
    "from IPython.core.interactiveshell import InteractiveShell\n",
    "InteractiveShell.ast_node_interactivity = \"all\""
   ]
  },
  {
   "cell_type": "markdown",
   "metadata": {},
   "source": [
    ">### Today\n",
    ">\n",
    "> - Scientific programming\n",
    ">    - [NumPy](#NumPy)\n",
    ">    - [Matplotlib](#Matplotlib)\n",
    "> \n",
    ">\n",
    "> - Regular expressions (another notebook)"
   ]
  },
  {
   "cell_type": "markdown",
   "metadata": {},
   "source": [
    "## A Sample of Python Libraries for Scientific Programming\n",
    "\n",
    "In addition to the Standard Library, `python.org` offers an ever-growing collection of freely available components that are constantly upgraded, tested and updated. There are many modules, packages and programs available from [PyPI](https://pypi.python.org/pypi) - the Python Package Index. "
   ]
  },
  {
   "cell_type": "markdown",
   "metadata": {},
   "source": [
    "These libraries are developed either to extend the functionalities of Python, or as more specialized/efficient version of existing modules (or both). In the remaining of this tutorial we will briefly introduce two fundamental packages for scientific computing with Python: **NumPy** and **matplotlib**."
   ]
  },
  {
   "cell_type": "markdown",
   "metadata": {},
   "source": [
    "## NumPy\n",
    "\n",
    "The **Num**eric(al) **Py**thon package is the core library for scientific computing in Python. It enriches Python with high performance data structures, as well as with function to manipulate such data structures and for a whole range of numerical routines. \n",
    "\n",
    "**SciPy**, another core scientific package provides a wide inventory on functions that, by operating on NumPy arrays, can be used for a range of scientific applications."
   ]
  },
  {
   "cell_type": "code",
   "execution_count": 2,
   "metadata": {},
   "outputs": [],
   "source": [
    "# when imported, numpy is usually renamed as \"np\". \n",
    "import numpy as np"
   ]
  },
  {
   "cell_type": "markdown",
   "metadata": {},
   "source": [
    "#### Arrays\n",
    "\n",
    "**ndarrays** (i.e. *N*-dimensional arrays) are the main data structure on which NumPy is based. \n",
    "\n",
    "ndarrays are **multidimensional** **homogeneous** arrays composed by a **predetermined number** of items:\n",
    "\n",
    "\n",
    "- the dimensionality of an ndarray is defined by its **shape** (i.e., a tuple of integers specifying the size of each dimension, a.k.a. *axes*). The number of axes of an array is called its **rank**. \n",
    "\n",
    "\n",
    "- Sometimes \"dimension\" is used interchangeably for the shape and the rank of an array.\n",
    "\n",
    "\n",
    "- Ndarrays are composed by items of the same type. In NumPy arrays, types are defined by the object **dtype** (data-type), and each array is associated to one and only one dtype.\n",
    "\n",
    "\n",
    "- When a ndarray is created, its size is defined and cannot be changed."
   ]
  },
  {
   "cell_type": "markdown",
   "metadata": {},
   "source": [
    "NumPy arrays can be created in many different ways, among which by passing a regular Python list or tuple to the `array()` function:"
   ]
  },
  {
   "cell_type": "code",
   "execution_count": 3,
   "metadata": {},
   "outputs": [
    {
     "name": "stdout",
     "output_type": "stream",
     "text": [
      "[1 2 3 4 5 6]\n"
     ]
    }
   ],
   "source": [
    "# let's create a rank-1 array (i.e. a vector)\n",
    "a = np.array([1, 2, 3, 4, 5, 6])\n",
    "print(a)"
   ]
  },
  {
   "cell_type": "code",
   "execution_count": 4,
   "metadata": {
    "scrolled": true
   },
   "outputs": [
    {
     "data": {
      "text/plain": [
       "numpy.ndarray"
      ]
     },
     "execution_count": 4,
     "metadata": {},
     "output_type": "execute_result"
    }
   ],
   "source": [
    "# let's verify that this is a numpy array\n",
    "type(a)"
   ]
  },
  {
   "cell_type": "code",
   "execution_count": 5,
   "metadata": {},
   "outputs": [
    {
     "data": {
      "text/plain": [
       "1"
      ]
     },
     "execution_count": 5,
     "metadata": {},
     "output_type": "execute_result"
    }
   ],
   "source": [
    "# this is a rank-1 array\n",
    "a.ndim"
   ]
  },
  {
   "cell_type": "code",
   "execution_count": 6,
   "metadata": {},
   "outputs": [
    {
     "data": {
      "text/plain": [
       "(6,)"
      ]
     },
     "execution_count": 6,
     "metadata": {},
     "output_type": "execute_result"
    }
   ],
   "source": [
    "# its only axis has shape [6]\n",
    "a.shape"
   ]
  },
  {
   "cell_type": "code",
   "execution_count": 7,
   "metadata": {},
   "outputs": [
    {
     "data": {
      "text/plain": [
       "dtype('int64')"
      ]
     },
     "execution_count": 7,
     "metadata": {},
     "output_type": "execute_result"
    }
   ],
   "source": [
    "# if not explicitly specified, array() automatically infers the dtype on the basis of the type of the \n",
    "# elements in the list\n",
    "a.dtype"
   ]
  },
  {
   "cell_type": "code",
   "execution_count": 8,
   "metadata": {},
   "outputs": [
    {
     "name": "stdout",
     "output_type": "stream",
     "text": [
      "1 3 6\n"
     ]
    }
   ],
   "source": [
    "# indexing can be used to access values...\n",
    "print(a[0], a[2], a[5])"
   ]
  },
  {
   "cell_type": "code",
   "execution_count": 9,
   "metadata": {
    "scrolled": true
   },
   "outputs": [
    {
     "data": {
      "text/plain": [
       "array([1, 9, 3, 4, 5, 6])"
      ]
     },
     "execution_count": 9,
     "metadata": {},
     "output_type": "execute_result"
    }
   ],
   "source": [
    "# ... or to change them\n",
    "a[1] = 9\n",
    "a"
   ]
  },
  {
   "cell_type": "code",
   "execution_count": 10,
   "metadata": {},
   "outputs": [
    {
     "data": {
      "text/plain": [
       "array([[1, 9],\n",
       "       [3, 4],\n",
       "       [5, 6]])"
      ]
     },
     "execution_count": 10,
     "metadata": {},
     "output_type": "execute_result"
    }
   ],
   "source": [
    "# the rank of an array can be changed, e.g. into  2-rank array with 3 rows and 2 columns\n",
    "# NB: row*col must be equal to no. of elements (6 here)\n",
    "a.reshape(3, 2)"
   ]
  },
  {
   "cell_type": "code",
   "execution_count": 11,
   "metadata": {},
   "outputs": [
    {
     "name": "stdout",
     "output_type": "stream",
     "text": [
      "[[1 2 3]\n",
      " [4 5 6]\n",
      " [7 8 9]]\n",
      "2\n",
      "(3, 3)\n"
     ]
    }
   ],
   "source": [
    "# the same syntax can be used to create rank 2 arrays\n",
    "b = np.array([[1, 2, 3], [4, 5, 6], [7, 8, 9]])\n",
    "print(b)\n",
    "print(b.ndim)\n",
    "print(b.shape)"
   ]
  },
  {
   "cell_type": "code",
   "execution_count": 12,
   "metadata": {},
   "outputs": [
    {
     "name": "stdout",
     "output_type": "stream",
     "text": [
      "1\n",
      "1\n",
      "8\n"
     ]
    }
   ],
   "source": [
    "# but indexing is a bit more articulated\n",
    "print(b[0, 0])\n",
    "print(b[0][0])\n",
    "print(b[2, 1])"
   ]
  },
  {
   "cell_type": "markdown",
   "metadata": {},
   "source": [
    "The `dtype` option can be used to specify to the `array()` function which type of elements are in the array (see the [NumPy documentation](https://docs.scipy.org/doc/numpy-1.10.1/user/basics.types.html) for the full list of supported data-types):"
   ]
  },
  {
   "cell_type": "code",
   "execution_count": 13,
   "metadata": {},
   "outputs": [
    {
     "name": "stdout",
     "output_type": "stream",
     "text": [
      "[[1. 2. 3.]\n",
      " [4. 5. 6.]\n",
      " [7. 8. 9.]]\n"
     ]
    }
   ],
   "source": [
    "c = np.array([[1, 2, 3], [4, 5, 6], [7, 8, 9]], dtype = \"float32\")\n",
    "print(c)"
   ]
  },
  {
   "cell_type": "markdown",
   "metadata": {},
   "source": [
    "Arrays with some initial content can be created by using different functions, depending on the **initial value**..."
   ]
  },
  {
   "cell_type": "code",
   "execution_count": 14,
   "metadata": {},
   "outputs": [
    {
     "name": "stdout",
     "output_type": "stream",
     "text": [
      "[[0. 0. 0. 0.]\n",
      " [0. 0. 0. 0.]\n",
      " [0. 0. 0. 0.]]\n"
     ]
    }
   ],
   "source": [
    "# 2-rank array of zeros\n",
    "a = np.zeros((3, 4))\n",
    "print (a)"
   ]
  },
  {
   "cell_type": "code",
   "execution_count": 15,
   "metadata": {},
   "outputs": [
    {
     "name": "stdout",
     "output_type": "stream",
     "text": [
      "[[1. 1. 1. 1.]\n",
      " [1. 1. 1. 1.]\n",
      " [1. 1. 1. 1.]]\n"
     ]
    }
   ],
   "source": [
    "# 2-rank array of ones\n",
    "b = np.ones((3, 4))\n",
    "print (b)"
   ]
  },
  {
   "cell_type": "code",
   "execution_count": 16,
   "metadata": {},
   "outputs": [
    {
     "name": "stdout",
     "output_type": "stream",
     "text": [
      "[[14.05 14.05 14.05 14.05]\n",
      " [14.05 14.05 14.05 14.05]\n",
      " [14.05 14.05 14.05 14.05]]\n"
     ]
    }
   ],
   "source": [
    "# 2-rank array with an user-selected initial value\n",
    "c = np.full((3, 4), 14.05)\n",
    "print(c)"
   ]
  },
  {
   "cell_type": "markdown",
   "metadata": {},
   "source": [
    "... or on the **function** used to generate the initial values:"
   ]
  },
  {
   "cell_type": "code",
   "execution_count": 17,
   "metadata": {},
   "outputs": [
    {
     "name": "stdout",
     "output_type": "stream",
     "text": [
      "[[[0.74277821 0.72169315 0.28689545 0.91411521]\n",
      "  [0.31831868 0.92779592 0.76669075 0.84226105]\n",
      "  [0.6879486  0.21587286 0.70561197 0.93797466]]\n",
      "\n",
      " [[0.24525106 0.8967408  0.22020614 0.63416401]\n",
      "  [0.04663251 0.21326234 0.06567984 0.03004114]\n",
      "  [0.04276694 0.17197819 0.35202323 0.50976528]]]\n",
      "ciao\n"
     ]
    }
   ],
   "source": [
    "# 3-rank array with random values\n",
    "d = np.random.random((2, 3, 4))\n",
    "print(d)\n",
    "print(\"ciao\")"
   ]
  },
  {
   "cell_type": "markdown",
   "metadata": {},
   "source": [
    "NumPy display arrays according to the following rules:\n",
    "\n",
    "- the last axis is printed left to right\n",
    "\n",
    "- the second-to-last is printed top to bottom\n",
    "\n",
    "- the rest are printed top to bottom as well, but the slices are separated by empty lines"
   ]
  },
  {
   "cell_type": "markdown",
   "metadata": {},
   "source": [
    "#### Array Indexing\n",
    "\n",
    "1-rank array indexing, slicing and iteration works much as for the normal Python lists:"
   ]
  },
  {
   "cell_type": "code",
   "execution_count": 18,
   "metadata": {},
   "outputs": [
    {
     "name": "stdout",
     "output_type": "stream",
     "text": [
      "3\n",
      "[3 4 5]\n",
      "1\n",
      "2\n",
      "3\n",
      "4\n",
      "5\n",
      "6\n"
     ]
    }
   ],
   "source": [
    "a = np.array([1, 2, 3, 4, 5, 6])\n",
    "print(a[2])\n",
    "print(a[2:5])\n",
    "for v in a: print(v)"
   ]
  },
  {
   "cell_type": "markdown",
   "metadata": {},
   "source": [
    "When dealing with multidimensional arrays (i.e. rank > 1), it is necessary to specify an index or a slice **for each dimension**:"
   ]
  },
  {
   "cell_type": "code",
   "execution_count": 19,
   "metadata": {},
   "outputs": [
    {
     "name": "stdout",
     "output_type": "stream",
     "text": [
      "(3, 3)\n",
      "[[1 2 3]\n",
      " [4 5 6]\n",
      " [7 8 9]]\n",
      "--------\n"
     ]
    },
    {
     "data": {
      "text/plain": [
       "(None, None)"
      ]
     },
     "execution_count": 19,
     "metadata": {},
     "output_type": "execute_result"
    },
    {
     "name": "stdout",
     "output_type": "stream",
     "text": [
      "5\n",
      "--------\n"
     ]
    },
    {
     "data": {
      "text/plain": [
       "(None, None)"
      ]
     },
     "execution_count": 19,
     "metadata": {},
     "output_type": "execute_result"
    },
    {
     "name": "stdout",
     "output_type": "stream",
     "text": [
      "[[1 2 3]\n",
      " [4 5 6]]\n",
      "--------\n"
     ]
    },
    {
     "data": {
      "text/plain": [
       "(None, None)"
      ]
     },
     "execution_count": 19,
     "metadata": {},
     "output_type": "execute_result"
    },
    {
     "name": "stdout",
     "output_type": "stream",
     "text": [
      "[[2 3]\n",
      " [5 6]\n",
      " [8 9]]\n",
      "--------\n"
     ]
    },
    {
     "data": {
      "text/plain": [
       "(None, None)"
      ]
     },
     "execution_count": 19,
     "metadata": {},
     "output_type": "execute_result"
    },
    {
     "name": "stdout",
     "output_type": "stream",
     "text": [
      "[[2 3]\n",
      " [5 6]]\n"
     ]
    }
   ],
   "source": [
    "a = np.array([[1, 2, 3], [4, 5, 6], [7, 8, 9]])\n",
    "print(a.shape)\n",
    "\n",
    "print(a), print(\"--------\")\n",
    "\n",
    "print(a[1, 1]), print(\"--------\")\n",
    "\n",
    "print(a[0:2]), print(\"--------\")\n",
    "\n",
    "print(a[:, 1:3]), print(\"--------\")\n",
    "\n",
    "print(a[0:2, 1:3])"
   ]
  },
  {
   "cell_type": "code",
   "execution_count": 20,
   "metadata": {},
   "outputs": [
    {
     "name": "stdout",
     "output_type": "stream",
     "text": [
      "[[1 2 3]\n",
      " [4 5 6]]\n"
     ]
    }
   ],
   "source": [
    "# unspecified indices works the same as with normal lists\n",
    "print(a[:2, :3])"
   ]
  },
  {
   "cell_type": "code",
   "execution_count": 21,
   "metadata": {},
   "outputs": [
    {
     "name": "stdout",
     "output_type": "stream",
     "text": [
      "[4 5 6]\n"
     ]
    }
   ],
   "source": [
    "# missing indices are considered complete slices\n",
    "print(a[1])"
   ]
  },
  {
   "cell_type": "code",
   "execution_count": 22,
   "metadata": {},
   "outputs": [
    {
     "name": "stdout",
     "output_type": "stream",
     "text": [
      "[7 8 9]\n"
     ]
    }
   ],
   "source": [
    "# negative indices can be used as well\n",
    "print (a[-1])"
   ]
  },
  {
   "cell_type": "markdown",
   "metadata": {},
   "source": [
    "The iteration over multidimensional arrays starts always with respect to the first axis:"
   ]
  },
  {
   "cell_type": "code",
   "execution_count": 23,
   "metadata": {},
   "outputs": [
    {
     "name": "stdout",
     "output_type": "stream",
     "text": [
      "1\n",
      "2\n",
      "3\n"
     ]
    }
   ],
   "source": [
    "for v in a[0]: print(v)"
   ]
  },
  {
   "cell_type": "markdown",
   "metadata": {},
   "source": [
    "**boolean indexing** allows you to pick out all the array elements that satisfy a given condition"
   ]
  },
  {
   "cell_type": "code",
   "execution_count": 24,
   "metadata": {},
   "outputs": [
    {
     "name": "stdout",
     "output_type": "stream",
     "text": [
      "[[False  True False]\n",
      " [ True False  True]\n",
      " [False  True False]]\n"
     ]
    }
   ],
   "source": [
    "# let's create a boolean array of the same shape as \"a\", where each slot tells us if \n",
    "# that element of \"a\" is an even number\n",
    "even_idx = ( a % 2 == 0 )\n",
    "print(even_idx)"
   ]
  },
  {
   "cell_type": "code",
   "execution_count": 25,
   "metadata": {},
   "outputs": [
    {
     "name": "stdout",
     "output_type": "stream",
     "text": [
      "[2 4 6 8]\n"
     ]
    }
   ],
   "source": [
    "# let's extract the even numbers in our array\n",
    "print(a[even_idx])"
   ]
  },
  {
   "cell_type": "markdown",
   "metadata": {},
   "source": [
    "#### Basic Math \n",
    "\n",
    "Basic mathematical functions apply element-wise:"
   ]
  },
  {
   "cell_type": "code",
   "execution_count": 26,
   "metadata": {},
   "outputs": [
    {
     "name": "stdout",
     "output_type": "stream",
     "text": [
      "[[15.05 15.05 15.05 15.05]\n",
      " [15.05 15.05 15.05 15.05]\n",
      " [15.05 15.05 15.05 15.05]]\n"
     ]
    }
   ],
   "source": [
    "# e.g. for the sum\n",
    "print(b + c)"
   ]
  },
  {
   "cell_type": "code",
   "execution_count": 27,
   "metadata": {},
   "outputs": [
    {
     "name": "stdout",
     "output_type": "stream",
     "text": [
      "[[14.05 14.05 14.05 14.05]\n",
      " [14.05 14.05 14.05 14.05]\n",
      " [14.05 14.05 14.05 14.05]]\n"
     ]
    }
   ],
   "source": [
    "# element-wise multiplication\n",
    "print(b * c)"
   ]
  },
  {
   "cell_type": "markdown",
   "metadata": {},
   "source": [
    "The function `dot()` can be used to calculate the inner product:"
   ]
  },
  {
   "cell_type": "code",
   "execution_count": 28,
   "metadata": {},
   "outputs": [
    {
     "name": "stdout",
     "output_type": "stream",
     "text": [
      "219\n"
     ]
    }
   ],
   "source": [
    "# inner product of rank 1 matrices, or vectors (returns a number, i.e. a scalar)\n",
    "print(np.dot(np.array([9, 10]), np.array([11, 12])))"
   ]
  },
  {
   "cell_type": "code",
   "execution_count": 29,
   "metadata": {},
   "outputs": [
    {
     "name": "stdout",
     "output_type": "stream",
     "text": [
      "[ 1 -3]\n"
     ]
    }
   ],
   "source": [
    "# matrix-vector multiplication\n",
    "print(np.dot(np.array([[1, -1, 2],[0, -3, 1]]), np.array([2, 1, 0])))"
   ]
  },
  {
   "cell_type": "code",
   "execution_count": 30,
   "metadata": {},
   "outputs": [
    {
     "name": "stdout",
     "output_type": "stream",
     "text": [
      "[[  0 -10]\n",
      " [ -3  -1]]\n"
     ]
    }
   ],
   "source": [
    "# matrix-matrix multiplication\n",
    "print(np.dot(np.array([[0, 4, -2], [-4, -3, 0]]), np.array([[0, 1], [1, -1], [2, 3]])))"
   ]
  },
  {
   "cell_type": "markdown",
   "metadata": {},
   "source": [
    "Finally, Numpy functions allow to perform computation on arrays or to transform them"
   ]
  },
  {
   "cell_type": "code",
   "execution_count": 31,
   "metadata": {},
   "outputs": [
    {
     "name": "stdout",
     "output_type": "stream",
     "text": [
      "[[1. 1. 1. 1.]\n",
      " [1. 1. 1. 1.]\n",
      " [1. 1. 1. 1.]]\n",
      "--------\n",
      "12.0\n",
      "--------\n",
      "[3. 3. 3. 3.]\n",
      "--------\n",
      "[4. 4. 4.]\n"
     ]
    }
   ],
   "source": [
    "# compute the sum of all the elements along an axis\n",
    "print(b)\n",
    "print(\"--------\")\n",
    "print(np.sum(b)) # sum all element\n",
    "print(\"--------\")\n",
    "print(np.sum(b, axis=0)) # think: sum over and \"collapse\" axis 0 (= columns)\n",
    "print(\"--------\")\n",
    "print(np.sum(b, axis=1)) # think: sum over and \"collapse\" axis 1 (= rows)"
   ]
  },
  {
   "cell_type": "code",
   "execution_count": 32,
   "metadata": {},
   "outputs": [
    {
     "name": "stdout",
     "output_type": "stream",
     "text": [
      "(2, 3)\n",
      "[[0 1 2]\n",
      " [3 4 5]]\n",
      "--------\n",
      "(3, 2)\n",
      "[[0 3]\n",
      " [1 4]\n",
      " [2 5]]\n"
     ]
    }
   ],
   "source": [
    "# transpose of a matrix\n",
    "f = np.arange(6).reshape(2,3)\n",
    "print(f.shape)\n",
    "print(f)\n",
    "print(\"--------\")\n",
    "f_transp = f.T\n",
    "print(f_transp.shape)\n",
    "print(f_transp)"
   ]
  },
  {
   "cell_type": "code",
   "execution_count": 33,
   "metadata": {},
   "outputs": [
    {
     "name": "stdout",
     "output_type": "stream",
     "text": [
      ">> 'regular' (rank 1) vector <<\n",
      "rank: 1\n",
      "shape: (5,)\n",
      "[0 1 2 3 4]\n",
      "--------\n"
     ]
    },
    {
     "data": {
      "text/plain": [
       "(None, None)"
      ]
     },
     "execution_count": 33,
     "metadata": {},
     "output_type": "execute_result"
    },
    {
     "name": "stdout",
     "output_type": "stream",
     "text": [
      ">> column vector <<\n",
      "rank: 2\n",
      "shape: (5, 1)\n",
      "[[0]\n",
      " [1]\n",
      " [2]\n",
      " [3]\n",
      " [4]]\n",
      "--------\n"
     ]
    },
    {
     "data": {
      "text/plain": [
       "(None, None)"
      ]
     },
     "execution_count": 33,
     "metadata": {},
     "output_type": "execute_result"
    },
    {
     "name": "stdout",
     "output_type": "stream",
     "text": [
      ">> row vector <<\n",
      "rank: 2\n",
      "shape: (1, 5)\n",
      "[[0 1 2 3 4]]\n"
     ]
    }
   ],
   "source": [
    "# 3 different types of vectors\n",
    "a_1 = np.arange(5)\n",
    "print(\">> 'regular' (rank 1) vector <<\")\n",
    "print(\"rank: \" + str(a_1.ndim))\n",
    "print(\"shape: \" + str(a_1.shape))\n",
    "print(a_1), print(\"--------\")\n",
    "\n",
    "a_2 = a_1.reshape(5,1)\n",
    "print(\">> column vector <<\")\n",
    "print(\"rank: \" + str(a_2.ndim))\n",
    "print(\"shape: \" + str(a_2.shape))\n",
    "\n",
    "print(a_2), print(\"--------\")\n",
    "\n",
    "a_3 = a_2.reshape(1,5)\n",
    "print(\">> row vector <<\")\n",
    "print(\"rank: \" + str(a_3.ndim))\n",
    "print(\"shape: \" + str(a_3.shape))\n",
    "print(a_3)"
   ]
  },
  {
   "cell_type": "markdown",
   "metadata": {},
   "source": [
    "`np.linalg` provides access to linear algebra functions, e.g., solvers, eigenvalues/vectors, norms and decompositions."
   ]
  },
  {
   "cell_type": "code",
   "execution_count": 34,
   "metadata": {},
   "outputs": [
    {
     "name": "stdout",
     "output_type": "stream",
     "text": [
      "[[1. 2.]\n",
      " [3. 4.]]\n",
      "[[-2.   1. ]\n",
      " [ 1.5 -0.5]]\n",
      "True\n",
      "--------\n",
      "-2.0000000000000004\n"
     ]
    }
   ],
   "source": [
    "# inverse of a matrix\n",
    "a = np.array([[1., 2.], [3., 4.]])\n",
    "print(a)\n",
    "print(np.linalg.inv(a))\n",
    "print(np.allclose(np.dot(a,np.linalg.inv(a)),np.eye(2)))\n",
    "print(\"--------\")\n",
    "print(np.linalg.det(a))"
   ]
  },
  {
   "cell_type": "markdown",
   "metadata": {},
   "source": [
    "---"
   ]
  },
  {
   "cell_type": "markdown",
   "metadata": {},
   "source": [
    "## Matplotlib\n",
    "\n",
    "matlotlib is a 2D **plotting library**. \n",
    " \n",
    "You can have an idea of the possibilities offered by this package by exploring the [examples](http://matplotlib.org/examples/index.html) section of the documentation\n",
    "\n",
    "The easiest way to drop plots with matplotlib it is by relying on the MATLAB-like interface provided by the `pyplot` module."
   ]
  },
  {
   "cell_type": "code",
   "execution_count": 35,
   "metadata": {},
   "outputs": [],
   "source": [
    "import matplotlib.pyplot as plt\n",
    "\n",
    "# to make plots in IPython using Matplotlib, you must first enable IPython's matplotlib mode\n",
    "# we may want to use the backend inline, that will embed plots inside the Notebook\n",
    "%matplotlib inline  "
   ]
  },
  {
   "cell_type": "markdown",
   "metadata": {},
   "source": [
    "##### Line plots\n",
    "\n",
    "Line plots represents the relationship between *x*-values and *y*-values by means of a line. \n",
    "\n",
    "Graphs of this sort can be drawn by using the [`.plot()` function](https://matplotlib.org/api/pyplot_api.html#matplotlib.pyplot.plot), with its default settings "
   ]
  },
  {
   "cell_type": "code",
   "execution_count": 36,
   "metadata": {},
   "outputs": [],
   "source": [
    "# make an array for the x-values and one array for the y-values\n",
    "x = np.arange(1, 150)\n",
    "y = np.log(x)"
   ]
  },
  {
   "cell_type": "code",
   "execution_count": 37,
   "metadata": {},
   "outputs": [
    {
     "data": {
      "text/plain": [
       "[<matplotlib.lines.Line2D at 0x107cc09d0>]"
      ]
     },
     "execution_count": 37,
     "metadata": {},
     "output_type": "execute_result"
    },
    {
     "data": {
      "image/png": "[encoded data removed]",
      "text/plain": [
       "<Figure size 640x480 with 1 Axes>"
      ]
     },
     "metadata": {},
     "output_type": "display_data"
    }
   ],
   "source": [
    "# let's create the plot\n",
    "plt.plot(x, y)"
   ]
  },
  {
   "cell_type": "code",
   "execution_count": 38,
   "metadata": {},
   "outputs": [
    {
     "data": {
      "text/plain": [
       "<Figure size 640x480 with 0 Axes>"
      ]
     },
     "metadata": {},
     "output_type": "display_data"
    }
   ],
   "source": [
    "# export the plot in a .pdf file\n",
    "plt.savefig(\"data/exemplar-lineplot.pdf\")"
   ]
  },
  {
   "cell_type": "code",
   "execution_count": 39,
   "metadata": {},
   "outputs": [
    {
     "data": {
      "text/plain": [
       "<Figure size 640x480 with 0 Axes>"
      ]
     },
     "metadata": {},
     "output_type": "display_data"
    }
   ],
   "source": [
    "# export the plot in a .png file\n",
    "plt.savefig(\"data/exemplar-lineplot.png\")"
   ]
  },
  {
   "cell_type": "markdown",
   "metadata": {},
   "source": [
    "Multiple calls of the `.plot()` function draw **multiple line plots** in the same figure \n",
    "\n",
    "(note that matplotlib will try to automatically manage many graphical parameters among which the axis size and the line colors)"
   ]
  },
  {
   "cell_type": "code",
   "execution_count": 40,
   "metadata": {},
   "outputs": [
    {
     "data": {
      "text/plain": [
       "[<matplotlib.lines.Line2D at 0x11424a400>]"
      ]
     },
     "execution_count": 40,
     "metadata": {},
     "output_type": "execute_result"
    },
    {
     "data": {
      "text/plain": [
       "[<matplotlib.lines.Line2D at 0x11421a190>]"
      ]
     },
     "execution_count": 40,
     "metadata": {},
     "output_type": "execute_result"
    },
    {
     "data": {
      "image/png": "[encoded data removed]",
      "text/plain": [
       "<Figure size 640x480 with 1 Axes>"
      ]
     },
     "metadata": {},
     "output_type": "display_data"
    }
   ],
   "source": [
    "plt.plot(x, y) # think of (x, y) as an array (of rank 2) being plotted\n",
    "plt.plot(x, y * 2)"
   ]
  },
  {
   "cell_type": "markdown",
   "metadata": {},
   "source": [
    "##### Scatterplots\n",
    "\n",
    "A scatterplot represents one or more groups of observations as points in a cartesian space. \n",
    "\n",
    "The [`scatter()` function](https://matplotlib.org/api/pyplot_api.html#matplotlib.pyplot.plot) implements a method to draw this kind of plots."
   ]
  },
  {
   "cell_type": "code",
   "execution_count": 41,
   "metadata": {},
   "outputs": [],
   "source": [
    "n = 100\n",
    "x = np.random.normal(0, 1, n)\n",
    "y = np.random.normal(0, 1, n)"
   ]
  },
  {
   "cell_type": "code",
   "execution_count": 42,
   "metadata": {},
   "outputs": [
    {
     "data": {
      "text/plain": [
       "<matplotlib.collections.PathCollection at 0x114299910>"
      ]
     },
     "execution_count": 42,
     "metadata": {},
     "output_type": "execute_result"
    },
    {
     "data": {
      "image/png": "[encoded data removed]",
      "text/plain": [
       "<Figure size 640x480 with 1 Axes>"
      ]
     },
     "metadata": {},
     "output_type": "display_data"
    }
   ],
   "source": [
    "plt.scatter(x, y)"
   ]
  },
  {
   "cell_type": "markdown",
   "metadata": {},
   "source": [
    "We can use different marker settings for `plot()` (marker type, size)"
   ]
  },
  {
   "cell_type": "code",
   "execution_count": 43,
   "metadata": {},
   "outputs": [
    {
     "data": {
      "text/plain": [
       "[<matplotlib.lines.Line2D at 0x11433ad00>]"
      ]
     },
     "execution_count": 43,
     "metadata": {},
     "output_type": "execute_result"
    },
    {
     "data": {
      "image/png": "[encoded data removed]",
      "text/plain": [
       "<Figure size 640x480 with 1 Axes>"
      ]
     },
     "metadata": {},
     "output_type": "display_data"
    }
   ],
   "source": [
    "plt.plot(x, y, \".\")"
   ]
  },
  {
   "cell_type": "markdown",
   "metadata": {},
   "source": [
    "Color-coding (the default behavior of both `scatter()` and `plot()` allows you to plot different groups of data points:"
   ]
  },
  {
   "cell_type": "code",
   "execution_count": 44,
   "metadata": {},
   "outputs": [
    {
     "data": {
      "text/plain": [
       "<matplotlib.collections.PathCollection at 0x1143aa910>"
      ]
     },
     "execution_count": 44,
     "metadata": {},
     "output_type": "execute_result"
    },
    {
     "data": {
      "text/plain": [
       "<matplotlib.collections.PathCollection at 0x1142f6d00>"
      ]
     },
     "execution_count": 44,
     "metadata": {},
     "output_type": "execute_result"
    },
    {
     "data": {
      "image/png": "[encoded data removed]",
      "text/plain": [
       "<Figure size 640x480 with 1 Axes>"
      ]
     },
     "metadata": {},
     "output_type": "display_data"
    }
   ],
   "source": [
    "plt.scatter(x, y)\n",
    "plt.scatter(x * 2 , y * 2) # what's happening here? (hint: array-like input to scatter...)"
   ]
  },
  {
   "cell_type": "markdown",
   "metadata": {},
   "source": [
    "##### Manipulating the appearance of a plot\n",
    "\n",
    "Matplotlib allows you to manipulate almost every property of a plot: figure size and resolution, line appearance, axis and grid properties, textual elements ..."
   ]
  },
  {
   "cell_type": "code",
   "execution_count": 45,
   "metadata": {},
   "outputs": [],
   "source": [
    "x = np.arange(1, 150)\n",
    "y = np.log(x)"
   ]
  },
  {
   "cell_type": "markdown",
   "metadata": {},
   "source": [
    "You to change the appearance of the **line**\n",
    "\n",
    "(NOTE: See the [matplotlib documentation](https://matplotlib.org/users/colors.html) for a quick introduction on how a color can be specified by the user)"
   ]
  },
  {
   "cell_type": "code",
   "execution_count": 46,
   "metadata": {},
   "outputs": [
    {
     "data": {
      "text/plain": [
       "[<matplotlib.lines.Line2D at 0x114426430>]"
      ]
     },
     "execution_count": 46,
     "metadata": {},
     "output_type": "execute_result"
    },
    {
     "data": {
      "text/plain": [
       "[<matplotlib.lines.Line2D at 0x114426730>]"
      ]
     },
     "execution_count": 46,
     "metadata": {},
     "output_type": "execute_result"
    },
    {
     "data": {
      "text/plain": [
       "[<matplotlib.lines.Line2D at 0x114426a30>]"
      ]
     },
     "execution_count": 46,
     "metadata": {},
     "output_type": "execute_result"
    },
    {
     "data": {
      "text/plain": [
       "[<matplotlib.lines.Line2D at 0x114426d90>]"
      ]
     },
     "execution_count": 46,
     "metadata": {},
     "output_type": "execute_result"
    },
    {
     "data": {
      "image/png": "[encoded data removed]",
      "text/plain": [
       "<Figure size 640x480 with 1 Axes>"
      ]
     },
     "metadata": {},
     "output_type": "display_data"
    }
   ],
   "source": [
    "plt.plot(x, y * 2.5, color = \"r\")  # you can change the line color \n",
    "plt.plot(x, y * 2, linewidth = 0.75)  # you can change the line width\n",
    "plt.plot(x, y * 1.5, linestyle = '--')  # you can change the line style\n",
    "plt.plot(x, y, marker = '*')  # you can change the marker style"
   ]
  },
  {
   "cell_type": "markdown",
   "metadata": {},
   "source": [
    "You can manually choose the **axis limits**, the **axis titles**, the **axis ticks** and **their text** (and plot a grid, if you like):"
   ]
  },
  {
   "cell_type": "code",
   "execution_count": 47,
   "metadata": {},
   "outputs": [
    {
     "data": {
      "text/plain": [
       "[<matplotlib.lines.Line2D at 0x1144a8ee0>]"
      ]
     },
     "execution_count": 47,
     "metadata": {},
     "output_type": "execute_result"
    },
    {
     "data": {
      "text/plain": [
       "(0.0, 7.0)"
      ]
     },
     "execution_count": 47,
     "metadata": {},
     "output_type": "execute_result"
    },
    {
     "data": {
      "text/plain": [
       "(-5.0, 155.0)"
      ]
     },
     "execution_count": 47,
     "metadata": {},
     "output_type": "execute_result"
    },
    {
     "data": {
      "text/plain": [
       "Text(0, 0.5, 'log (x)')"
      ]
     },
     "execution_count": 47,
     "metadata": {},
     "output_type": "execute_result"
    },
    {
     "data": {
      "text/plain": [
       "([<matplotlib.axis.XTick at 0x1144851c0>,\n",
       "  <matplotlib.axis.XTick at 0x114485190>,\n",
       "  <matplotlib.axis.XTick at 0x11447ec10>,\n",
       "  <matplotlib.axis.XTick at 0x1144b5a90>],\n",
       " [Text(0, 0, 'zero'),\n",
       "  Text(50, 0, 'fifty'),\n",
       "  Text(100, 0, 'one hundred'),\n",
       "  Text(150, 0, 'one hundred and fifty')])"
      ]
     },
     "execution_count": 47,
     "metadata": {},
     "output_type": "execute_result"
    },
    {
     "data": {
      "image/png": "[encoded data removed]",
      "text/plain": [
       "<Figure size 640x480 with 1 Axes>"
      ]
     },
     "metadata": {},
     "output_type": "display_data"
    }
   ],
   "source": [
    "plt.plot(x, y)\n",
    "\n",
    "# set the axis limits\n",
    "plt.ylim(0, 7)  \n",
    "plt.xlim(-5, 155)  # set the x-axes limits\n",
    "\n",
    "# let's set the y-axis text\n",
    "plt.ylabel(\"log (x)\")\n",
    "\n",
    "# let's set the x-axis ticks and their text (in an awful way...)\n",
    "plt.xticks(range(0, 151, 50), [\"zero\", \"fifty\", \"one hundred\", \"one hundred and fifty\"], size='small')\n",
    "\n",
    "# fancy a grid?\n",
    "plt.grid(True)"
   ]
  },
  {
   "cell_type": "markdown",
   "metadata": {},
   "source": [
    "You can give the plot a **main title** and add a **legend**"
   ]
  },
  {
   "cell_type": "code",
   "execution_count": 48,
   "metadata": {},
   "outputs": [
    {
     "data": {
      "text/plain": [
       "[<matplotlib.lines.Line2D at 0x11451de80>]"
      ]
     },
     "execution_count": 48,
     "metadata": {},
     "output_type": "execute_result"
    },
    {
     "data": {
      "text/plain": [
       "[<matplotlib.lines.Line2D at 0x11452f070>]"
      ]
     },
     "execution_count": 48,
     "metadata": {},
     "output_type": "execute_result"
    },
    {
     "data": {
      "text/plain": [
       "[<matplotlib.lines.Line2D at 0x11452f250>]"
      ]
     },
     "execution_count": 48,
     "metadata": {},
     "output_type": "execute_result"
    },
    {
     "data": {
      "text/plain": [
       "Text(0.5, 1.0, 'Logarithms Comparison')"
      ]
     },
     "execution_count": 48,
     "metadata": {},
     "output_type": "execute_result"
    },
    {
     "data": {
      "text/plain": [
       "<matplotlib.legend.Legend at 0x1144f2280>"
      ]
     },
     "execution_count": 48,
     "metadata": {},
     "output_type": "execute_result"
    },
    {
     "data": {
      "image/png": "[encoded data removed]",
      "text/plain": [
       "<Figure size 640x480 with 1 Axes>"
      ]
     },
     "metadata": {},
     "output_type": "display_data"
    }
   ],
   "source": [
    "plt.plot(x, np.log10(x))\n",
    "plt.plot(x, np.log(x))\n",
    "plt.plot(x, np.log2(x))\n",
    "\n",
    "# create the main title\n",
    "plt.title('Logarithms Comparison')\n",
    "\n",
    "# add a legend\n",
    "plt.legend(['base 10', 'natural', 'base 2'])"
   ]
  },
  {
   "cell_type": "markdown",
   "metadata": {},
   "source": [
    "You can also **annotate** some points that may be of any interest (see [this tutorial](https://matplotlib.org/users/annotations_intro.html))"
   ]
  },
  {
   "cell_type": "code",
   "execution_count": 49,
   "metadata": {},
   "outputs": [
    {
     "data": {
      "text/plain": [
       "[<matplotlib.lines.Line2D at 0x1145c99a0>]"
      ]
     },
     "execution_count": 49,
     "metadata": {},
     "output_type": "execute_result"
    },
    {
     "data": {
      "text/plain": [
       "Text(35, 2, \"that's log(20) !\")"
      ]
     },
     "execution_count": 49,
     "metadata": {},
     "output_type": "execute_result"
    },
    {
     "data": {
      "image/png": "[encoded data removed]",
      "text/plain": [
       "<Figure size 640x480 with 1 Axes>"
      ]
     },
     "metadata": {},
     "output_type": "display_data"
    }
   ],
   "source": [
    "plt.plot(x, y)\n",
    "plt.annotate(\"that's log(20) !\", xy = (20, np.log(20)), xytext = (35, 2), \n",
    "             arrowprops=dict(facecolor='r', edgecolor='None', shrink=0.1))"
   ]
  },
  {
   "cell_type": "markdown",
   "metadata": {},
   "source": [
    "##### Bar plots\n",
    "\n",
    "Unfortunately, humans are quite bad at comparing angles, so a better way to compare the frequencies of categorical data is to use bar plots. In these graphs:\n",
    "\n",
    "- every bar is associated with a given value\n",
    "\n",
    "\n",
    "- the height of each bar is proportional to the frequency of a given value\n",
    "\n",
    "\n",
    "- all the bars have the same width\n",
    "\n",
    "These plots can be drawn by using the [`bar()`](https://matplotlib.org/api/pyplot_api.html#matplotlib.pyplot.bar) or the [`barh()](https://matplotlib.org/api/pyplot_api.html#matplotlib.pyplot.barh) functions"
   ]
  },
  {
   "cell_type": "code",
   "execution_count": 50,
   "metadata": {},
   "outputs": [],
   "source": [
    "import string\n",
    "\n",
    "n = 12\n",
    "x = np.arange(n)\n",
    "y = np.random.uniform(0.5, 1.0, n)"
   ]
  },
  {
   "cell_type": "code",
   "execution_count": 51,
   "metadata": {},
   "outputs": [
    {
     "data": {
      "text/plain": [
       "<BarContainer object of 12 artists>"
      ]
     },
     "execution_count": 51,
     "metadata": {},
     "output_type": "execute_result"
    },
    {
     "data": {
      "text/plain": [
       "([<matplotlib.axis.XTick at 0x1146294f0>,\n",
       "  <matplotlib.axis.XTick at 0x1146292b0>,\n",
       "  <matplotlib.axis.XTick at 0x11461fd00>,\n",
       "  <matplotlib.axis.XTick at 0x114668e80>,\n",
       "  <matplotlib.axis.XTick at 0x114677970>,\n",
       "  <matplotlib.axis.XTick at 0x114677e80>,\n",
       "  <matplotlib.axis.XTick at 0x11467f970>,\n",
       "  <matplotlib.axis.XTick at 0x114684460>,\n",
       "  <matplotlib.axis.XTick at 0x114684f10>,\n",
       "  <matplotlib.axis.XTick at 0x114689a00>,\n",
       "  <matplotlib.axis.XTick at 0x114668970>,\n",
       "  <matplotlib.axis.XTick at 0x1146922b0>],\n",
       " [Text(0, 0, 'A'),\n",
       "  Text(1, 0, 'B'),\n",
       "  Text(2, 0, 'C'),\n",
       "  Text(3, 0, 'D'),\n",
       "  Text(4, 0, 'E'),\n",
       "  Text(5, 0, 'F'),\n",
       "  Text(6, 0, 'G'),\n",
       "  Text(7, 0, 'H'),\n",
       "  Text(8, 0, 'I'),\n",
       "  Text(9, 0, 'J'),\n",
       "  Text(10, 0, 'K'),\n",
       "  Text(11, 0, 'L')])"
      ]
     },
     "execution_count": 51,
     "metadata": {},
     "output_type": "execute_result"
    },
    {
     "data": {
      "image/png": "[encoded data removed]",
      "text/plain": [
       "<Figure size 640x480 with 1 Axes>"
      ]
     },
     "metadata": {},
     "output_type": "display_data"
    }
   ],
   "source": [
    "# vertical barplot\n",
    "plt.bar(x, y)\n",
    "plt.xticks(x, list(string.ascii_uppercase[:12]), size='small') # let's use some random letters for each value of a variable"
   ]
  },
  {
   "cell_type": "code",
   "execution_count": 52,
   "metadata": {},
   "outputs": [
    {
     "data": {
      "text/plain": [
       "<BarContainer object of 12 artists>"
      ]
     },
     "execution_count": 52,
     "metadata": {},
     "output_type": "execute_result"
    },
    {
     "data": {
      "text/plain": [
       "([<matplotlib.axis.YTick at 0x1146d1340>,\n",
       "  <matplotlib.axis.YTick at 0x1146caca0>,\n",
       "  <matplotlib.axis.YTick at 0x1146c3e20>,\n",
       "  <matplotlib.axis.YTick at 0x11470caf0>,\n",
       "  <matplotlib.axis.YTick at 0x114718310>,\n",
       "  <matplotlib.axis.YTick at 0x114718dc0>,\n",
       "  <matplotlib.axis.YTick at 0x11471e8b0>,\n",
       "  <matplotlib.axis.YTick at 0x1147233a0>,\n",
       "  <matplotlib.axis.YTick at 0x11471ee20>,\n",
       "  <matplotlib.axis.YTick at 0x11470cee0>,\n",
       "  <matplotlib.axis.YTick at 0x11472b910>,\n",
       "  <matplotlib.axis.YTick at 0x11472f400>],\n",
       " [Text(0, 0, 'A'),\n",
       "  Text(0, 1, 'B'),\n",
       "  Text(0, 2, 'C'),\n",
       "  Text(0, 3, 'D'),\n",
       "  Text(0, 4, 'E'),\n",
       "  Text(0, 5, 'F'),\n",
       "  Text(0, 6, 'G'),\n",
       "  Text(0, 7, 'H'),\n",
       "  Text(0, 8, 'I'),\n",
       "  Text(0, 9, 'J'),\n",
       "  Text(0, 10, 'K'),\n",
       "  Text(0, 11, 'L')])"
      ]
     },
     "execution_count": 52,
     "metadata": {},
     "output_type": "execute_result"
    },
    {
     "data": {
      "image/png": "[encoded data removed]",
      "text/plain": [
       "<Figure size 640x480 with 1 Axes>"
      ]
     },
     "metadata": {},
     "output_type": "display_data"
    }
   ],
   "source": [
    "# horizontal barplot\n",
    "plt.barh(x, y)\n",
    "plt.yticks(x, list(string.ascii_uppercase[:12]), size='small')"
   ]
  },
  {
   "cell_type": "markdown",
   "metadata": {
    "collapsed": true,
    "jupyter": {
     "outputs_hidden": true
    }
   },
   "source": [
    "##### Histograms\n",
    "\n",
    "Roughly speaking, histogram are for continuous (a.k.a. numerical) variables what barplots are for categorical variables. Also in this kind of plot, indeed, values are represented by means of bars. However:\n",
    "\n",
    "\n",
    "- each bar is associated with a bin (i.e. an interval of values)\n",
    "\n",
    "\n",
    "- the area inside the bars (rather than their height) is proportional to the frequency of a value or of a set of values\n",
    "\n",
    "\n",
    "- the width of each bar is proportional to the bin size.\n",
    "\n",
    "\n",
    "\n",
    "The [`hist()`](https://matplotlib.org/api/pyplot_api.html#matplotlib.pyplot.hist) function implements most of the functionalities you'll need to plot histograms."
   ]
  },
  {
   "cell_type": "code",
   "execution_count": 53,
   "metadata": {},
   "outputs": [],
   "source": [
    "data = np.random.normal(-1, 1, 10000)"
   ]
  },
  {
   "cell_type": "code",
   "execution_count": 54,
   "metadata": {},
   "outputs": [
    {
     "data": {
      "image/png": "[encoded data removed]",
      "text/plain": [
       "<Figure size 640x480 with 1 Axes>"
      ]
     },
     "metadata": {},
     "output_type": "display_data"
    }
   ],
   "source": [
    "a = plt.hist(data, density = True, edgecolor='black')"
   ]
  },
  {
   "cell_type": "markdown",
   "metadata": {},
   "source": [
    "the `bins` argument allows us to specify in how many bins we want to organize our values:"
   ]
  },
  {
   "cell_type": "code",
   "execution_count": 55,
   "metadata": {},
   "outputs": [
    {
     "data": {
      "text/plain": [
       "(array([0.00197628, 0.00197628, 0.00263504, 0.00395256, 0.0032938 ,\n",
       "        0.01054017, 0.01383397, 0.01778653, 0.02766793, 0.05006579,\n",
       "        0.05665339, 0.07378116, 0.08761513, 0.13504587, 0.16073752,\n",
       "        0.18379414, 0.21409711, 0.26284538, 0.32608637, 0.30039472,\n",
       "        0.37746968, 0.39855001, 0.38998612, 0.40184381, 0.3853748 ,\n",
       "        0.33728529, 0.35441306, 0.33530901, 0.31159364, 0.25098769,\n",
       "        0.22793108, 0.222661  , 0.14690356, 0.11330678, 0.12318818,\n",
       "        0.07443992, 0.07114612, 0.03886686, 0.03030298, 0.02305661,\n",
       "        0.01185769, 0.00988141, 0.00592884, 0.0032938 , 0.00395256,\n",
       "        0.00263504, 0.        , 0.        , 0.        , 0.00065876]),\n",
       " array([-4.56578325, -4.41398298, -4.2621827 , -4.11038243, -3.95858215,\n",
       "        -3.80678188, -3.65498161, -3.50318133, -3.35138106, -3.19958079,\n",
       "        -3.04778051, -2.89598024, -2.74417997, -2.59237969, -2.44057942,\n",
       "        -2.28877915, -2.13697887, -1.9851786 , -1.83337833, -1.68157805,\n",
       "        -1.52977778, -1.3779775 , -1.22617723, -1.07437696, -0.92257668,\n",
       "        -0.77077641, -0.61897614, -0.46717586, -0.31537559, -0.16357532,\n",
       "        -0.01177504,  0.14002523,  0.2918255 ,  0.44362578,  0.59542605,\n",
       "         0.74722632,  0.8990266 ,  1.05082687,  1.20262715,  1.35442742,\n",
       "         1.50622769,  1.65802797,  1.80982824,  1.96162851,  2.11342879,\n",
       "         2.26522906,  2.41702933,  2.56882961,  2.72062988,  2.87243015,\n",
       "         3.02423043]),\n",
       " <BarContainer object of 50 artists>)"
      ]
     },
     "execution_count": 55,
     "metadata": {},
     "output_type": "execute_result"
    },
    {
     "data": {
      "image/png": "[encoded data removed]",
      "text/plain": [
       "<Figure size 640x480 with 1 Axes>"
      ]
     },
     "metadata": {},
     "output_type": "display_data"
    }
   ],
   "source": [
    "plt.hist(data, bins = 50, density = True, edgecolor='black')"
   ]
  },
  {
   "cell_type": "code",
   "execution_count": 56,
   "metadata": {},
   "outputs": [
    {
     "data": {
      "text/plain": [
       "(array([0.00395256, 0.        , 0.00197628, 0.00197628, 0.00197628,\n",
       "        0.00197628, 0.00395256, 0.00197628, 0.00197628, 0.00592884,\n",
       "        0.00395256, 0.00197628, 0.00395256, 0.00395256, 0.00197628,\n",
       "        0.00790512, 0.01383397, 0.00988141, 0.01185769, 0.01778653,\n",
       "        0.01185769, 0.00790512, 0.01581025, 0.02964422, 0.02371537,\n",
       "        0.03359678, 0.02569165, 0.04545446, 0.05731215, 0.04743074,\n",
       "        0.04940703, 0.05335959, 0.06719355, 0.05928843, 0.05731215,\n",
       "        0.10474289, 0.06719355, 0.07707496, 0.11857686, 0.14229223,\n",
       "        0.14822108, 0.1146243 , 0.13636339, 0.17391273, 0.17193645,\n",
       "        0.16007876, 0.1877467 , 0.20355695, 0.2292486 , 0.17786529,\n",
       "        0.23517744, 0.23715372, 0.25296397, 0.29841843, 0.31027612,\n",
       "        0.31818124, 0.34980174, 0.30632356, 0.29644215, 0.29841843,\n",
       "        0.40909017, 0.34980174, 0.37351711, 0.38339852, 0.42490042,\n",
       "        0.38735108, 0.40118505, 0.36363571, 0.40513761, 0.39920877,\n",
       "        0.39327992, 0.41304273, 0.37746968, 0.37549339, 0.40316133,\n",
       "        0.33399149, 0.3537543 , 0.32411009, 0.39130364, 0.34189662,\n",
       "        0.33003893, 0.35968315, 0.36165943, 0.28458447, 0.33794406,\n",
       "        0.31818124, 0.27865562, 0.24901141, 0.21146207, 0.29248959,\n",
       "        0.20948579, 0.24703513, 0.22727232, 0.25296397, 0.22727232,\n",
       "        0.1877467 , 0.17588901, 0.13043455, 0.13438711, 0.1245057 ,\n",
       "        0.1146243 , 0.10079033, 0.12252942, 0.13043455, 0.11660058,\n",
       "        0.09288521, 0.07509868, 0.05533587, 0.08102752, 0.07905124,\n",
       "        0.05335959, 0.04545446, 0.03754934, 0.03359678, 0.0415019 ,\n",
       "        0.02569165, 0.02371537, 0.02766793, 0.01976281, 0.02173909,\n",
       "        0.01581025, 0.00988141, 0.00988141, 0.00790512, 0.00790512,\n",
       "        0.01383397, 0.00988141, 0.00592884, 0.00197628, 0.00592884,\n",
       "        0.        , 0.00395256, 0.00395256, 0.00395256, 0.00395256,\n",
       "        0.00395256, 0.00197628, 0.00197628, 0.        , 0.        ,\n",
       "        0.        , 0.        , 0.        , 0.        , 0.        ,\n",
       "        0.        , 0.        , 0.        , 0.        , 0.00197628]),\n",
       " array([-4.56578325, -4.51518316, -4.46458307, -4.41398298, -4.36338288,\n",
       "        -4.31278279, -4.2621827 , -4.21158261, -4.16098252, -4.11038243,\n",
       "        -4.05978234, -4.00918225, -3.95858215, -3.90798206, -3.85738197,\n",
       "        -3.80678188, -3.75618179, -3.7055817 , -3.65498161, -3.60438152,\n",
       "        -3.55378143, -3.50318133, -3.45258124, -3.40198115, -3.35138106,\n",
       "        -3.30078097, -3.25018088, -3.19958079, -3.1489807 , -3.0983806 ,\n",
       "        -3.04778051, -2.99718042, -2.94658033, -2.89598024, -2.84538015,\n",
       "        -2.79478006, -2.74417997, -2.69357988, -2.64297978, -2.59237969,\n",
       "        -2.5417796 , -2.49117951, -2.44057942, -2.38997933, -2.33937924,\n",
       "        -2.28877915, -2.23817905, -2.18757896, -2.13697887, -2.08637878,\n",
       "        -2.03577869, -1.9851786 , -1.93457851, -1.88397842, -1.83337833,\n",
       "        -1.78277823, -1.73217814, -1.68157805, -1.63097796, -1.58037787,\n",
       "        -1.52977778, -1.47917769, -1.4285776 , -1.3779775 , -1.32737741,\n",
       "        -1.27677732, -1.22617723, -1.17557714, -1.12497705, -1.07437696,\n",
       "        -1.02377687, -0.97317678, -0.92257668, -0.87197659, -0.8213765 ,\n",
       "        -0.77077641, -0.72017632, -0.66957623, -0.61897614, -0.56837605,\n",
       "        -0.51777595, -0.46717586, -0.41657577, -0.36597568, -0.31537559,\n",
       "        -0.2647755 , -0.21417541, -0.16357532, -0.11297523, -0.06237513,\n",
       "        -0.01177504,  0.03882505,  0.08942514,  0.14002523,  0.19062532,\n",
       "         0.24122541,  0.2918255 ,  0.3424256 ,  0.39302569,  0.44362578,\n",
       "         0.49422587,  0.54482596,  0.59542605,  0.64602614,  0.69662623,\n",
       "         0.74722632,  0.79782642,  0.84842651,  0.8990266 ,  0.94962669,\n",
       "         1.00022678,  1.05082687,  1.10142696,  1.15202705,  1.20262715,\n",
       "         1.25322724,  1.30382733,  1.35442742,  1.40502751,  1.4556276 ,\n",
       "         1.50622769,  1.55682778,  1.60742787,  1.65802797,  1.70862806,\n",
       "         1.75922815,  1.80982824,  1.86042833,  1.91102842,  1.96162851,\n",
       "         2.0122286 ,  2.0628287 ,  2.11342879,  2.16402888,  2.21462897,\n",
       "         2.26522906,  2.31582915,  2.36642924,  2.41702933,  2.46762943,\n",
       "         2.51822952,  2.56882961,  2.6194297 ,  2.67002979,  2.72062988,\n",
       "         2.77122997,  2.82183006,  2.87243015,  2.92303025,  2.97363034,\n",
       "         3.02423043]),\n",
       " <BarContainer object of 150 artists>)"
      ]
     },
     "execution_count": 56,
     "metadata": {},
     "output_type": "execute_result"
    },
    {
     "data": {
      "image/png": "[encoded data removed]",
      "text/plain": [
       "<Figure size 640x480 with 1 Axes>"
      ]
     },
     "metadata": {},
     "output_type": "display_data"
    }
   ],
   "source": [
    "# we won't draw the edge of each bar\n",
    "plt.hist(data, bins = 150, density = True)"
   ]
  },
  {
   "cell_type": "markdown",
   "metadata": {},
   "source": [
    "We set `density = True` in order to plot the **frequency density** of a bin (i.e. the relative frequency of a bin divided by its width), rather than its relative (or absolute) frequency (as it is in the graph bar). \n",
    "\n",
    "When the bins are equally spaced, the relative (or absolute) frequency and the frequency density are proportional. However, this proportionality is lost when the histograms plots the density of **unequally spaced** bins (i.e. when the value of the argument `bins` is a sequence)."
   ]
  },
  {
   "cell_type": "code",
   "execution_count": 57,
   "metadata": {},
   "outputs": [
    {
     "data": {
      "image/png": "[encoded data removed]",
      "text/plain": [
       "<Figure size 640x480 with 1 Axes>"
      ]
     },
     "metadata": {},
     "output_type": "display_data"
    }
   ],
   "source": [
    "n, bins, patches = plt.hist(data, bins = 999, density = False)"
   ]
  },
  {
   "cell_type": "code",
   "execution_count": 58,
   "metadata": {},
   "outputs": [
    {
     "data": {
      "image/png": "[encoded data removed]",
      "text/plain": [
       "<Figure size 640x480 with 1 Axes>"
      ]
     },
     "metadata": {},
     "output_type": "display_data"
    }
   ],
   "source": [
    "# equal bins ('density' doesn't matter for overall 'shape')\n",
    "n, bins, patches = plt.hist(data, bins = 9, density = False,  edgecolor='black')\n",
    "patches[4].set_fc(\"r\")\n",
    "patches[5].set_fc(\"r\")\n",
    "patches[6].set_fc(\"r\")\n",
    "patches[7].set_fc(\"r\")\n",
    "patches[8].set_fc(\"r\")"
   ]
  },
  {
   "cell_type": "code",
   "execution_count": 59,
   "metadata": {},
   "outputs": [
    {
     "data": {
      "image/png": "[encoded data removed]",
      "text/plain": [
       "<Figure size 640x480 with 1 Axes>"
      ]
     },
     "metadata": {},
     "output_type": "display_data"
    }
   ],
   "source": [
    "# unequal bins. density = False (relative frequency)\n",
    "n, bins, patches = plt.hist(data, bins = np.array([min(data), -3, -2, -1, max(data)]), density = False,  edgecolor='black')\n",
    "patches[3].set_fc(\"r\")"
   ]
  },
  {
   "cell_type": "code",
   "execution_count": 60,
   "metadata": {},
   "outputs": [
    {
     "data": {
      "image/png": "[encoded data removed]",
      "text/plain": [
       "<Figure size 640x480 with 1 Axes>"
      ]
     },
     "metadata": {},
     "output_type": "display_data"
    }
   ],
   "source": [
    "# unequal bins. density = True (frequency density)\n",
    "n, bins, patches = plt.hist(data, bins = np.array([min(data), -3, -2, -1, max(data)]), density = True, edgecolor='black')\n",
    "patches[3].set_fc(\"r\")"
   ]
  },
  {
   "cell_type": "markdown",
   "metadata": {},
   "source": [
    "##### Drawing several plots per canvas\n",
    "\n",
    "Multiple plots per canvas can be drawn by using the function `subplot()` to setup a grid and activate one plot per time"
   ]
  },
  {
   "cell_type": "code",
   "execution_count": 61,
   "metadata": {},
   "outputs": [
    {
     "name": "stdout",
     "output_type": "stream",
     "text": [
      "Using matplotlib backend: <object object at 0x105a270e0>\n"
     ]
    }
   ],
   "source": [
    "%matplotlib auto\n",
    "\n",
    "x = np.arange(1, 150)\n",
    "y_base10_log = np.log10(x)\n",
    "y_natural_log = np.log(x)\n",
    "y_base2_log = np.log2(x)"
   ]
  },
  {
   "cell_type": "code",
   "execution_count": 62,
   "metadata": {},
   "outputs": [
    {
     "data": {
      "text/plain": [
       "<Axes: >"
      ]
     },
     "execution_count": 62,
     "metadata": {},
     "output_type": "execute_result"
    },
    {
     "data": {
      "text/plain": [
       "[<matplotlib.lines.Line2D at 0x124458610>]"
      ]
     },
     "execution_count": 62,
     "metadata": {},
     "output_type": "execute_result"
    },
    {
     "data": {
      "text/plain": [
       "Text(0.5, 1.0, 'Base 10 Log')"
      ]
     },
     "execution_count": 62,
     "metadata": {},
     "output_type": "execute_result"
    }
   ],
   "source": [
    "# Set up a 2 x 2 grid, set the first plot as active and draw the first curve\n",
    "plt.subplot(2, 2, 1)\n",
    "plt.plot(x, y_base10_log)\n",
    "plt.title('Base 10 Log')\n",
    "\n",
    "# uncomment to compare subplots with the same y-axis limits\n",
    "# plt.ylim(0,8) "
   ]
  },
  {
   "cell_type": "code",
   "execution_count": 63,
   "metadata": {},
   "outputs": [
    {
     "data": {
      "text/plain": [
       "<Axes: >"
      ]
     },
     "execution_count": 63,
     "metadata": {},
     "output_type": "execute_result"
    },
    {
     "data": {
      "text/plain": [
       "[<matplotlib.lines.Line2D at 0x1243e7820>]"
      ]
     },
     "execution_count": 63,
     "metadata": {},
     "output_type": "execute_result"
    },
    {
     "data": {
      "text/plain": [
       "Text(0.5, 1.0, 'Natural Log')"
      ]
     },
     "execution_count": 63,
     "metadata": {},
     "output_type": "execute_result"
    }
   ],
   "source": [
    "# activate the second subplot and draw the second curve\n",
    "plt.subplot(2, 2, 2)\n",
    "plt.plot(x, y_natural_log)\n",
    "plt.title('Natural Log')\n",
    "\n",
    "# uncomment to compare subplots with the same y-axis limits\n",
    "# plt.ylim(0,8) "
   ]
  },
  {
   "cell_type": "code",
   "execution_count": 64,
   "metadata": {},
   "outputs": [
    {
     "data": {
      "text/plain": [
       "<Axes: >"
      ]
     },
     "execution_count": 64,
     "metadata": {},
     "output_type": "execute_result"
    },
    {
     "data": {
      "text/plain": [
       "[<matplotlib.lines.Line2D at 0x137e6a250>]"
      ]
     },
     "execution_count": 64,
     "metadata": {},
     "output_type": "execute_result"
    },
    {
     "data": {
      "text/plain": [
       "Text(0.5, 1.0, 'Base 2 Log')"
      ]
     },
     "execution_count": 64,
     "metadata": {},
     "output_type": "execute_result"
    }
   ],
   "source": [
    "# activate the third subplot and draw the third curve\n",
    "plt.subplot(2, 2, 3)\n",
    "plt.plot(x, y_base2_log)\n",
    "plt.title('Base 2 Log')\n",
    "\n",
    "# uncomment to compare subplots with the same y-axis limits\n",
    "# plt.ylim(0,8) "
   ]
  },
  {
   "cell_type": "code",
   "execution_count": 65,
   "metadata": {},
   "outputs": [],
   "source": [
    "plt.tight_layout()  # adjust spacing between subplots to minimize the overlaps.\n",
    "plt.show()"
   ]
  },
  {
   "cell_type": "markdown",
   "metadata": {},
   "source": [
    "> **Further Reading:**\n",
    ">\n",
    "> Tutorial introductions to the Python scientific computing libraries (including other libraries that we'll briefly use in this class, such as \"SciPy\", \"Pandas\" and \"scikit-learn\") can be found in:\n",
    ">\n",
    "> - the [SciPy Lecture Notes](http://www.scipy-lectures.org/) ( the [pdf version](http://www.scipy-lectures.org/_downloads/ScipyLectures-simple.pdf)).\n",
    ">\n",
    ">\n",
    "> - The `python-course.eu` section dedicated to [Numerical Python](https://www.python-course.eu/numerical_programming.php).\n",
    ">\n",
    ">\n",
    "> - For a gentle introduction to the main matplotlib modules, have a look at the [beginner's guide](https://matplotlib.org/users/beginner.html) available on `matplotlib.org`.\n",
    ">\n",
    ">\n",
    "> - An excellent plotting package built on top of matplotlib is called [`Seaborn`](https://seaborn.pydata.org)."
   ]
  },
  {
   "cell_type": "markdown",
   "metadata": {},
   "source": [
    "### Exercise 1.\n",
    "\n",
    "Plot the sine and the cosine waves in the same graph"
   ]
  },
  {
   "cell_type": "code",
   "execution_count": 66,
   "metadata": {},
   "outputs": [],
   "source": [
    "# your code here"
   ]
  },
  {
   "cell_type": "markdown",
   "metadata": {},
   "source": [
    "### Exercise 2.\n",
    "\n",
    "Read the file data/adams-hhgttg.txt and:\n",
    "\n",
    "\n",
    "- count the occurrences of each word.\n",
    "\n",
    "\n",
    "- Create a graph plotting word frequencies (on the **y-axis**) by words sorted by frequency (that is, you list the corpus words from the most frequency to the least frequent words **x-axis**). For clarity, please do not report the words in the x-axis label.\n",
    "\n",
    "\n",
    "- In a similar graph, plot the frequencies of the top-frequent 25 words."
   ]
  },
  {
   "cell_type": "code",
   "execution_count": 67,
   "metadata": {},
   "outputs": [],
   "source": [
    "# your code here"
   ]
  },
  {
   "cell_type": "markdown",
   "metadata": {
    "slideshow": {
     "slide_type": "skip"
    }
   },
   "source": [
    "---"
   ]
  }
 ],
 "metadata": {
  "kernelspec": {
   "display_name": "Python 3 (ipykernel)",
   "language": "python",
   "name": "python3"
  },
  "language_info": {
   "codemirror_mode": {
    "name": "ipython",
    "version": 3
   },
   "file_extension": ".py",
   "mimetype": "text/x-python",
   "name": "python",
   "nbconvert_exporter": "python",
   "pygments_lexer": "ipython3",
   "version": "3.8.18"
  },
  "toc": {
   "base_numbering": 1,
   "nav_menu": {},
   "number_sections": true,
   "sideBar": true,
   "skip_h1_title": false,
   "title_cell": "Table of Contents",
   "title_sidebar": "Contents",
   "toc_cell": false,
   "toc_position": {},
   "toc_section_display": true,
   "toc_window_display": true
  }
 },
 "nbformat": 4,
 "nbformat_minor": 4
}
